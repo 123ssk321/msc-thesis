{
 "cells": [
  {
   "cell_type": "markdown",
   "source": [
    "# Import libraries and functions"
   ],
   "metadata": {
    "collapsed": false
   },
   "id": "80d683ecdb92a171"
  },
  {
   "cell_type": "code",
   "source": [
    "import pandas as pd\n",
    "import numpy as np\n",
    "from datetime import datetime, timedelta\n",
    "from tqdm.notebook import tqdm\n",
    "from math import pi as PI"
   ],
   "metadata": {
    "collapsed": false,
    "ExecuteTime": {
     "end_time": "2024-11-01T20:30:57.853950Z",
     "start_time": "2024-11-01T20:30:57.793266Z"
    }
   },
   "id": "a5ab5772792d52a3",
   "outputs": [],
   "execution_count": 1
  },
  {
   "cell_type": "markdown",
   "source": [
    "## Initialize Orekit and import Orekit libraries"
   ],
   "metadata": {
    "collapsed": false
   },
   "id": "c95b75aa4b020887"
  },
  {
   "cell_type": "code",
   "source": [
    "import orekit\n",
    "vm = orekit.initVM()\n",
    "print ('Java version:',vm.java_version)\n",
    "print ('Orekit version:', orekit.VERSION)"
   ],
   "metadata": {
    "collapsed": false,
    "ExecuteTime": {
     "end_time": "2024-11-01T20:31:16.880875Z",
     "start_time": "2024-11-01T20:31:14.048162Z"
    }
   },
   "id": "bd13a790788513a9",
   "outputs": [
    {
     "name": "stdout",
     "output_type": "stream",
     "text": [
      "Java version: 1.8.0_152-release\n",
      "Orekit version: 12.0.1\n"
     ]
    }
   ],
   "execution_count": 2
  },
  {
   "cell_type": "code",
   "source": [
    "from orekit.pyhelpers import setup_orekit_curdir, download_orekit_data_curdir\n",
    "setup_orekit_curdir('../../orekit-data.zip')"
   ],
   "metadata": {
    "collapsed": false,
    "ExecuteTime": {
     "end_time": "2024-11-01T20:31:16.898371Z",
     "start_time": "2024-11-01T20:31:16.882728Z"
    }
   },
   "id": "8861a0825a69b4f2",
   "outputs": [],
   "execution_count": 3
  },
  {
   "cell_type": "code",
   "source": [
    "from java.util import Arrays\n",
    "from orekit import JArray_double"
   ],
   "metadata": {
    "collapsed": false,
    "ExecuteTime": {
     "end_time": "2024-11-01T20:31:16.913994Z",
     "start_time": "2024-11-01T20:31:16.898371Z"
    }
   },
   "id": "9895c96eb7b1cfd",
   "outputs": [],
   "execution_count": 4
  },
  {
   "cell_type": "code",
   "source": [
    "from org.orekit.propagation.analytical.tle import TLE, TLEPropagator\n",
    "from org.orekit.utils import Constants"
   ],
   "metadata": {
    "collapsed": false,
    "ExecuteTime": {
     "end_time": "2024-11-01T20:31:17.163993Z",
     "start_time": "2024-11-01T20:31:17.133047Z"
    }
   },
   "id": "14f00da3f6027a31",
   "outputs": [],
   "execution_count": 5
  },
  {
   "cell_type": "code",
   "source": [
    "# Define list of dates\n",
    "today = datetime(2024, 1, 28).date()\n",
    "days_prior = 32\n",
    "one_month_ago = today - timedelta(days=days_prior)\n",
    "dates = [d.strftime(\"%Y-%m-%d\") for d in (today - timedelta(n) for n in range((today - one_month_ago).days))]\n",
    "dates.sort()\n",
    "print(f'Period dates: {dates}')"
   ],
   "metadata": {
    "collapsed": false,
    "ExecuteTime": {
     "end_time": "2024-11-01T20:40:41.621592Z",
     "start_time": "2024-11-01T20:40:41.605992Z"
    }
   },
   "id": "9702590d42ed2f59",
   "outputs": [
    {
     "name": "stdout",
     "output_type": "stream",
     "text": [
      "Period dates: ['2023-12-28', '2023-12-29', '2023-12-30', '2023-12-31', '2024-01-01', '2024-01-02', '2024-01-03', '2024-01-04', '2024-01-05', '2024-01-06', '2024-01-07', '2024-01-08', '2024-01-09', '2024-01-10', '2024-01-11', '2024-01-12', '2024-01-13', '2024-01-14', '2024-01-15', '2024-01-16', '2024-01-17', '2024-01-18', '2024-01-19', '2024-01-20', '2024-01-21', '2024-01-22', '2024-01-23', '2024-01-24', '2024-01-25', '2024-01-26', '2024-01-27', '2024-01-28']\n"
     ]
    }
   ],
   "execution_count": 12
  },
  {
   "metadata": {},
   "cell_type": "markdown",
   "source": "# Load Space-Track TLE data from 2024-01-28",
   "id": "296ec33e75ba44c4"
  },
  {
   "metadata": {},
   "cell_type": "code",
   "outputs": [
    {
     "name": "stderr",
     "output_type": "stream",
     "text": [
      "C:\\Users\\DMSS_\\AppData\\Local\\Temp\\ipykernel_19660\\3728227354.py:1: DtypeWarning: Columns (34) have mixed types. Specify dtype option on import or set low_memory=False.\n",
      "  df = pd.read_csv('../datasets/space-track_2024-01-28.csv', memory_map=True)\n"
     ]
    },
    {
     "data": {
      "text/plain": "   CCSDS_OMM_VERS                            COMMENT        CREATION_DATE  \\\n0             2.0  GENERATED VIA SPACE-TRACK.ORG API  2024-01-28T06:26:18   \n1             2.0  GENERATED VIA SPACE-TRACK.ORG API  2024-01-28T06:16:18   \n2             2.0  GENERATED VIA SPACE-TRACK.ORG API  2024-01-28T07:06:19   \n3             2.0  GENERATED VIA SPACE-TRACK.ORG API  2024-01-28T06:56:19   \n4             2.0  GENERATED VIA SPACE-TRACK.ORG API  2024-01-28T17:53:48   \n\n  ORIGINATOR     OBJECT_NAME   OBJECT_ID CENTER_NAME REF_FRAME TIME_SYSTEM  \\\n0    18 SPCS   STARLINK-1550  2020-062AS       EARTH      TEME         UTC   \n1    18 SPCS  STARLINK-30875   2023-170U       EARTH      TEME         UTC   \n2    18 SPCS  STARLINK-30852   2023-177Y       EARTH      TEME         UTC   \n3    18 SPCS  STARLINK-31104   2023-211F       EARTH      TEME         UTC   \n4    18 SPCS     COSMOS 1857   1987-051F       EARTH      TEME         UTC   \n\n  MEAN_ELEMENT_THEORY  ... RCS_SIZE  COUNTRY_CODE  LAUNCH_DATE   SITE  \\\n0                SGP4  ...    LARGE            US   2020-09-03  AFETR   \n1                SGP4  ...    LARGE            US   2023-11-03  AFETR   \n2                SGP4  ...    LARGE            US   2023-11-18  AFETR   \n3                SGP4  ...    LARGE            US   2023-12-29  AFETR   \n4                SGP4  ...   MEDIUM           CIS   1987-06-16  PKMTR   \n\n   DECAY_DATE     FILE      GP_ID         TLE_LINE0  \\\n0         NaN  4173044  247965759   0 STARLINK-1550   \n1         NaN  4173001  247965588  0 STARLINK-30875   \n2         NaN  4173264  247971200  0 STARLINK-30852   \n3         NaN  4173188  247970554  0 STARLINK-31104   \n4         NaN  4173554  247983793     0 COSMOS 1857   \n\n                                           TLE_LINE1  \\\n0  1 46365U 20062AS  24028.00001157  .00109337  0...   \n1  1 58224U 23170U   24028.00001157  .00051085  0...   \n2  1 58373U 23177Y   24028.00001157  .00070107  0...   \n3  1 58672U 23211F   24028.00001157 -.00023704  0...   \n4  1 18118U 87051F   24028.00001326  .00000000  0...   \n\n                                           TLE_LINE2  \n0  2 46365  53.0463 156.6338 0002343 254.9883 169...  \n1  2 58224  43.0021  68.9109 0000996 258.4165 289...  \n2  2 58373  42.9990 225.0487 0001687 266.2201 308...  \n3  2 58672  43.0002 116.5404 0001384 268.8440 113...  \n4  2 18118  74.0014 240.7666 0037903  43.2836 317...  \n\n[5 rows x 40 columns]",
      "text/html": "<div>\n<style scoped>\n    .dataframe tbody tr th:only-of-type {\n        vertical-align: middle;\n    }\n\n    .dataframe tbody tr th {\n        vertical-align: top;\n    }\n\n    .dataframe thead th {\n        text-align: right;\n    }\n</style>\n<table border=\"1\" class=\"dataframe\">\n  <thead>\n    <tr style=\"text-align: right;\">\n      <th></th>\n      <th>CCSDS_OMM_VERS</th>\n      <th>COMMENT</th>\n      <th>CREATION_DATE</th>\n      <th>ORIGINATOR</th>\n      <th>OBJECT_NAME</th>\n      <th>OBJECT_ID</th>\n      <th>CENTER_NAME</th>\n      <th>REF_FRAME</th>\n      <th>TIME_SYSTEM</th>\n      <th>MEAN_ELEMENT_THEORY</th>\n      <th>...</th>\n      <th>RCS_SIZE</th>\n      <th>COUNTRY_CODE</th>\n      <th>LAUNCH_DATE</th>\n      <th>SITE</th>\n      <th>DECAY_DATE</th>\n      <th>FILE</th>\n      <th>GP_ID</th>\n      <th>TLE_LINE0</th>\n      <th>TLE_LINE1</th>\n      <th>TLE_LINE2</th>\n    </tr>\n  </thead>\n  <tbody>\n    <tr>\n      <th>0</th>\n      <td>2.0</td>\n      <td>GENERATED VIA SPACE-TRACK.ORG API</td>\n      <td>2024-01-28T06:26:18</td>\n      <td>18 SPCS</td>\n      <td>STARLINK-1550</td>\n      <td>2020-062AS</td>\n      <td>EARTH</td>\n      <td>TEME</td>\n      <td>UTC</td>\n      <td>SGP4</td>\n      <td>...</td>\n      <td>LARGE</td>\n      <td>US</td>\n      <td>2020-09-03</td>\n      <td>AFETR</td>\n      <td>NaN</td>\n      <td>4173044</td>\n      <td>247965759</td>\n      <td>0 STARLINK-1550</td>\n      <td>1 46365U 20062AS  24028.00001157  .00109337  0...</td>\n      <td>2 46365  53.0463 156.6338 0002343 254.9883 169...</td>\n    </tr>\n    <tr>\n      <th>1</th>\n      <td>2.0</td>\n      <td>GENERATED VIA SPACE-TRACK.ORG API</td>\n      <td>2024-01-28T06:16:18</td>\n      <td>18 SPCS</td>\n      <td>STARLINK-30875</td>\n      <td>2023-170U</td>\n      <td>EARTH</td>\n      <td>TEME</td>\n      <td>UTC</td>\n      <td>SGP4</td>\n      <td>...</td>\n      <td>LARGE</td>\n      <td>US</td>\n      <td>2023-11-03</td>\n      <td>AFETR</td>\n      <td>NaN</td>\n      <td>4173001</td>\n      <td>247965588</td>\n      <td>0 STARLINK-30875</td>\n      <td>1 58224U 23170U   24028.00001157  .00051085  0...</td>\n      <td>2 58224  43.0021  68.9109 0000996 258.4165 289...</td>\n    </tr>\n    <tr>\n      <th>2</th>\n      <td>2.0</td>\n      <td>GENERATED VIA SPACE-TRACK.ORG API</td>\n      <td>2024-01-28T07:06:19</td>\n      <td>18 SPCS</td>\n      <td>STARLINK-30852</td>\n      <td>2023-177Y</td>\n      <td>EARTH</td>\n      <td>TEME</td>\n      <td>UTC</td>\n      <td>SGP4</td>\n      <td>...</td>\n      <td>LARGE</td>\n      <td>US</td>\n      <td>2023-11-18</td>\n      <td>AFETR</td>\n      <td>NaN</td>\n      <td>4173264</td>\n      <td>247971200</td>\n      <td>0 STARLINK-30852</td>\n      <td>1 58373U 23177Y   24028.00001157  .00070107  0...</td>\n      <td>2 58373  42.9990 225.0487 0001687 266.2201 308...</td>\n    </tr>\n    <tr>\n      <th>3</th>\n      <td>2.0</td>\n      <td>GENERATED VIA SPACE-TRACK.ORG API</td>\n      <td>2024-01-28T06:56:19</td>\n      <td>18 SPCS</td>\n      <td>STARLINK-31104</td>\n      <td>2023-211F</td>\n      <td>EARTH</td>\n      <td>TEME</td>\n      <td>UTC</td>\n      <td>SGP4</td>\n      <td>...</td>\n      <td>LARGE</td>\n      <td>US</td>\n      <td>2023-12-29</td>\n      <td>AFETR</td>\n      <td>NaN</td>\n      <td>4173188</td>\n      <td>247970554</td>\n      <td>0 STARLINK-31104</td>\n      <td>1 58672U 23211F   24028.00001157 -.00023704  0...</td>\n      <td>2 58672  43.0002 116.5404 0001384 268.8440 113...</td>\n    </tr>\n    <tr>\n      <th>4</th>\n      <td>2.0</td>\n      <td>GENERATED VIA SPACE-TRACK.ORG API</td>\n      <td>2024-01-28T17:53:48</td>\n      <td>18 SPCS</td>\n      <td>COSMOS 1857</td>\n      <td>1987-051F</td>\n      <td>EARTH</td>\n      <td>TEME</td>\n      <td>UTC</td>\n      <td>SGP4</td>\n      <td>...</td>\n      <td>MEDIUM</td>\n      <td>CIS</td>\n      <td>1987-06-16</td>\n      <td>PKMTR</td>\n      <td>NaN</td>\n      <td>4173554</td>\n      <td>247983793</td>\n      <td>0 COSMOS 1857</td>\n      <td>1 18118U 87051F   24028.00001326  .00000000  0...</td>\n      <td>2 18118  74.0014 240.7666 0037903  43.2836 317...</td>\n    </tr>\n  </tbody>\n</table>\n<p>5 rows × 40 columns</p>\n</div>"
     },
     "execution_count": 6,
     "metadata": {},
     "output_type": "execute_result"
    }
   ],
   "execution_count": 6,
   "source": [
    "df = pd.read_csv('../datasets/space-track_2024-01-28.csv', memory_map=True)\n",
    "df.head()"
   ],
   "id": "f84863e4d8b60c0b"
  },
  {
   "metadata": {},
   "cell_type": "markdown",
   "source": "## Drop unnecessary columns",
   "id": "9c7ae0e494f5c930"
  },
  {
   "metadata": {},
   "cell_type": "code",
   "outputs": [
    {
     "data": {
      "text/plain": "Index(['CCSDS_OMM_VERS', 'COMMENT', 'CREATION_DATE', 'ORIGINATOR',\n       'OBJECT_NAME', 'OBJECT_ID', 'CENTER_NAME', 'REF_FRAME', 'TIME_SYSTEM',\n       'MEAN_ELEMENT_THEORY', 'EPOCH', 'MEAN_MOTION', 'ECCENTRICITY',\n       'INCLINATION', 'RA_OF_ASC_NODE', 'ARG_OF_PERICENTER', 'MEAN_ANOMALY',\n       'EPHEMERIS_TYPE', 'CLASSIFICATION_TYPE', 'NORAD_CAT_ID',\n       'ELEMENT_SET_NO', 'REV_AT_EPOCH', 'BSTAR', 'MEAN_MOTION_DOT',\n       'MEAN_MOTION_DDOT', 'SEMIMAJOR_AXIS', 'PERIOD', 'APOAPSIS', 'PERIAPSIS',\n       'OBJECT_TYPE', 'RCS_SIZE', 'COUNTRY_CODE', 'LAUNCH_DATE', 'SITE',\n       'DECAY_DATE', 'FILE', 'GP_ID', 'TLE_LINE0', 'TLE_LINE1', 'TLE_LINE2'],\n      dtype='object')"
     },
     "execution_count": 7,
     "metadata": {},
     "output_type": "execute_result"
    }
   ],
   "execution_count": 7,
   "source": "df.columns",
   "id": "418d51daa6da6fb8"
  },
  {
   "metadata": {},
   "cell_type": "code",
   "outputs": [
    {
     "data": {
      "text/plain": "         CREATION_DATE     OBJECT_NAME   OBJECT_ID CENTER_NAME REF_FRAME  \\\n0  2024-01-28T06:26:18   STARLINK-1550  2020-062AS       EARTH      TEME   \n1  2024-01-28T06:16:18  STARLINK-30875   2023-170U       EARTH      TEME   \n2  2024-01-28T07:06:19  STARLINK-30852   2023-177Y       EARTH      TEME   \n3  2024-01-28T06:56:19  STARLINK-31104   2023-211F       EARTH      TEME   \n4  2024-01-28T17:53:48     COSMOS 1857   1987-051F       EARTH      TEME   \n\n  TIME_SYSTEM MEAN_ELEMENT_THEORY                       EPOCH  MEAN_MOTION  \\\n0         UTC                SGP4  2024-01-28T00:00:00.999648    15.700039   \n1         UTC                SGP4  2024-01-28T00:00:00.999648    15.025113   \n2         UTC                SGP4  2024-01-28T00:00:00.999648    15.044861   \n3         UTC                SGP4  2024-01-28T00:00:00.999648    15.259172   \n4         UTC                SGP4  2024-01-28T00:00:01.145664    12.542506   \n\n   ECCENTRICITY  ...  MEAN_MOTION_DDOT  SEMIMAJOR_AXIS   PERIOD  APOAPSIS  \\\n0      0.000234  ...               0.0        6737.023   91.720   360.466   \n1      0.000100  ...               0.0        6937.292   95.840   559.848   \n2      0.000169  ...               0.0        6931.221   95.714   554.255   \n3      0.000138  ...               0.0        6866.170   94.369   488.985   \n4      0.003790  ...               0.0        7824.903  114.810  1476.427   \n\n   PERIAPSIS OBJECT_TYPE  RCS_SIZE  DECAY_DATE  \\\n0    357.309     PAYLOAD     LARGE         NaN   \n1    558.466     PAYLOAD     LARGE         NaN   \n2    551.916     PAYLOAD     LARGE         NaN   \n3    487.085     PAYLOAD     LARGE         NaN   \n4   1417.109     PAYLOAD    MEDIUM         NaN   \n\n                                           TLE_LINE1  \\\n0  1 46365U 20062AS  24028.00001157  .00109337  0...   \n1  1 58224U 23170U   24028.00001157  .00051085  0...   \n2  1 58373U 23177Y   24028.00001157  .00070107  0...   \n3  1 58672U 23211F   24028.00001157 -.00023704  0...   \n4  1 18118U 87051F   24028.00001326  .00000000  0...   \n\n                                           TLE_LINE2  \n0  2 46365  53.0463 156.6338 0002343 254.9883 169...  \n1  2 58224  43.0021  68.9109 0000996 258.4165 289...  \n2  2 58373  42.9990 225.0487 0001687 266.2201 308...  \n3  2 58672  43.0002 116.5404 0001384 268.8440 113...  \n4  2 18118  74.0014 240.7666 0037903  43.2836 317...  \n\n[5 rows x 30 columns]",
      "text/html": "<div>\n<style scoped>\n    .dataframe tbody tr th:only-of-type {\n        vertical-align: middle;\n    }\n\n    .dataframe tbody tr th {\n        vertical-align: top;\n    }\n\n    .dataframe thead th {\n        text-align: right;\n    }\n</style>\n<table border=\"1\" class=\"dataframe\">\n  <thead>\n    <tr style=\"text-align: right;\">\n      <th></th>\n      <th>CREATION_DATE</th>\n      <th>OBJECT_NAME</th>\n      <th>OBJECT_ID</th>\n      <th>CENTER_NAME</th>\n      <th>REF_FRAME</th>\n      <th>TIME_SYSTEM</th>\n      <th>MEAN_ELEMENT_THEORY</th>\n      <th>EPOCH</th>\n      <th>MEAN_MOTION</th>\n      <th>ECCENTRICITY</th>\n      <th>...</th>\n      <th>MEAN_MOTION_DDOT</th>\n      <th>SEMIMAJOR_AXIS</th>\n      <th>PERIOD</th>\n      <th>APOAPSIS</th>\n      <th>PERIAPSIS</th>\n      <th>OBJECT_TYPE</th>\n      <th>RCS_SIZE</th>\n      <th>DECAY_DATE</th>\n      <th>TLE_LINE1</th>\n      <th>TLE_LINE2</th>\n    </tr>\n  </thead>\n  <tbody>\n    <tr>\n      <th>0</th>\n      <td>2024-01-28T06:26:18</td>\n      <td>STARLINK-1550</td>\n      <td>2020-062AS</td>\n      <td>EARTH</td>\n      <td>TEME</td>\n      <td>UTC</td>\n      <td>SGP4</td>\n      <td>2024-01-28T00:00:00.999648</td>\n      <td>15.700039</td>\n      <td>0.000234</td>\n      <td>...</td>\n      <td>0.0</td>\n      <td>6737.023</td>\n      <td>91.720</td>\n      <td>360.466</td>\n      <td>357.309</td>\n      <td>PAYLOAD</td>\n      <td>LARGE</td>\n      <td>NaN</td>\n      <td>1 46365U 20062AS  24028.00001157  .00109337  0...</td>\n      <td>2 46365  53.0463 156.6338 0002343 254.9883 169...</td>\n    </tr>\n    <tr>\n      <th>1</th>\n      <td>2024-01-28T06:16:18</td>\n      <td>STARLINK-30875</td>\n      <td>2023-170U</td>\n      <td>EARTH</td>\n      <td>TEME</td>\n      <td>UTC</td>\n      <td>SGP4</td>\n      <td>2024-01-28T00:00:00.999648</td>\n      <td>15.025113</td>\n      <td>0.000100</td>\n      <td>...</td>\n      <td>0.0</td>\n      <td>6937.292</td>\n      <td>95.840</td>\n      <td>559.848</td>\n      <td>558.466</td>\n      <td>PAYLOAD</td>\n      <td>LARGE</td>\n      <td>NaN</td>\n      <td>1 58224U 23170U   24028.00001157  .00051085  0...</td>\n      <td>2 58224  43.0021  68.9109 0000996 258.4165 289...</td>\n    </tr>\n    <tr>\n      <th>2</th>\n      <td>2024-01-28T07:06:19</td>\n      <td>STARLINK-30852</td>\n      <td>2023-177Y</td>\n      <td>EARTH</td>\n      <td>TEME</td>\n      <td>UTC</td>\n      <td>SGP4</td>\n      <td>2024-01-28T00:00:00.999648</td>\n      <td>15.044861</td>\n      <td>0.000169</td>\n      <td>...</td>\n      <td>0.0</td>\n      <td>6931.221</td>\n      <td>95.714</td>\n      <td>554.255</td>\n      <td>551.916</td>\n      <td>PAYLOAD</td>\n      <td>LARGE</td>\n      <td>NaN</td>\n      <td>1 58373U 23177Y   24028.00001157  .00070107  0...</td>\n      <td>2 58373  42.9990 225.0487 0001687 266.2201 308...</td>\n    </tr>\n    <tr>\n      <th>3</th>\n      <td>2024-01-28T06:56:19</td>\n      <td>STARLINK-31104</td>\n      <td>2023-211F</td>\n      <td>EARTH</td>\n      <td>TEME</td>\n      <td>UTC</td>\n      <td>SGP4</td>\n      <td>2024-01-28T00:00:00.999648</td>\n      <td>15.259172</td>\n      <td>0.000138</td>\n      <td>...</td>\n      <td>0.0</td>\n      <td>6866.170</td>\n      <td>94.369</td>\n      <td>488.985</td>\n      <td>487.085</td>\n      <td>PAYLOAD</td>\n      <td>LARGE</td>\n      <td>NaN</td>\n      <td>1 58672U 23211F   24028.00001157 -.00023704  0...</td>\n      <td>2 58672  43.0002 116.5404 0001384 268.8440 113...</td>\n    </tr>\n    <tr>\n      <th>4</th>\n      <td>2024-01-28T17:53:48</td>\n      <td>COSMOS 1857</td>\n      <td>1987-051F</td>\n      <td>EARTH</td>\n      <td>TEME</td>\n      <td>UTC</td>\n      <td>SGP4</td>\n      <td>2024-01-28T00:00:01.145664</td>\n      <td>12.542506</td>\n      <td>0.003790</td>\n      <td>...</td>\n      <td>0.0</td>\n      <td>7824.903</td>\n      <td>114.810</td>\n      <td>1476.427</td>\n      <td>1417.109</td>\n      <td>PAYLOAD</td>\n      <td>MEDIUM</td>\n      <td>NaN</td>\n      <td>1 18118U 87051F   24028.00001326  .00000000  0...</td>\n      <td>2 18118  74.0014 240.7666 0037903  43.2836 317...</td>\n    </tr>\n  </tbody>\n</table>\n<p>5 rows × 30 columns</p>\n</div>"
     },
     "execution_count": 8,
     "metadata": {},
     "output_type": "execute_result"
    }
   ],
   "execution_count": 8,
   "source": [
    "df = df.drop(['CCSDS_OMM_VERS', 'COMMENT', 'ORIGINATOR', 'COUNTRY_CODE', 'LAUNCH_DATE', 'SITE', 'FILE', 'GP_ID', 'ELEMENT_SET_NO', 'TLE_LINE0'], axis=1)\n",
    "df.head()"
   ],
   "id": "b9f7268e9b38fd23"
  },
  {
   "metadata": {},
   "cell_type": "markdown",
   "source": "## Split EPOCH columns into EPOCH_DATE and EPOCH_TIME columns",
   "id": "baedbcd393dec65b"
  },
  {
   "metadata": {},
   "cell_type": "code",
   "outputs": [
    {
     "name": "stdout",
     "output_type": "stream",
     "text": [
      "31\n"
     ]
    },
    {
     "data": {
      "text/plain": "Index(['CREATION_DATE', 'OBJECT_NAME', 'OBJECT_ID', 'CENTER_NAME', 'REF_FRAME',\n       'TIME_SYSTEM', 'MEAN_ELEMENT_THEORY', 'MEAN_MOTION', 'ECCENTRICITY',\n       'INCLINATION', 'RA_OF_ASC_NODE', 'ARG_OF_PERICENTER', 'MEAN_ANOMALY',\n       'EPHEMERIS_TYPE', 'CLASSIFICATION_TYPE', 'NORAD_CAT_ID', 'REV_AT_EPOCH',\n       'BSTAR', 'MEAN_MOTION_DOT', 'MEAN_MOTION_DDOT', 'SEMIMAJOR_AXIS',\n       'PERIOD', 'APOAPSIS', 'PERIAPSIS', 'OBJECT_TYPE', 'RCS_SIZE',\n       'DECAY_DATE', 'TLE_LINE1', 'TLE_LINE2', 'EPOCH_DATE', 'EPOCH_TIME'],\n      dtype='object')"
     },
     "execution_count": 9,
     "metadata": {},
     "output_type": "execute_result"
    }
   ],
   "execution_count": 9,
   "source": [
    "df[['EPOCH_DATE', 'EPOCH_TIME']] = df['EPOCH'].str.split('T', n=1, expand=True)\n",
    "df = df.drop(['EPOCH'], axis=1)\n",
    "print(len(df.columns))\n",
    "df.columns"
   ],
   "id": "6e53a18f1df6a0a2"
  },
  {
   "metadata": {},
   "cell_type": "markdown",
   "source": "## Change column order",
   "id": "b1e51cc8b8e95c34"
  },
  {
   "metadata": {},
   "cell_type": "code",
   "outputs": [
    {
     "name": "stdout",
     "output_type": "stream",
     "text": [
      "31\n"
     ]
    },
    {
     "data": {
      "text/plain": "['NORAD_CAT_ID',\n 'OBJECT_NAME',\n 'OBJECT_ID',\n 'DECAY_DATE',\n 'EPOCH_DATE',\n 'EPOCH_TIME',\n 'CREATION_DATE',\n 'CENTER_NAME',\n 'REF_FRAME',\n 'TIME_SYSTEM',\n 'MEAN_ELEMENT_THEORY',\n 'MEAN_MOTION',\n 'ECCENTRICITY',\n 'INCLINATION',\n 'RA_OF_ASC_NODE',\n 'ARG_OF_PERICENTER',\n 'MEAN_ANOMALY',\n 'EPHEMERIS_TYPE',\n 'CLASSIFICATION_TYPE',\n 'REV_AT_EPOCH',\n 'BSTAR',\n 'MEAN_MOTION_DOT',\n 'MEAN_MOTION_DDOT',\n 'SEMIMAJOR_AXIS',\n 'PERIOD',\n 'APOAPSIS',\n 'PERIAPSIS',\n 'OBJECT_TYPE',\n 'RCS_SIZE',\n 'TLE_LINE1',\n 'TLE_LINE2']"
     },
     "execution_count": 10,
     "metadata": {},
     "output_type": "execute_result"
    }
   ],
   "execution_count": 10,
   "source": [
    "columns = list(df.columns)\n",
    "\n",
    "first_col_idx = columns.index('NORAD_CAT_ID')\n",
    "second_col_idx = columns.index('OBJECT_NAME')\n",
    "third_col_idx = columns.index('OBJECT_ID')\n",
    "forth_col_idx = columns.index('DECAY_DATE')\n",
    "fifth_col_idx = columns.index('EPOCH_DATE')\n",
    "sixth_col_idx = columns.index('EPOCH_TIME')\n",
    "indices = [first_col_idx, second_col_idx, third_col_idx, forth_col_idx, fifth_col_idx, sixth_col_idx]\n",
    "indices.sort()\n",
    "col_order = [columns[first_col_idx]] + [columns[second_col_idx]] + [columns[third_col_idx]] + [columns[forth_col_idx]] + [columns[fifth_col_idx]] + [columns[sixth_col_idx]]\n",
    "col_order += columns[:indices[0]] + columns[indices[1]+1:indices[2]] + columns[indices[2]+1:indices[3]] + columns[indices[3]+1:indices[4]] + columns[indices[4]+1:indices[5]] + columns[indices[5]+1:]\n",
    "print(len(col_order))\n",
    "col_order"
   ],
   "id": "c94fd0c7ffe29eb9"
  },
  {
   "metadata": {},
   "cell_type": "code",
   "outputs": [
    {
     "name": "stdout",
     "output_type": "stream",
     "text": [
      "31\n"
     ]
    },
    {
     "data": {
      "text/plain": "Index(['NORAD_CAT_ID', 'OBJECT_NAME', 'OBJECT_ID', 'DECAY_DATE', 'EPOCH_DATE',\n       'EPOCH_TIME', 'CREATION_DATE', 'CENTER_NAME', 'REF_FRAME',\n       'TIME_SYSTEM', 'MEAN_ELEMENT_THEORY', 'MEAN_MOTION', 'ECCENTRICITY',\n       'INCLINATION', 'RA_OF_ASC_NODE', 'ARG_OF_PERICENTER', 'MEAN_ANOMALY',\n       'EPHEMERIS_TYPE', 'CLASSIFICATION_TYPE', 'REV_AT_EPOCH', 'BSTAR',\n       'MEAN_MOTION_DOT', 'MEAN_MOTION_DDOT', 'SEMIMAJOR_AXIS', 'PERIOD',\n       'APOAPSIS', 'PERIAPSIS', 'OBJECT_TYPE', 'RCS_SIZE', 'TLE_LINE1',\n       'TLE_LINE2'],\n      dtype='object')"
     },
     "execution_count": 11,
     "metadata": {},
     "output_type": "execute_result"
    }
   ],
   "execution_count": 11,
   "source": [
    "df = df[col_order]\n",
    "print(len(df.columns))\n",
    "df.columns"
   ],
   "id": "1a7b44e123cf2a6b"
  },
  {
   "metadata": {},
   "cell_type": "markdown",
   "source": "# Load Space-Track TLEs from 2023-12-28 to 2024-01-28 and store them in a dataframe",
   "id": "3dfb1990659743cb"
  },
  {
   "cell_type": "code",
   "execution_count": 6,
   "outputs": [],
   "source": [
    "def tle_to_sv(row):\n",
    "    tle = TLE(row['TLE_LINE1'], row['TLE_LINE2'])\n",
    "    propagator = TLEPropagator.selectExtrapolator(tle)\n",
    "    state = propagator.getInitialState()\n",
    "    pv = state.getPVCoordinates()\n",
    "    return pv\n",
    "\n",
    "def sv_df_from(spacetrack_df):\n",
    "    sv_df = spacetrack_df[\n",
    "        ['NORAD_CAT_ID', 'OBJECT_NAME', 'OBJECT_ID', 'DECAY_DATE', 'EPOCH_DATE', 'EPOCH_TIME', 'CENTER_NAME',\n",
    "         'REF_FRAME', 'TIME_SYSTEM', 'OBJECT_TYPE', 'RCS_SIZE']].copy()\n",
    "\n",
    "    sv_series = spacetrack_df[['TLE_LINE1', 'TLE_LINE2']].apply(tle_to_sv, axis=1)\n",
    "    sv_df['PX'] = sv_series.apply(lambda sv: sv.getPosition().x / 1000)  # in km\n",
    "    sv_df['PY'] = sv_series.apply(lambda sv: sv.getPosition().y / 1000)\n",
    "    sv_df['PZ'] = sv_series.apply(lambda sv: sv.getPosition().z / 1000)\n",
    "    sv_df['ALTITUDE'] = np.sqrt(sv_df['PX'] ** 2 + sv_df['PY'] ** 2 + sv_df['PZ'] ** 2) - (\n",
    "                Constants.WGS84_EARTH_EQUATORIAL_RADIUS / 1000)\n",
    "    \n",
    "    sv_df['VX'] = sv_series.apply(lambda sv: sv.getVelocity().x / 1000)  # in km/s\n",
    "    sv_df['VY'] = sv_series.apply(lambda sv: sv.getVelocity().y / 1000)\n",
    "    sv_df['VZ'] = sv_series.apply(lambda sv: sv.getVelocity().z / 1000)\n",
    "    sv_df['VELOCITY_NORM'] = np.sqrt(sv_df['VX'] ** 2 + sv_df['VY'] ** 2 + sv_df['VZ'] ** 2)\n",
    "    return sv_df\n",
    "\n",
    "def csv_to_dataframe(dates, ids, col_order, col_check_duplicates):\n",
    "    spacetrack_df = pd.DataFrame()\n",
    "    spacetrack_sv_df = pd.DataFrame()\n",
    "    for date in tqdm(dates):\n",
    "        # Load csv and drop unncessary columns\n",
    "        tmp = pd.read_csv(f'../datasets/space-track_{date}.csv',  memory_map=True).drop(['CCSDS_OMM_VERS', 'COMMENT', 'ORIGINATOR', 'COUNTRY_CODE', 'LAUNCH_DATE', 'SITE', 'FILE', 'GP_ID', 'ELEMENT_SET_NO', 'TLE_LINE0'], axis=1)\n",
    "        \n",
    "        # Split EPOCH columns into EPOCH_DATE and EPOCH_TIME columns\n",
    "        tmp[['EPOCH_DATE', 'EPOCH_TIME']] = tmp['EPOCH'].str.split('T', n=1, expand=True)\n",
    "        tmp = tmp.drop(['EPOCH'], axis=1)\n",
    "        \n",
    "        # Change column order\n",
    "        tmp = tmp[col_order]\n",
    "        \n",
    "        # Filter tmp to have only the space objects info available on 2024-01-28\n",
    "        tmp = tmp[tmp['NORAD_CAT_ID'].isin(ids)]\n",
    "        \n",
    "        # Drop duplicate lines. Lines with equal NORAD_CAT_ID, EPOCH_DATE and EPOCH_TIME\n",
    "        tmp.drop_duplicates(subset=col_check_duplicates, inplace=True, ignore_index=True)\n",
    "        \n",
    "        # Build complementary State Vector dataframe\n",
    "        tmp_sv = sv_df_from(tmp)\n",
    "        \n",
    "        print(f'Concatenating {date} TLEs\\nNumber of lines: {tmp.shape[0]}\\n\\n')\n",
    "        \n",
    "        # Concat the temporary dataframe to the Space-Track dataset\n",
    "        spacetrack_df = pd.concat([spacetrack_df, tmp], ignore_index=True)\n",
    "        spacetrack_sv_df = pd.concat([spacetrack_sv_df, tmp_sv], ignore_index=True)\n",
    "        \n",
    "        \n",
    "    print(f'Space-Track dataset built.\\nNumber of lines: {spacetrack_df.shape[0]}\\n')\n",
    "    return spacetrack_df, spacetrack_sv_df"
   ],
   "metadata": {
    "collapsed": false,
    "ExecuteTime": {
     "start_time": "2024-04-09T10:25:51.511509Z"
    }
   },
   "id": "fd66782baf4745e4"
  },
  {
   "cell_type": "code",
   "execution_count": 9,
   "outputs": [
    {
     "name": "stdout",
     "output_type": "stream",
     "text": [
      "Period dates: ['2023-12-28', '2023-12-29', '2023-12-30', '2023-12-31', '2024-01-01', '2024-01-02', '2024-01-03', '2024-01-04', '2024-01-05', '2024-01-06', '2024-01-07', '2024-01-08', '2024-01-09', '2024-01-10', '2024-01-11', '2024-01-12', '2024-01-13', '2024-01-14', '2024-01-15', '2024-01-16', '2024-01-17', '2024-01-18', '2024-01-19', '2024-01-20', '2024-01-21', '2024-01-22', '2024-01-23', '2024-01-24', '2024-01-25', '2024-01-26', '2024-01-27', '2024-01-28']\n"
     ]
    },
    {
     "data": {
      "text/plain": "  0%|          | 0/32 [00:00<?, ?it/s]",
      "application/vnd.jupyter.widget-view+json": {
       "version_major": 2,
       "version_minor": 0,
       "model_id": "adb7ae88dcbb46c7a8a7108073118642"
      }
     },
     "metadata": {},
     "output_type": "display_data"
    },
    {
     "name": "stdout",
     "output_type": "stream",
     "text": [
      "Concatenating 2023-12-28 TLEs\n",
      "Number of lines: 39692\n"
     ]
    },
    {
     "name": "stderr",
     "output_type": "stream",
     "text": [
      "C:\\Users\\DMSS_\\AppData\\Local\\Temp\\ipykernel_4532\\1839270686.py:5: DtypeWarning: Columns (34) have mixed types. Specify dtype option on import or set low_memory=False.\n",
      "  tmp = pd.read_csv(f'../datasets/space-track_{date}.csv',  memory_map=True).drop(['CCSDS_OMM_VERS', 'COMMENT', 'ORIGINATOR', 'COUNTRY_CODE', 'LAUNCH_DATE', 'SITE', 'FILE', 'GP_ID', 'ELEMENT_SET_NO', 'TLE_LINE0'], axis=1)\n"
     ]
    },
    {
     "name": "stdout",
     "output_type": "stream",
     "text": [
      "Concatenating 2023-12-29 TLEs\n",
      "Number of lines: 40111\n"
     ]
    },
    {
     "name": "stderr",
     "output_type": "stream",
     "text": [
      "C:\\Users\\DMSS_\\AppData\\Local\\Temp\\ipykernel_4532\\1839270686.py:5: DtypeWarning: Columns (34) have mixed types. Specify dtype option on import or set low_memory=False.\n",
      "  tmp = pd.read_csv(f'../datasets/space-track_{date}.csv',  memory_map=True).drop(['CCSDS_OMM_VERS', 'COMMENT', 'ORIGINATOR', 'COUNTRY_CODE', 'LAUNCH_DATE', 'SITE', 'FILE', 'GP_ID', 'ELEMENT_SET_NO', 'TLE_LINE0'], axis=1)\n"
     ]
    },
    {
     "name": "stdout",
     "output_type": "stream",
     "text": [
      "Concatenating 2023-12-30 TLEs\n",
      "Number of lines: 42433\n"
     ]
    },
    {
     "name": "stderr",
     "output_type": "stream",
     "text": [
      "C:\\Users\\DMSS_\\AppData\\Local\\Temp\\ipykernel_4532\\1839270686.py:5: DtypeWarning: Columns (34) have mixed types. Specify dtype option on import or set low_memory=False.\n",
      "  tmp = pd.read_csv(f'../datasets/space-track_{date}.csv',  memory_map=True).drop(['CCSDS_OMM_VERS', 'COMMENT', 'ORIGINATOR', 'COUNTRY_CODE', 'LAUNCH_DATE', 'SITE', 'FILE', 'GP_ID', 'ELEMENT_SET_NO', 'TLE_LINE0'], axis=1)\n"
     ]
    },
    {
     "name": "stdout",
     "output_type": "stream",
     "text": [
      "Concatenating 2023-12-31 TLEs\n",
      "Number of lines: 31133\n"
     ]
    },
    {
     "name": "stderr",
     "output_type": "stream",
     "text": [
      "C:\\Users\\DMSS_\\AppData\\Local\\Temp\\ipykernel_4532\\1839270686.py:5: DtypeWarning: Columns (34) have mixed types. Specify dtype option on import or set low_memory=False.\n",
      "  tmp = pd.read_csv(f'../datasets/space-track_{date}.csv',  memory_map=True).drop(['CCSDS_OMM_VERS', 'COMMENT', 'ORIGINATOR', 'COUNTRY_CODE', 'LAUNCH_DATE', 'SITE', 'FILE', 'GP_ID', 'ELEMENT_SET_NO', 'TLE_LINE0'], axis=1)\n"
     ]
    },
    {
     "name": "stdout",
     "output_type": "stream",
     "text": [
      "Concatenating 2024-01-01 TLEs\n",
      "Number of lines: 42104\n"
     ]
    },
    {
     "name": "stderr",
     "output_type": "stream",
     "text": [
      "C:\\Users\\DMSS_\\AppData\\Local\\Temp\\ipykernel_4532\\1839270686.py:5: DtypeWarning: Columns (34) have mixed types. Specify dtype option on import or set low_memory=False.\n",
      "  tmp = pd.read_csv(f'../datasets/space-track_{date}.csv',  memory_map=True).drop(['CCSDS_OMM_VERS', 'COMMENT', 'ORIGINATOR', 'COUNTRY_CODE', 'LAUNCH_DATE', 'SITE', 'FILE', 'GP_ID', 'ELEMENT_SET_NO', 'TLE_LINE0'], axis=1)\n"
     ]
    },
    {
     "name": "stdout",
     "output_type": "stream",
     "text": [
      "Concatenating 2024-01-02 TLEs\n",
      "Number of lines: 42583\n"
     ]
    },
    {
     "name": "stderr",
     "output_type": "stream",
     "text": [
      "C:\\Users\\DMSS_\\AppData\\Local\\Temp\\ipykernel_4532\\1839270686.py:5: DtypeWarning: Columns (34) have mixed types. Specify dtype option on import or set low_memory=False.\n",
      "  tmp = pd.read_csv(f'../datasets/space-track_{date}.csv',  memory_map=True).drop(['CCSDS_OMM_VERS', 'COMMENT', 'ORIGINATOR', 'COUNTRY_CODE', 'LAUNCH_DATE', 'SITE', 'FILE', 'GP_ID', 'ELEMENT_SET_NO', 'TLE_LINE0'], axis=1)\n"
     ]
    },
    {
     "name": "stdout",
     "output_type": "stream",
     "text": [
      "Concatenating 2024-01-03 TLEs\n",
      "Number of lines: 40392\n",
      "\n",
      "Concatenating 2024-01-04 TLEs\n",
      "Number of lines: 42904\n"
     ]
    },
    {
     "name": "stderr",
     "output_type": "stream",
     "text": [
      "C:\\Users\\DMSS_\\AppData\\Local\\Temp\\ipykernel_4532\\1839270686.py:5: DtypeWarning: Columns (34) have mixed types. Specify dtype option on import or set low_memory=False.\n",
      "  tmp = pd.read_csv(f'../datasets/space-track_{date}.csv',  memory_map=True).drop(['CCSDS_OMM_VERS', 'COMMENT', 'ORIGINATOR', 'COUNTRY_CODE', 'LAUNCH_DATE', 'SITE', 'FILE', 'GP_ID', 'ELEMENT_SET_NO', 'TLE_LINE0'], axis=1)\n"
     ]
    },
    {
     "name": "stdout",
     "output_type": "stream",
     "text": [
      "Concatenating 2024-01-05 TLEs\n",
      "Number of lines: 42278\n"
     ]
    },
    {
     "name": "stderr",
     "output_type": "stream",
     "text": [
      "C:\\Users\\DMSS_\\AppData\\Local\\Temp\\ipykernel_4532\\1839270686.py:5: DtypeWarning: Columns (34) have mixed types. Specify dtype option on import or set low_memory=False.\n",
      "  tmp = pd.read_csv(f'../datasets/space-track_{date}.csv',  memory_map=True).drop(['CCSDS_OMM_VERS', 'COMMENT', 'ORIGINATOR', 'COUNTRY_CODE', 'LAUNCH_DATE', 'SITE', 'FILE', 'GP_ID', 'ELEMENT_SET_NO', 'TLE_LINE0'], axis=1)\n"
     ]
    },
    {
     "name": "stdout",
     "output_type": "stream",
     "text": [
      "Concatenating 2024-01-06 TLEs\n",
      "Number of lines: 42436\n"
     ]
    },
    {
     "name": "stderr",
     "output_type": "stream",
     "text": [
      "C:\\Users\\DMSS_\\AppData\\Local\\Temp\\ipykernel_4532\\1839270686.py:5: DtypeWarning: Columns (34) have mixed types. Specify dtype option on import or set low_memory=False.\n",
      "  tmp = pd.read_csv(f'../datasets/space-track_{date}.csv',  memory_map=True).drop(['CCSDS_OMM_VERS', 'COMMENT', 'ORIGINATOR', 'COUNTRY_CODE', 'LAUNCH_DATE', 'SITE', 'FILE', 'GP_ID', 'ELEMENT_SET_NO', 'TLE_LINE0'], axis=1)\n"
     ]
    },
    {
     "name": "stdout",
     "output_type": "stream",
     "text": [
      "Concatenating 2024-01-07 TLEs\n",
      "Number of lines: 43031\n"
     ]
    },
    {
     "name": "stderr",
     "output_type": "stream",
     "text": [
      "C:\\Users\\DMSS_\\AppData\\Local\\Temp\\ipykernel_4532\\1839270686.py:5: DtypeWarning: Columns (34) have mixed types. Specify dtype option on import or set low_memory=False.\n",
      "  tmp = pd.read_csv(f'../datasets/space-track_{date}.csv',  memory_map=True).drop(['CCSDS_OMM_VERS', 'COMMENT', 'ORIGINATOR', 'COUNTRY_CODE', 'LAUNCH_DATE', 'SITE', 'FILE', 'GP_ID', 'ELEMENT_SET_NO', 'TLE_LINE0'], axis=1)\n"
     ]
    },
    {
     "name": "stdout",
     "output_type": "stream",
     "text": [
      "Concatenating 2024-01-08 TLEs\n",
      "Number of lines: 39869\n"
     ]
    },
    {
     "name": "stderr",
     "output_type": "stream",
     "text": [
      "C:\\Users\\DMSS_\\AppData\\Local\\Temp\\ipykernel_4532\\1839270686.py:5: DtypeWarning: Columns (34) have mixed types. Specify dtype option on import or set low_memory=False.\n",
      "  tmp = pd.read_csv(f'../datasets/space-track_{date}.csv',  memory_map=True).drop(['CCSDS_OMM_VERS', 'COMMENT', 'ORIGINATOR', 'COUNTRY_CODE', 'LAUNCH_DATE', 'SITE', 'FILE', 'GP_ID', 'ELEMENT_SET_NO', 'TLE_LINE0'], axis=1)\n"
     ]
    },
    {
     "name": "stdout",
     "output_type": "stream",
     "text": [
      "Concatenating 2024-01-09 TLEs\n",
      "Number of lines: 42321\n",
      "\n",
      "Concatenating 2024-01-10 TLEs\n",
      "Number of lines: 30994\n"
     ]
    },
    {
     "name": "stderr",
     "output_type": "stream",
     "text": [
      "C:\\Users\\DMSS_\\AppData\\Local\\Temp\\ipykernel_4532\\1839270686.py:5: DtypeWarning: Columns (34) have mixed types. Specify dtype option on import or set low_memory=False.\n",
      "  tmp = pd.read_csv(f'../datasets/space-track_{date}.csv',  memory_map=True).drop(['CCSDS_OMM_VERS', 'COMMENT', 'ORIGINATOR', 'COUNTRY_CODE', 'LAUNCH_DATE', 'SITE', 'FILE', 'GP_ID', 'ELEMENT_SET_NO', 'TLE_LINE0'], axis=1)\n"
     ]
    },
    {
     "name": "stdout",
     "output_type": "stream",
     "text": [
      "Concatenating 2024-01-11 TLEs\n",
      "Number of lines: 43257\n",
      "\n",
      "Concatenating 2024-01-12 TLEs\n",
      "Number of lines: 43468\n"
     ]
    },
    {
     "name": "stderr",
     "output_type": "stream",
     "text": [
      "C:\\Users\\DMSS_\\AppData\\Local\\Temp\\ipykernel_4532\\1839270686.py:5: DtypeWarning: Columns (34) have mixed types. Specify dtype option on import or set low_memory=False.\n",
      "  tmp = pd.read_csv(f'../datasets/space-track_{date}.csv',  memory_map=True).drop(['CCSDS_OMM_VERS', 'COMMENT', 'ORIGINATOR', 'COUNTRY_CODE', 'LAUNCH_DATE', 'SITE', 'FILE', 'GP_ID', 'ELEMENT_SET_NO', 'TLE_LINE0'], axis=1)\n"
     ]
    },
    {
     "name": "stdout",
     "output_type": "stream",
     "text": [
      "Concatenating 2024-01-13 TLEs\n",
      "Number of lines: 32282\n",
      "\n",
      "Concatenating 2024-01-14 TLEs\n",
      "Number of lines: 42874\n"
     ]
    },
    {
     "name": "stderr",
     "output_type": "stream",
     "text": [
      "C:\\Users\\DMSS_\\AppData\\Local\\Temp\\ipykernel_4532\\1839270686.py:5: DtypeWarning: Columns (34) have mixed types. Specify dtype option on import or set low_memory=False.\n",
      "  tmp = pd.read_csv(f'../datasets/space-track_{date}.csv',  memory_map=True).drop(['CCSDS_OMM_VERS', 'COMMENT', 'ORIGINATOR', 'COUNTRY_CODE', 'LAUNCH_DATE', 'SITE', 'FILE', 'GP_ID', 'ELEMENT_SET_NO', 'TLE_LINE0'], axis=1)\n"
     ]
    },
    {
     "name": "stdout",
     "output_type": "stream",
     "text": [
      "Concatenating 2024-01-15 TLEs\n",
      "Number of lines: 42022\n"
     ]
    },
    {
     "name": "stderr",
     "output_type": "stream",
     "text": [
      "C:\\Users\\DMSS_\\AppData\\Local\\Temp\\ipykernel_4532\\1839270686.py:5: DtypeWarning: Columns (34) have mixed types. Specify dtype option on import or set low_memory=False.\n",
      "  tmp = pd.read_csv(f'../datasets/space-track_{date}.csv',  memory_map=True).drop(['CCSDS_OMM_VERS', 'COMMENT', 'ORIGINATOR', 'COUNTRY_CODE', 'LAUNCH_DATE', 'SITE', 'FILE', 'GP_ID', 'ELEMENT_SET_NO', 'TLE_LINE0'], axis=1)\n"
     ]
    },
    {
     "name": "stdout",
     "output_type": "stream",
     "text": [
      "Concatenating 2024-01-16 TLEs\n",
      "Number of lines: 43664\n"
     ]
    },
    {
     "name": "stderr",
     "output_type": "stream",
     "text": [
      "C:\\Users\\DMSS_\\AppData\\Local\\Temp\\ipykernel_4532\\1839270686.py:5: DtypeWarning: Columns (34) have mixed types. Specify dtype option on import or set low_memory=False.\n",
      "  tmp = pd.read_csv(f'../datasets/space-track_{date}.csv',  memory_map=True).drop(['CCSDS_OMM_VERS', 'COMMENT', 'ORIGINATOR', 'COUNTRY_CODE', 'LAUNCH_DATE', 'SITE', 'FILE', 'GP_ID', 'ELEMENT_SET_NO', 'TLE_LINE0'], axis=1)\n"
     ]
    },
    {
     "name": "stdout",
     "output_type": "stream",
     "text": [
      "Concatenating 2024-01-17 TLEs\n",
      "Number of lines: 39389\n"
     ]
    },
    {
     "name": "stderr",
     "output_type": "stream",
     "text": [
      "C:\\Users\\DMSS_\\AppData\\Local\\Temp\\ipykernel_4532\\1839270686.py:5: DtypeWarning: Columns (34) have mixed types. Specify dtype option on import or set low_memory=False.\n",
      "  tmp = pd.read_csv(f'../datasets/space-track_{date}.csv',  memory_map=True).drop(['CCSDS_OMM_VERS', 'COMMENT', 'ORIGINATOR', 'COUNTRY_CODE', 'LAUNCH_DATE', 'SITE', 'FILE', 'GP_ID', 'ELEMENT_SET_NO', 'TLE_LINE0'], axis=1)\n"
     ]
    },
    {
     "name": "stdout",
     "output_type": "stream",
     "text": [
      "Concatenating 2024-01-18 TLEs\n",
      "Number of lines: 42351\n"
     ]
    },
    {
     "name": "stderr",
     "output_type": "stream",
     "text": [
      "C:\\Users\\DMSS_\\AppData\\Local\\Temp\\ipykernel_4532\\1839270686.py:5: DtypeWarning: Columns (34) have mixed types. Specify dtype option on import or set low_memory=False.\n",
      "  tmp = pd.read_csv(f'../datasets/space-track_{date}.csv',  memory_map=True).drop(['CCSDS_OMM_VERS', 'COMMENT', 'ORIGINATOR', 'COUNTRY_CODE', 'LAUNCH_DATE', 'SITE', 'FILE', 'GP_ID', 'ELEMENT_SET_NO', 'TLE_LINE0'], axis=1)\n"
     ]
    },
    {
     "name": "stdout",
     "output_type": "stream",
     "text": [
      "Concatenating 2024-01-19 TLEs\n",
      "Number of lines: 43823\n"
     ]
    },
    {
     "name": "stderr",
     "output_type": "stream",
     "text": [
      "C:\\Users\\DMSS_\\AppData\\Local\\Temp\\ipykernel_4532\\1839270686.py:5: DtypeWarning: Columns (34) have mixed types. Specify dtype option on import or set low_memory=False.\n",
      "  tmp = pd.read_csv(f'../datasets/space-track_{date}.csv',  memory_map=True).drop(['CCSDS_OMM_VERS', 'COMMENT', 'ORIGINATOR', 'COUNTRY_CODE', 'LAUNCH_DATE', 'SITE', 'FILE', 'GP_ID', 'ELEMENT_SET_NO', 'TLE_LINE0'], axis=1)\n"
     ]
    },
    {
     "name": "stdout",
     "output_type": "stream",
     "text": [
      "Concatenating 2024-01-20 TLEs\n",
      "Number of lines: 44083\n"
     ]
    },
    {
     "name": "stderr",
     "output_type": "stream",
     "text": [
      "C:\\Users\\DMSS_\\AppData\\Local\\Temp\\ipykernel_4532\\1839270686.py:5: DtypeWarning: Columns (34) have mixed types. Specify dtype option on import or set low_memory=False.\n",
      "  tmp = pd.read_csv(f'../datasets/space-track_{date}.csv',  memory_map=True).drop(['CCSDS_OMM_VERS', 'COMMENT', 'ORIGINATOR', 'COUNTRY_CODE', 'LAUNCH_DATE', 'SITE', 'FILE', 'GP_ID', 'ELEMENT_SET_NO', 'TLE_LINE0'], axis=1)\n"
     ]
    },
    {
     "name": "stdout",
     "output_type": "stream",
     "text": [
      "Concatenating 2024-01-21 TLEs\n",
      "Number of lines: 43122\n",
      "\n",
      "Concatenating 2024-01-22 TLEs\n",
      "Number of lines: 44251\n"
     ]
    },
    {
     "name": "stderr",
     "output_type": "stream",
     "text": [
      "C:\\Users\\DMSS_\\AppData\\Local\\Temp\\ipykernel_4532\\1839270686.py:5: DtypeWarning: Columns (34) have mixed types. Specify dtype option on import or set low_memory=False.\n",
      "  tmp = pd.read_csv(f'../datasets/space-track_{date}.csv',  memory_map=True).drop(['CCSDS_OMM_VERS', 'COMMENT', 'ORIGINATOR', 'COUNTRY_CODE', 'LAUNCH_DATE', 'SITE', 'FILE', 'GP_ID', 'ELEMENT_SET_NO', 'TLE_LINE0'], axis=1)\n"
     ]
    },
    {
     "name": "stdout",
     "output_type": "stream",
     "text": [
      "Concatenating 2024-01-23 TLEs\n",
      "Number of lines: 36996\n"
     ]
    },
    {
     "name": "stderr",
     "output_type": "stream",
     "text": [
      "C:\\Users\\DMSS_\\AppData\\Local\\Temp\\ipykernel_4532\\1839270686.py:5: DtypeWarning: Columns (34) have mixed types. Specify dtype option on import or set low_memory=False.\n",
      "  tmp = pd.read_csv(f'../datasets/space-track_{date}.csv',  memory_map=True).drop(['CCSDS_OMM_VERS', 'COMMENT', 'ORIGINATOR', 'COUNTRY_CODE', 'LAUNCH_DATE', 'SITE', 'FILE', 'GP_ID', 'ELEMENT_SET_NO', 'TLE_LINE0'], axis=1)\n"
     ]
    },
    {
     "name": "stdout",
     "output_type": "stream",
     "text": [
      "Concatenating 2024-01-24 TLEs\n",
      "Number of lines: 37410\n"
     ]
    },
    {
     "name": "stderr",
     "output_type": "stream",
     "text": [
      "C:\\Users\\DMSS_\\AppData\\Local\\Temp\\ipykernel_4532\\1839270686.py:5: DtypeWarning: Columns (34) have mixed types. Specify dtype option on import or set low_memory=False.\n",
      "  tmp = pd.read_csv(f'../datasets/space-track_{date}.csv',  memory_map=True).drop(['CCSDS_OMM_VERS', 'COMMENT', 'ORIGINATOR', 'COUNTRY_CODE', 'LAUNCH_DATE', 'SITE', 'FILE', 'GP_ID', 'ELEMENT_SET_NO', 'TLE_LINE0'], axis=1)\n"
     ]
    },
    {
     "name": "stdout",
     "output_type": "stream",
     "text": [
      "Concatenating 2024-01-25 TLEs\n",
      "Number of lines: 39403\n",
      "\n",
      "Concatenating 2024-01-26 TLEs\n",
      "Number of lines: 29635\n"
     ]
    },
    {
     "name": "stderr",
     "output_type": "stream",
     "text": [
      "C:\\Users\\DMSS_\\AppData\\Local\\Temp\\ipykernel_4532\\1839270686.py:5: DtypeWarning: Columns (34) have mixed types. Specify dtype option on import or set low_memory=False.\n",
      "  tmp = pd.read_csv(f'../datasets/space-track_{date}.csv',  memory_map=True).drop(['CCSDS_OMM_VERS', 'COMMENT', 'ORIGINATOR', 'COUNTRY_CODE', 'LAUNCH_DATE', 'SITE', 'FILE', 'GP_ID', 'ELEMENT_SET_NO', 'TLE_LINE0'], axis=1)\n"
     ]
    },
    {
     "name": "stdout",
     "output_type": "stream",
     "text": [
      "Concatenating 2024-01-27 TLEs\n",
      "Number of lines: 41409\n"
     ]
    },
    {
     "name": "stderr",
     "output_type": "stream",
     "text": [
      "C:\\Users\\DMSS_\\AppData\\Local\\Temp\\ipykernel_4532\\1839270686.py:5: DtypeWarning: Columns (34) have mixed types. Specify dtype option on import or set low_memory=False.\n",
      "  tmp = pd.read_csv(f'../datasets/space-track_{date}.csv',  memory_map=True).drop(['CCSDS_OMM_VERS', 'COMMENT', 'ORIGINATOR', 'COUNTRY_CODE', 'LAUNCH_DATE', 'SITE', 'FILE', 'GP_ID', 'ELEMENT_SET_NO', 'TLE_LINE0'], axis=1)\n"
     ]
    },
    {
     "name": "stdout",
     "output_type": "stream",
     "text": [
      "Concatenating 2024-01-28 TLEs\n",
      "Number of lines: 45056\n",
      "\n",
      "\n",
      "Space-Track dataset built.\n",
      "Number of lines: 1296776\n"
     ]
    },
    {
     "data": {
      "text/plain": "   NORAD_CAT_ID     OBJECT_NAME   OBJECT_ID DECAY_DATE  EPOCH_DATE  \\\n0         45102   STARLINK-1195  2020-006BL        NaN  2023-12-28   \n1         56899   STARLINK-6203   2023-083Z        NaN  2023-12-28   \n2         58063  STARLINK-30585   2023-158N        NaN  2023-12-28   \n3         58515  STARLINK-31017   2023-191H        NaN  2023-12-28   \n4         58515  STARLINK-31017   2023-191H        NaN  2023-12-28   \n\n        EPOCH_TIME        CREATION_DATE CENTER_NAME REF_FRAME TIME_SYSTEM  \\\n0  00:00:00.999648  2023-12-28T06:46:17       EARTH      TEME         UTC   \n1  00:00:00.999648  2023-12-28T06:26:17       EARTH      TEME         UTC   \n2  00:00:00.999648  2023-12-28T06:16:17       EARTH      TEME         UTC   \n3  00:00:00.999648  2023-12-28T06:46:17       EARTH      TEME         UTC   \n4  00:00:00.999648  2023-12-28T18:10:27       EARTH      TEME         UTC   \n\n   ... MEAN_MOTION_DOT  MEAN_MOTION_DDOT  SEMIMAJOR_AXIS  PERIOD  APOAPSIS  \\\n0  ...        0.001659               0.0        6711.059  91.190   333.568   \n1  ...       -0.000140               0.0        6937.217  95.838   560.049   \n2  ...       -0.012126               0.0        6934.593  95.784   557.373   \n3  ...        0.001205               0.0        6761.643  92.223   384.581   \n4  ...        0.001205               0.0        6761.643  92.223   384.581   \n\n   PERIAPSIS  OBJECT_TYPE  RCS_SIZE  \\\n0    332.281      PAYLOAD     LARGE   \n1    558.115      PAYLOAD     LARGE   \n2    555.544      PAYLOAD     LARGE   \n3    382.435      PAYLOAD     LARGE   \n4    382.435      PAYLOAD     LARGE   \n\n                                           TLE_LINE1  \\\n0  1 45102U 20006BL  23362.00001157  .00165925  0...   \n1  1 56899U 23083Z   23362.00001157 -.00013968  0...   \n2  1 58063U 23158N   23362.00001157 -.01212631  0...   \n3  1 58515U 23191H   23362.00001157  .00120477  0...   \n4  1 58515U 23191H   23362.00001157  .00120477  0...   \n\n                                           TLE_LINE2  \n0  2 45102  53.0456 223.3367 0000959  49.0274  96...  \n1  2 56899  43.0034 123.0158 0001394 272.0222 283...  \n2  2 58063  43.0014  71.6139 0001319 262.3570 310...  \n3  2 58515  43.0004 162.7285 0001587 278.9590 219...  \n4  2 58515  43.0004 162.7285 0001587 278.9590 219...  \n\n[5 rows x 31 columns]",
      "text/html": "<div>\n<style scoped>\n    .dataframe tbody tr th:only-of-type {\n        vertical-align: middle;\n    }\n\n    .dataframe tbody tr th {\n        vertical-align: top;\n    }\n\n    .dataframe thead th {\n        text-align: right;\n    }\n</style>\n<table border=\"1\" class=\"dataframe\">\n  <thead>\n    <tr style=\"text-align: right;\">\n      <th></th>\n      <th>NORAD_CAT_ID</th>\n      <th>OBJECT_NAME</th>\n      <th>OBJECT_ID</th>\n      <th>DECAY_DATE</th>\n      <th>EPOCH_DATE</th>\n      <th>EPOCH_TIME</th>\n      <th>CREATION_DATE</th>\n      <th>CENTER_NAME</th>\n      <th>REF_FRAME</th>\n      <th>TIME_SYSTEM</th>\n      <th>...</th>\n      <th>MEAN_MOTION_DOT</th>\n      <th>MEAN_MOTION_DDOT</th>\n      <th>SEMIMAJOR_AXIS</th>\n      <th>PERIOD</th>\n      <th>APOAPSIS</th>\n      <th>PERIAPSIS</th>\n      <th>OBJECT_TYPE</th>\n      <th>RCS_SIZE</th>\n      <th>TLE_LINE1</th>\n      <th>TLE_LINE2</th>\n    </tr>\n  </thead>\n  <tbody>\n    <tr>\n      <th>0</th>\n      <td>45102</td>\n      <td>STARLINK-1195</td>\n      <td>2020-006BL</td>\n      <td>NaN</td>\n      <td>2023-12-28</td>\n      <td>00:00:00.999648</td>\n      <td>2023-12-28T06:46:17</td>\n      <td>EARTH</td>\n      <td>TEME</td>\n      <td>UTC</td>\n      <td>...</td>\n      <td>0.001659</td>\n      <td>0.0</td>\n      <td>6711.059</td>\n      <td>91.190</td>\n      <td>333.568</td>\n      <td>332.281</td>\n      <td>PAYLOAD</td>\n      <td>LARGE</td>\n      <td>1 45102U 20006BL  23362.00001157  .00165925  0...</td>\n      <td>2 45102  53.0456 223.3367 0000959  49.0274  96...</td>\n    </tr>\n    <tr>\n      <th>1</th>\n      <td>56899</td>\n      <td>STARLINK-6203</td>\n      <td>2023-083Z</td>\n      <td>NaN</td>\n      <td>2023-12-28</td>\n      <td>00:00:00.999648</td>\n      <td>2023-12-28T06:26:17</td>\n      <td>EARTH</td>\n      <td>TEME</td>\n      <td>UTC</td>\n      <td>...</td>\n      <td>-0.000140</td>\n      <td>0.0</td>\n      <td>6937.217</td>\n      <td>95.838</td>\n      <td>560.049</td>\n      <td>558.115</td>\n      <td>PAYLOAD</td>\n      <td>LARGE</td>\n      <td>1 56899U 23083Z   23362.00001157 -.00013968  0...</td>\n      <td>2 56899  43.0034 123.0158 0001394 272.0222 283...</td>\n    </tr>\n    <tr>\n      <th>2</th>\n      <td>58063</td>\n      <td>STARLINK-30585</td>\n      <td>2023-158N</td>\n      <td>NaN</td>\n      <td>2023-12-28</td>\n      <td>00:00:00.999648</td>\n      <td>2023-12-28T06:16:17</td>\n      <td>EARTH</td>\n      <td>TEME</td>\n      <td>UTC</td>\n      <td>...</td>\n      <td>-0.012126</td>\n      <td>0.0</td>\n      <td>6934.593</td>\n      <td>95.784</td>\n      <td>557.373</td>\n      <td>555.544</td>\n      <td>PAYLOAD</td>\n      <td>LARGE</td>\n      <td>1 58063U 23158N   23362.00001157 -.01212631  0...</td>\n      <td>2 58063  43.0014  71.6139 0001319 262.3570 310...</td>\n    </tr>\n    <tr>\n      <th>3</th>\n      <td>58515</td>\n      <td>STARLINK-31017</td>\n      <td>2023-191H</td>\n      <td>NaN</td>\n      <td>2023-12-28</td>\n      <td>00:00:00.999648</td>\n      <td>2023-12-28T06:46:17</td>\n      <td>EARTH</td>\n      <td>TEME</td>\n      <td>UTC</td>\n      <td>...</td>\n      <td>0.001205</td>\n      <td>0.0</td>\n      <td>6761.643</td>\n      <td>92.223</td>\n      <td>384.581</td>\n      <td>382.435</td>\n      <td>PAYLOAD</td>\n      <td>LARGE</td>\n      <td>1 58515U 23191H   23362.00001157  .00120477  0...</td>\n      <td>2 58515  43.0004 162.7285 0001587 278.9590 219...</td>\n    </tr>\n    <tr>\n      <th>4</th>\n      <td>58515</td>\n      <td>STARLINK-31017</td>\n      <td>2023-191H</td>\n      <td>NaN</td>\n      <td>2023-12-28</td>\n      <td>00:00:00.999648</td>\n      <td>2023-12-28T18:10:27</td>\n      <td>EARTH</td>\n      <td>TEME</td>\n      <td>UTC</td>\n      <td>...</td>\n      <td>0.001205</td>\n      <td>0.0</td>\n      <td>6761.643</td>\n      <td>92.223</td>\n      <td>384.581</td>\n      <td>382.435</td>\n      <td>PAYLOAD</td>\n      <td>LARGE</td>\n      <td>1 58515U 23191H   23362.00001157  .00120477  0...</td>\n      <td>2 58515  43.0004 162.7285 0001587 278.9590 219...</td>\n    </tr>\n  </tbody>\n</table>\n<p>5 rows × 31 columns</p>\n</div>"
     },
     "execution_count": 9,
     "metadata": {},
     "output_type": "execute_result"
    }
   ],
   "source": [
    "spacetrack_df, spacetrack_sv_df = csv_to_dataframe(dates, df['NORAD_CAT_ID'].unique(), col_order, ['NORAD_CAT_ID', 'EPOCH_DATE', 'EPOCH_TIME'])\n",
    "spacetrack_df.head()"
   ],
   "metadata": {
    "collapsed": false,
    "ExecuteTime": {
     "start_time": "2024-04-03T17:04:27.120164700Z"
    }
   },
   "id": "c06c399f51110e20"
  },
  {
   "cell_type": "code",
   "execution_count": 10,
   "outputs": [
    {
     "data": {
      "text/plain": "       NORAD_CAT_ID   MEAN_MOTION  ECCENTRICITY   INCLINATION  RA_OF_ASC_NODE  \\\ncount  1.296776e+06  1.296776e+06  1.296776e+06  1.296776e+06    1.296776e+06   \nmean   3.945161e+04  1.446251e+01  5.839052e-03  7.481927e+01    1.629612e+02   \nstd    1.703515e+04  8.689821e-01  1.579416e-02  2.185046e+01    1.048953e+02   \nmin    1.100000e+01  1.125018e+01  4.000000e-07  6.731300e+00    1.000000e-04   \n25%    2.684700e+04  1.401164e+01  1.533000e-04  5.316060e+01    7.325910e+01   \n50%    4.578500e+04  1.487345e+01  8.318000e-04  7.409650e+01    1.481988e+02   \n75%    5.387800e+04  1.508818e+01  4.392900e-03  9.765420e+01    2.552681e+02   \nmax    5.884800e+04  1.649006e+01  2.235296e-01  1.446443e+02    3.599996e+02   \n\n       ARG_OF_PERICENTER  MEAN_ANOMALY  EPHEMERIS_TYPE  REV_AT_EPOCH  \\\ncount       1.296776e+06  1.296776e+06       1296776.0  1.296776e+06   \nmean        1.664653e+02  1.936323e+02             0.0  2.925069e+04   \nstd         9.784140e+01  9.846500e+01             0.0  2.902221e+04   \nmin         2.000000e-04  6.000000e-04             0.0  1.000000e+00   \n25%         8.829780e+01  9.789340e+01             0.0  6.307000e+03   \n50%         1.355870e+02  2.250643e+02             0.0  1.592900e+04   \n75%         2.621465e+02  2.720713e+02             0.0  4.941600e+04   \nmax         3.599999e+02  3.599992e+02             0.0  9.999900e+04   \n\n              BSTAR  MEAN_MOTION_DOT  MEAN_MOTION_DDOT  SEMIMAJOR_AXIS  \\\ncount  1.296776e+06     1.296776e+06      1.296776e+06    1.296776e+06   \nmean   5.521824e-04     2.594924e-05      6.058023e-07    7.131330e+03   \nstd    1.456273e-02     1.541225e-03      1.192431e-04    3.042178e+02   \nmin   -1.005000e+00    -2.960601e-02     -1.278600e-05    6.520091e+03   \n25%    8.128900e-05     1.460000e-06      0.000000e+00    6.917949e+03   \n50%    2.797900e-04     1.318000e-05      0.000000e+00    6.984373e+03   \n75%    8.741400e-04     7.068000e-05      0.000000e+00    7.267905e+03   \nmax    9.156800e-01     6.686810e-01      6.821300e-02    8.413219e+03   \n\n             PERIOD      APOAPSIS     PERIAPSIS  \ncount  1.296776e+06  1.296776e+06  1.296776e+06  \nmean   9.995608e+01  7.968572e+02  7.095331e+02  \nstd    6.478958e+00  3.734517e+02  2.753659e+02  \nmin    8.732500e+01  1.477230e+02  1.307810e+02  \n25%    9.543900e+01  5.477650e+02  5.387740e+02  \n50%    9.681700e+01  6.263595e+02  5.702130e+02  \n75%    1.027720e+02  9.567795e+02  8.195412e+02  \nmax    1.279980e+02  3.907909e+03  2.020608e+03  ",
      "text/html": "<div>\n<style scoped>\n    .dataframe tbody tr th:only-of-type {\n        vertical-align: middle;\n    }\n\n    .dataframe tbody tr th {\n        vertical-align: top;\n    }\n\n    .dataframe thead th {\n        text-align: right;\n    }\n</style>\n<table border=\"1\" class=\"dataframe\">\n  <thead>\n    <tr style=\"text-align: right;\">\n      <th></th>\n      <th>NORAD_CAT_ID</th>\n      <th>MEAN_MOTION</th>\n      <th>ECCENTRICITY</th>\n      <th>INCLINATION</th>\n      <th>RA_OF_ASC_NODE</th>\n      <th>ARG_OF_PERICENTER</th>\n      <th>MEAN_ANOMALY</th>\n      <th>EPHEMERIS_TYPE</th>\n      <th>REV_AT_EPOCH</th>\n      <th>BSTAR</th>\n      <th>MEAN_MOTION_DOT</th>\n      <th>MEAN_MOTION_DDOT</th>\n      <th>SEMIMAJOR_AXIS</th>\n      <th>PERIOD</th>\n      <th>APOAPSIS</th>\n      <th>PERIAPSIS</th>\n    </tr>\n  </thead>\n  <tbody>\n    <tr>\n      <th>count</th>\n      <td>1.296776e+06</td>\n      <td>1.296776e+06</td>\n      <td>1.296776e+06</td>\n      <td>1.296776e+06</td>\n      <td>1.296776e+06</td>\n      <td>1.296776e+06</td>\n      <td>1.296776e+06</td>\n      <td>1296776.0</td>\n      <td>1.296776e+06</td>\n      <td>1.296776e+06</td>\n      <td>1.296776e+06</td>\n      <td>1.296776e+06</td>\n      <td>1.296776e+06</td>\n      <td>1.296776e+06</td>\n      <td>1.296776e+06</td>\n      <td>1.296776e+06</td>\n    </tr>\n    <tr>\n      <th>mean</th>\n      <td>3.945161e+04</td>\n      <td>1.446251e+01</td>\n      <td>5.839052e-03</td>\n      <td>7.481927e+01</td>\n      <td>1.629612e+02</td>\n      <td>1.664653e+02</td>\n      <td>1.936323e+02</td>\n      <td>0.0</td>\n      <td>2.925069e+04</td>\n      <td>5.521824e-04</td>\n      <td>2.594924e-05</td>\n      <td>6.058023e-07</td>\n      <td>7.131330e+03</td>\n      <td>9.995608e+01</td>\n      <td>7.968572e+02</td>\n      <td>7.095331e+02</td>\n    </tr>\n    <tr>\n      <th>std</th>\n      <td>1.703515e+04</td>\n      <td>8.689821e-01</td>\n      <td>1.579416e-02</td>\n      <td>2.185046e+01</td>\n      <td>1.048953e+02</td>\n      <td>9.784140e+01</td>\n      <td>9.846500e+01</td>\n      <td>0.0</td>\n      <td>2.902221e+04</td>\n      <td>1.456273e-02</td>\n      <td>1.541225e-03</td>\n      <td>1.192431e-04</td>\n      <td>3.042178e+02</td>\n      <td>6.478958e+00</td>\n      <td>3.734517e+02</td>\n      <td>2.753659e+02</td>\n    </tr>\n    <tr>\n      <th>min</th>\n      <td>1.100000e+01</td>\n      <td>1.125018e+01</td>\n      <td>4.000000e-07</td>\n      <td>6.731300e+00</td>\n      <td>1.000000e-04</td>\n      <td>2.000000e-04</td>\n      <td>6.000000e-04</td>\n      <td>0.0</td>\n      <td>1.000000e+00</td>\n      <td>-1.005000e+00</td>\n      <td>-2.960601e-02</td>\n      <td>-1.278600e-05</td>\n      <td>6.520091e+03</td>\n      <td>8.732500e+01</td>\n      <td>1.477230e+02</td>\n      <td>1.307810e+02</td>\n    </tr>\n    <tr>\n      <th>25%</th>\n      <td>2.684700e+04</td>\n      <td>1.401164e+01</td>\n      <td>1.533000e-04</td>\n      <td>5.316060e+01</td>\n      <td>7.325910e+01</td>\n      <td>8.829780e+01</td>\n      <td>9.789340e+01</td>\n      <td>0.0</td>\n      <td>6.307000e+03</td>\n      <td>8.128900e-05</td>\n      <td>1.460000e-06</td>\n      <td>0.000000e+00</td>\n      <td>6.917949e+03</td>\n      <td>9.543900e+01</td>\n      <td>5.477650e+02</td>\n      <td>5.387740e+02</td>\n    </tr>\n    <tr>\n      <th>50%</th>\n      <td>4.578500e+04</td>\n      <td>1.487345e+01</td>\n      <td>8.318000e-04</td>\n      <td>7.409650e+01</td>\n      <td>1.481988e+02</td>\n      <td>1.355870e+02</td>\n      <td>2.250643e+02</td>\n      <td>0.0</td>\n      <td>1.592900e+04</td>\n      <td>2.797900e-04</td>\n      <td>1.318000e-05</td>\n      <td>0.000000e+00</td>\n      <td>6.984373e+03</td>\n      <td>9.681700e+01</td>\n      <td>6.263595e+02</td>\n      <td>5.702130e+02</td>\n    </tr>\n    <tr>\n      <th>75%</th>\n      <td>5.387800e+04</td>\n      <td>1.508818e+01</td>\n      <td>4.392900e-03</td>\n      <td>9.765420e+01</td>\n      <td>2.552681e+02</td>\n      <td>2.621465e+02</td>\n      <td>2.720713e+02</td>\n      <td>0.0</td>\n      <td>4.941600e+04</td>\n      <td>8.741400e-04</td>\n      <td>7.068000e-05</td>\n      <td>0.000000e+00</td>\n      <td>7.267905e+03</td>\n      <td>1.027720e+02</td>\n      <td>9.567795e+02</td>\n      <td>8.195412e+02</td>\n    </tr>\n    <tr>\n      <th>max</th>\n      <td>5.884800e+04</td>\n      <td>1.649006e+01</td>\n      <td>2.235296e-01</td>\n      <td>1.446443e+02</td>\n      <td>3.599996e+02</td>\n      <td>3.599999e+02</td>\n      <td>3.599992e+02</td>\n      <td>0.0</td>\n      <td>9.999900e+04</td>\n      <td>9.156800e-01</td>\n      <td>6.686810e-01</td>\n      <td>6.821300e-02</td>\n      <td>8.413219e+03</td>\n      <td>1.279980e+02</td>\n      <td>3.907909e+03</td>\n      <td>2.020608e+03</td>\n    </tr>\n  </tbody>\n</table>\n</div>"
     },
     "execution_count": 10,
     "metadata": {},
     "output_type": "execute_result"
    }
   ],
   "source": [
    "spacetrack_df.describe()"
   ],
   "metadata": {
    "collapsed": false,
    "ExecuteTime": {
     "start_time": "2024-04-03T17:07:08.235309700Z"
    }
   },
   "id": "8eeab6e476f930f6"
  },
  {
   "cell_type": "code",
   "execution_count": 11,
   "outputs": [],
   "source": [
    "spacetrack_df.to_csv(\"../datasets/space-track-dataset.csv\", index=False)"
   ],
   "metadata": {
    "collapsed": false,
    "ExecuteTime": {
     "start_time": "2024-04-03T17:07:23.543110800Z"
    }
   },
   "id": "bcd63284f2c4d1e4"
  },
  {
   "cell_type": "code",
   "execution_count": null,
   "outputs": [],
   "source": [
    "spacetrack_sv_df.head()"
   ],
   "metadata": {
    "collapsed": false
   },
   "id": "d15db245407ff389"
  },
  {
   "cell_type": "code",
   "execution_count": null,
   "outputs": [],
   "source": [
    "spacetrack_sv_df.describe()"
   ],
   "metadata": {
    "collapsed": false
   },
   "id": "91701f85912a953e"
  },
  {
   "cell_type": "code",
   "execution_count": null,
   "outputs": [],
   "source": [
    "spacetrack_sv_df.to_csv(\"../datasets/space-track-dataset-sv.csv\", index=False)"
   ],
   "metadata": {
    "collapsed": false
   },
   "id": "5c05478ef7dbb1e5"
  },
  {
   "cell_type": "markdown",
   "source": [
    "# Build complementary Space-Track dataset with TLEs converted to State Vectors"
   ],
   "metadata": {
    "collapsed": false
   },
   "id": "8b93c78beb90eabd"
  },
  {
   "cell_type": "code",
   "execution_count": 18,
   "outputs": [
    {
     "name": "stderr",
     "output_type": "stream",
     "text": [
      "C:\\Users\\DMSS_\\AppData\\Local\\Temp\\ipykernel_17676\\677191836.py:1: DtypeWarning: Columns (3) have mixed types. Specify dtype option on import or set low_memory=False.\n",
      "  spacetrack_df = pd.read_csv('../datasets/space-track-dataset.csv', memory_map=True)\n"
     ]
    },
    {
     "data": {
      "text/plain": "   NORAD_CAT_ID       OBJECT_NAME   OBJECT_ID DECAY_DATE  EPOCH_DATE  \\\n0         45102     STARLINK-1195  2020-006BL        NaN  2023-12-28   \n1         56899     STARLINK-6203   2023-083Z        NaN  2023-12-28   \n2         58063    STARLINK-30585   2023-158N        NaN  2023-12-28   \n3         58515    STARLINK-31017   2023-191H        NaN  2023-12-28   \n4         17725  COSMOS 374 DEB *  1970-089DC        NaN  2023-12-28   \n\n        EPOCH_TIME        CREATION_DATE CENTER_NAME REF_FRAME TIME_SYSTEM  \\\n0  00:00:00.999648  2023-12-28T06:46:17       EARTH      TEME         UTC   \n1  00:00:00.999648  2023-12-28T06:26:17       EARTH      TEME         UTC   \n2  00:00:00.999648  2023-12-28T06:16:17       EARTH      TEME         UTC   \n3  00:00:00.999648  2023-12-28T06:46:17       EARTH      TEME         UTC   \n4  00:00:05.080320  2023-12-28T18:10:27       EARTH      TEME         UTC   \n\n   ... MEAN_MOTION_DOT  MEAN_MOTION_DDOT  SEMIMAJOR_AXIS   PERIOD  APOAPSIS  \\\n0  ...        0.001659               0.0        6711.059   91.190   333.568   \n1  ...       -0.000140               0.0        6937.217   95.838   560.049   \n2  ...       -0.012126               0.0        6934.593   95.784   557.373   \n3  ...        0.001205               0.0        6761.643   92.223   384.581   \n4  ...        0.000012               0.0        7521.696  108.202  1736.430   \n\n   PERIAPSIS  OBJECT_TYPE  RCS_SIZE  \\\n0    332.281      PAYLOAD     LARGE   \n1    558.115      PAYLOAD     LARGE   \n2    555.544      PAYLOAD     LARGE   \n3    382.435      PAYLOAD     LARGE   \n4    550.691       DEBRIS     SMALL   \n\n                                           TLE_LINE1  \\\n0  1 45102U 20006BL  23362.00001157  .00165925  0...   \n1  1 56899U 23083Z   23362.00001157 -.00013968  0...   \n2  1 58063U 23158N   23362.00001157 -.01212631  0...   \n3  1 58515U 23191H   23362.00001157  .00120477  0...   \n4  1 17725U 70089DC  23362.00005880  .00001185  0...   \n\n                                           TLE_LINE2  \n0  2 45102  53.0456 223.3367 0000959  49.0274  96...  \n1  2 56899  43.0034 123.0158 0001394 272.0222 283...  \n2  2 58063  43.0014  71.6139 0001319 262.3570 310...  \n3  2 58515  43.0004 162.7285 0001587 278.9590 219...  \n4  2 17725  62.7445 204.8063 0788212 345.5877  80...  \n\n[5 rows x 31 columns]",
      "text/html": "<div>\n<style scoped>\n    .dataframe tbody tr th:only-of-type {\n        vertical-align: middle;\n    }\n\n    .dataframe tbody tr th {\n        vertical-align: top;\n    }\n\n    .dataframe thead th {\n        text-align: right;\n    }\n</style>\n<table border=\"1\" class=\"dataframe\">\n  <thead>\n    <tr style=\"text-align: right;\">\n      <th></th>\n      <th>NORAD_CAT_ID</th>\n      <th>OBJECT_NAME</th>\n      <th>OBJECT_ID</th>\n      <th>DECAY_DATE</th>\n      <th>EPOCH_DATE</th>\n      <th>EPOCH_TIME</th>\n      <th>CREATION_DATE</th>\n      <th>CENTER_NAME</th>\n      <th>REF_FRAME</th>\n      <th>TIME_SYSTEM</th>\n      <th>...</th>\n      <th>MEAN_MOTION_DOT</th>\n      <th>MEAN_MOTION_DDOT</th>\n      <th>SEMIMAJOR_AXIS</th>\n      <th>PERIOD</th>\n      <th>APOAPSIS</th>\n      <th>PERIAPSIS</th>\n      <th>OBJECT_TYPE</th>\n      <th>RCS_SIZE</th>\n      <th>TLE_LINE1</th>\n      <th>TLE_LINE2</th>\n    </tr>\n  </thead>\n  <tbody>\n    <tr>\n      <th>0</th>\n      <td>45102</td>\n      <td>STARLINK-1195</td>\n      <td>2020-006BL</td>\n      <td>NaN</td>\n      <td>2023-12-28</td>\n      <td>00:00:00.999648</td>\n      <td>2023-12-28T06:46:17</td>\n      <td>EARTH</td>\n      <td>TEME</td>\n      <td>UTC</td>\n      <td>...</td>\n      <td>0.001659</td>\n      <td>0.0</td>\n      <td>6711.059</td>\n      <td>91.190</td>\n      <td>333.568</td>\n      <td>332.281</td>\n      <td>PAYLOAD</td>\n      <td>LARGE</td>\n      <td>1 45102U 20006BL  23362.00001157  .00165925  0...</td>\n      <td>2 45102  53.0456 223.3367 0000959  49.0274  96...</td>\n    </tr>\n    <tr>\n      <th>1</th>\n      <td>56899</td>\n      <td>STARLINK-6203</td>\n      <td>2023-083Z</td>\n      <td>NaN</td>\n      <td>2023-12-28</td>\n      <td>00:00:00.999648</td>\n      <td>2023-12-28T06:26:17</td>\n      <td>EARTH</td>\n      <td>TEME</td>\n      <td>UTC</td>\n      <td>...</td>\n      <td>-0.000140</td>\n      <td>0.0</td>\n      <td>6937.217</td>\n      <td>95.838</td>\n      <td>560.049</td>\n      <td>558.115</td>\n      <td>PAYLOAD</td>\n      <td>LARGE</td>\n      <td>1 56899U 23083Z   23362.00001157 -.00013968  0...</td>\n      <td>2 56899  43.0034 123.0158 0001394 272.0222 283...</td>\n    </tr>\n    <tr>\n      <th>2</th>\n      <td>58063</td>\n      <td>STARLINK-30585</td>\n      <td>2023-158N</td>\n      <td>NaN</td>\n      <td>2023-12-28</td>\n      <td>00:00:00.999648</td>\n      <td>2023-12-28T06:16:17</td>\n      <td>EARTH</td>\n      <td>TEME</td>\n      <td>UTC</td>\n      <td>...</td>\n      <td>-0.012126</td>\n      <td>0.0</td>\n      <td>6934.593</td>\n      <td>95.784</td>\n      <td>557.373</td>\n      <td>555.544</td>\n      <td>PAYLOAD</td>\n      <td>LARGE</td>\n      <td>1 58063U 23158N   23362.00001157 -.01212631  0...</td>\n      <td>2 58063  43.0014  71.6139 0001319 262.3570 310...</td>\n    </tr>\n    <tr>\n      <th>3</th>\n      <td>58515</td>\n      <td>STARLINK-31017</td>\n      <td>2023-191H</td>\n      <td>NaN</td>\n      <td>2023-12-28</td>\n      <td>00:00:00.999648</td>\n      <td>2023-12-28T06:46:17</td>\n      <td>EARTH</td>\n      <td>TEME</td>\n      <td>UTC</td>\n      <td>...</td>\n      <td>0.001205</td>\n      <td>0.0</td>\n      <td>6761.643</td>\n      <td>92.223</td>\n      <td>384.581</td>\n      <td>382.435</td>\n      <td>PAYLOAD</td>\n      <td>LARGE</td>\n      <td>1 58515U 23191H   23362.00001157  .00120477  0...</td>\n      <td>2 58515  43.0004 162.7285 0001587 278.9590 219...</td>\n    </tr>\n    <tr>\n      <th>4</th>\n      <td>17725</td>\n      <td>COSMOS 374 DEB *</td>\n      <td>1970-089DC</td>\n      <td>NaN</td>\n      <td>2023-12-28</td>\n      <td>00:00:05.080320</td>\n      <td>2023-12-28T18:10:27</td>\n      <td>EARTH</td>\n      <td>TEME</td>\n      <td>UTC</td>\n      <td>...</td>\n      <td>0.000012</td>\n      <td>0.0</td>\n      <td>7521.696</td>\n      <td>108.202</td>\n      <td>1736.430</td>\n      <td>550.691</td>\n      <td>DEBRIS</td>\n      <td>SMALL</td>\n      <td>1 17725U 70089DC  23362.00005880  .00001185  0...</td>\n      <td>2 17725  62.7445 204.8063 0788212 345.5877  80...</td>\n    </tr>\n  </tbody>\n</table>\n<p>5 rows × 31 columns</p>\n</div>"
     },
     "execution_count": 18,
     "metadata": {},
     "output_type": "execute_result"
    }
   ],
   "source": [
    "spacetrack_df = pd.read_csv('../datasets/space-track-dataset.csv', memory_map=True)\n",
    "spacetrack_df.head()"
   ],
   "metadata": {
    "collapsed": false,
    "ExecuteTime": {
     "end_time": "2024-04-08T21:17:54.430257300Z",
     "start_time": "2024-04-08T21:17:47.658945200Z"
    }
   },
   "id": "20cfada70e723b21"
  },
  {
   "cell_type": "code",
   "execution_count": 19,
   "outputs": [],
   "source": [
    "sv_df = spacetrack_df[['NORAD_CAT_ID', 'OBJECT_NAME', 'OBJECT_ID', 'DECAY_DATE', 'EPOCH_DATE', 'EPOCH_TIME', 'CENTER_NAME', 'REF_FRAME', 'TIME_SYSTEM', 'OBJECT_TYPE', 'RCS_SIZE']].copy()"
   ],
   "metadata": {
    "collapsed": false,
    "ExecuteTime": {
     "end_time": "2024-04-08T21:18:00.587734600Z",
     "start_time": "2024-04-08T21:18:00.417968200Z"
    }
   },
   "id": "6950649ad4d9d5eb"
  },
  {
   "cell_type": "code",
   "execution_count": 22,
   "outputs": [],
   "source": [
    "sv_series = spacetrack_df[['TLE_LINE1', 'TLE_LINE2']].apply(tle_to_sv, axis=1)\n",
    "sv_df['PX'] =  sv_series.apply(lambda sv: sv.getPosition().x / 1000) # in km\n",
    "sv_df['PY'] =  sv_series.apply(lambda sv: sv.getPosition().y / 1000)\n",
    "sv_df['PZ'] =  sv_series.apply(lambda sv: sv.getPosition().z / 1000)\n",
    "sv_df['ALTITUDE'] = np.sqrt(sv_df['PX']**2 + sv_df['PY']**2 + sv_df['PZ']**2) - (Constants.WGS84_EARTH_EQUATORIAL_RADIUS / 1000)\n",
    "\n",
    "sv_df['VX'] =  sv_series.apply(lambda sv: sv.getVelocity().x / 1000) # in km/s\n",
    "sv_df['VY'] =  sv_series.apply(lambda sv: sv.getVelocity().y / 1000)\n",
    "sv_df['VZ'] =  sv_series.apply(lambda sv: sv.getVelocity().z / 1000)\n",
    "sv_df['VELOCITY_NORM'] = np.sqrt(sv_df['VX']**2 + sv_df['VY']**2 + sv_df['VZ']**2)"
   ],
   "metadata": {
    "collapsed": false,
    "ExecuteTime": {
     "end_time": "2024-04-08T21:19:19.464561300Z",
     "start_time": "2024-04-08T21:18:21.505869300Z"
    }
   },
   "id": "4def445d3a8e0332"
  },
  {
   "cell_type": "code",
   "execution_count": 23,
   "outputs": [
    {
     "data": {
      "text/plain": "Index(['NORAD_CAT_ID', 'OBJECT_NAME', 'OBJECT_ID', 'DECAY_DATE', 'EPOCH_DATE',\n       'EPOCH_TIME', 'CENTER_NAME', 'REF_FRAME', 'TIME_SYSTEM', 'OBJECT_TYPE',\n       'RCS_SIZE', 'PX', 'PY', 'PZ', 'ALTITUDE', 'VX', 'VY', 'VZ',\n       'VELOCITY_NORM'],\n      dtype='object')"
     },
     "execution_count": 23,
     "metadata": {},
     "output_type": "execute_result"
    }
   ],
   "source": [
    "sv_df.columns"
   ],
   "metadata": {
    "collapsed": false,
    "ExecuteTime": {
     "end_time": "2024-04-08T21:19:24.340347600Z",
     "start_time": "2024-04-08T21:19:24.309072700Z"
    }
   },
   "id": "2bcc81798e080b7c"
  },
  {
   "cell_type": "code",
   "execution_count": 24,
   "outputs": [
    {
     "name": "stdout",
     "output_type": "stream",
     "text": [
      "Number of lines: 1068861\n"
     ]
    },
    {
     "data": {
      "text/plain": "   NORAD_CAT_ID       OBJECT_NAME   OBJECT_ID DECAY_DATE  EPOCH_DATE  \\\n0         45102     STARLINK-1195  2020-006BL        NaN  2023-12-28   \n1         56899     STARLINK-6203   2023-083Z        NaN  2023-12-28   \n2         58063    STARLINK-30585   2023-158N        NaN  2023-12-28   \n3         58515    STARLINK-31017   2023-191H        NaN  2023-12-28   \n4         17725  COSMOS 374 DEB *  1970-089DC        NaN  2023-12-28   \n\n        EPOCH_TIME CENTER_NAME REF_FRAME TIME_SYSTEM OBJECT_TYPE RCS_SIZE  \\\n0  00:00:00.999648       EARTH      TEME         UTC     PAYLOAD    LARGE   \n1  00:00:00.999648       EARTH      TEME         UTC     PAYLOAD    LARGE   \n2  00:00:00.999648       EARTH      TEME         UTC     PAYLOAD    LARGE   \n3  00:00:00.999648       EARTH      TEME         UTC     PAYLOAD    LARGE   \n4  00:00:05.080320       EARTH      TEME         UTC      DEBRIS    SMALL   \n\n            PX           PY           PZ     ALTITUDE        VX        VY  \\\n0  5593.089960  2174.212241  2998.003175   329.908706  0.509016  5.757240   \n1  4783.321895 -4862.754078 -1268.752433   559.894299  3.372156  4.612576   \n2   792.022048 -6390.032459 -2578.743598   557.980956  5.713646  2.455746   \n3  3816.860969 -4648.969267  3080.819677   380.027898  6.149002  2.459398   \n4  -345.566266 -3801.947010  6414.006665  1086.023945  6.747001  1.896311   \n\n         VZ  VELOCITY_NORM  \n0 -5.105527       7.711765  \n1 -4.984458       7.582355  \n2 -4.336949       7.581924  \n3 -3.895316       7.683251  \n4  2.154170       7.332017  ",
      "text/html": "<div>\n<style scoped>\n    .dataframe tbody tr th:only-of-type {\n        vertical-align: middle;\n    }\n\n    .dataframe tbody tr th {\n        vertical-align: top;\n    }\n\n    .dataframe thead th {\n        text-align: right;\n    }\n</style>\n<table border=\"1\" class=\"dataframe\">\n  <thead>\n    <tr style=\"text-align: right;\">\n      <th></th>\n      <th>NORAD_CAT_ID</th>\n      <th>OBJECT_NAME</th>\n      <th>OBJECT_ID</th>\n      <th>DECAY_DATE</th>\n      <th>EPOCH_DATE</th>\n      <th>EPOCH_TIME</th>\n      <th>CENTER_NAME</th>\n      <th>REF_FRAME</th>\n      <th>TIME_SYSTEM</th>\n      <th>OBJECT_TYPE</th>\n      <th>RCS_SIZE</th>\n      <th>PX</th>\n      <th>PY</th>\n      <th>PZ</th>\n      <th>ALTITUDE</th>\n      <th>VX</th>\n      <th>VY</th>\n      <th>VZ</th>\n      <th>VELOCITY_NORM</th>\n    </tr>\n  </thead>\n  <tbody>\n    <tr>\n      <th>0</th>\n      <td>45102</td>\n      <td>STARLINK-1195</td>\n      <td>2020-006BL</td>\n      <td>NaN</td>\n      <td>2023-12-28</td>\n      <td>00:00:00.999648</td>\n      <td>EARTH</td>\n      <td>TEME</td>\n      <td>UTC</td>\n      <td>PAYLOAD</td>\n      <td>LARGE</td>\n      <td>5593.089960</td>\n      <td>2174.212241</td>\n      <td>2998.003175</td>\n      <td>329.908706</td>\n      <td>0.509016</td>\n      <td>5.757240</td>\n      <td>-5.105527</td>\n      <td>7.711765</td>\n    </tr>\n    <tr>\n      <th>1</th>\n      <td>56899</td>\n      <td>STARLINK-6203</td>\n      <td>2023-083Z</td>\n      <td>NaN</td>\n      <td>2023-12-28</td>\n      <td>00:00:00.999648</td>\n      <td>EARTH</td>\n      <td>TEME</td>\n      <td>UTC</td>\n      <td>PAYLOAD</td>\n      <td>LARGE</td>\n      <td>4783.321895</td>\n      <td>-4862.754078</td>\n      <td>-1268.752433</td>\n      <td>559.894299</td>\n      <td>3.372156</td>\n      <td>4.612576</td>\n      <td>-4.984458</td>\n      <td>7.582355</td>\n    </tr>\n    <tr>\n      <th>2</th>\n      <td>58063</td>\n      <td>STARLINK-30585</td>\n      <td>2023-158N</td>\n      <td>NaN</td>\n      <td>2023-12-28</td>\n      <td>00:00:00.999648</td>\n      <td>EARTH</td>\n      <td>TEME</td>\n      <td>UTC</td>\n      <td>PAYLOAD</td>\n      <td>LARGE</td>\n      <td>792.022048</td>\n      <td>-6390.032459</td>\n      <td>-2578.743598</td>\n      <td>557.980956</td>\n      <td>5.713646</td>\n      <td>2.455746</td>\n      <td>-4.336949</td>\n      <td>7.581924</td>\n    </tr>\n    <tr>\n      <th>3</th>\n      <td>58515</td>\n      <td>STARLINK-31017</td>\n      <td>2023-191H</td>\n      <td>NaN</td>\n      <td>2023-12-28</td>\n      <td>00:00:00.999648</td>\n      <td>EARTH</td>\n      <td>TEME</td>\n      <td>UTC</td>\n      <td>PAYLOAD</td>\n      <td>LARGE</td>\n      <td>3816.860969</td>\n      <td>-4648.969267</td>\n      <td>3080.819677</td>\n      <td>380.027898</td>\n      <td>6.149002</td>\n      <td>2.459398</td>\n      <td>-3.895316</td>\n      <td>7.683251</td>\n    </tr>\n    <tr>\n      <th>4</th>\n      <td>17725</td>\n      <td>COSMOS 374 DEB *</td>\n      <td>1970-089DC</td>\n      <td>NaN</td>\n      <td>2023-12-28</td>\n      <td>00:00:05.080320</td>\n      <td>EARTH</td>\n      <td>TEME</td>\n      <td>UTC</td>\n      <td>DEBRIS</td>\n      <td>SMALL</td>\n      <td>-345.566266</td>\n      <td>-3801.947010</td>\n      <td>6414.006665</td>\n      <td>1086.023945</td>\n      <td>6.747001</td>\n      <td>1.896311</td>\n      <td>2.154170</td>\n      <td>7.332017</td>\n    </tr>\n  </tbody>\n</table>\n</div>"
     },
     "execution_count": 24,
     "metadata": {},
     "output_type": "execute_result"
    }
   ],
   "source": [
    "print(f'Number of lines: {sv_df.shape[0]}')\n",
    "sv_df.head()"
   ],
   "metadata": {
    "collapsed": false,
    "ExecuteTime": {
     "end_time": "2024-04-08T21:19:26.793320400Z",
     "start_time": "2024-04-08T21:19:26.731372300Z"
    }
   },
   "id": "15c9c288089a1d1"
  },
  {
   "cell_type": "code",
   "execution_count": 25,
   "outputs": [],
   "source": [
    "sv_df.to_csv(\"../datasets/space-track-dataset-sv.csv\", index=False)"
   ],
   "metadata": {
    "collapsed": false,
    "ExecuteTime": {
     "end_time": "2024-04-08T21:19:42.750187600Z",
     "start_time": "2024-04-08T21:19:30.096834400Z"
    }
   },
   "id": "3e915ce1beb469c7"
  },
  {
   "cell_type": "markdown",
   "source": [
    "# Sample reduced Space-Track dataset following no criteria"
   ],
   "metadata": {
    "collapsed": false
   },
   "id": "7efc12e00c37ca54"
  },
  {
   "cell_type": "code",
   "execution_count": 8,
   "outputs": [
    {
     "name": "stderr",
     "output_type": "stream",
     "text": [
      "C:\\Users\\DMSS_\\AppData\\Local\\Temp\\ipykernel_18556\\677191836.py:1: DtypeWarning: Columns (3) have mixed types. Specify dtype option on import or set low_memory=False.\n",
      "  spacetrack_df = pd.read_csv('../datasets/space-track-dataset.csv', memory_map=True)\n"
     ]
    },
    {
     "data": {
      "text/plain": "   NORAD_CAT_ID       OBJECT_NAME   OBJECT_ID DECAY_DATE  EPOCH_DATE  \\\n0         45102     STARLINK-1195  2020-006BL        NaN  2023-12-28   \n1         56899     STARLINK-6203   2023-083Z        NaN  2023-12-28   \n2         58063    STARLINK-30585   2023-158N        NaN  2023-12-28   \n3         58515    STARLINK-31017   2023-191H        NaN  2023-12-28   \n4         17725  COSMOS 374 DEB *  1970-089DC        NaN  2023-12-28   \n\n        EPOCH_TIME        CREATION_DATE CENTER_NAME REF_FRAME TIME_SYSTEM  \\\n0  00:00:00.999648  2023-12-28T06:46:17       EARTH      TEME         UTC   \n1  00:00:00.999648  2023-12-28T06:26:17       EARTH      TEME         UTC   \n2  00:00:00.999648  2023-12-28T06:16:17       EARTH      TEME         UTC   \n3  00:00:00.999648  2023-12-28T06:46:17       EARTH      TEME         UTC   \n4  00:00:05.080320  2023-12-28T18:10:27       EARTH      TEME         UTC   \n\n   ... MEAN_MOTION_DOT  MEAN_MOTION_DDOT  SEMIMAJOR_AXIS   PERIOD  APOAPSIS  \\\n0  ...        0.001659               0.0        6711.059   91.190   333.568   \n1  ...       -0.000140               0.0        6937.217   95.838   560.049   \n2  ...       -0.012126               0.0        6934.593   95.784   557.373   \n3  ...        0.001205               0.0        6761.643   92.223   384.581   \n4  ...        0.000012               0.0        7521.696  108.202  1736.430   \n\n   PERIAPSIS  OBJECT_TYPE  RCS_SIZE  \\\n0    332.281      PAYLOAD     LARGE   \n1    558.115      PAYLOAD     LARGE   \n2    555.544      PAYLOAD     LARGE   \n3    382.435      PAYLOAD     LARGE   \n4    550.691       DEBRIS     SMALL   \n\n                                           TLE_LINE1  \\\n0  1 45102U 20006BL  23362.00001157  .00165925  0...   \n1  1 56899U 23083Z   23362.00001157 -.00013968  0...   \n2  1 58063U 23158N   23362.00001157 -.01212631  0...   \n3  1 58515U 23191H   23362.00001157  .00120477  0...   \n4  1 17725U 70089DC  23362.00005880  .00001185  0...   \n\n                                           TLE_LINE2  \n0  2 45102  53.0456 223.3367 0000959  49.0274  96...  \n1  2 56899  43.0034 123.0158 0001394 272.0222 283...  \n2  2 58063  43.0014  71.6139 0001319 262.3570 310...  \n3  2 58515  43.0004 162.7285 0001587 278.9590 219...  \n4  2 17725  62.7445 204.8063 0788212 345.5877  80...  \n\n[5 rows x 31 columns]",
      "text/html": "<div>\n<style scoped>\n    .dataframe tbody tr th:only-of-type {\n        vertical-align: middle;\n    }\n\n    .dataframe tbody tr th {\n        vertical-align: top;\n    }\n\n    .dataframe thead th {\n        text-align: right;\n    }\n</style>\n<table border=\"1\" class=\"dataframe\">\n  <thead>\n    <tr style=\"text-align: right;\">\n      <th></th>\n      <th>NORAD_CAT_ID</th>\n      <th>OBJECT_NAME</th>\n      <th>OBJECT_ID</th>\n      <th>DECAY_DATE</th>\n      <th>EPOCH_DATE</th>\n      <th>EPOCH_TIME</th>\n      <th>CREATION_DATE</th>\n      <th>CENTER_NAME</th>\n      <th>REF_FRAME</th>\n      <th>TIME_SYSTEM</th>\n      <th>...</th>\n      <th>MEAN_MOTION_DOT</th>\n      <th>MEAN_MOTION_DDOT</th>\n      <th>SEMIMAJOR_AXIS</th>\n      <th>PERIOD</th>\n      <th>APOAPSIS</th>\n      <th>PERIAPSIS</th>\n      <th>OBJECT_TYPE</th>\n      <th>RCS_SIZE</th>\n      <th>TLE_LINE1</th>\n      <th>TLE_LINE2</th>\n    </tr>\n  </thead>\n  <tbody>\n    <tr>\n      <th>0</th>\n      <td>45102</td>\n      <td>STARLINK-1195</td>\n      <td>2020-006BL</td>\n      <td>NaN</td>\n      <td>2023-12-28</td>\n      <td>00:00:00.999648</td>\n      <td>2023-12-28T06:46:17</td>\n      <td>EARTH</td>\n      <td>TEME</td>\n      <td>UTC</td>\n      <td>...</td>\n      <td>0.001659</td>\n      <td>0.0</td>\n      <td>6711.059</td>\n      <td>91.190</td>\n      <td>333.568</td>\n      <td>332.281</td>\n      <td>PAYLOAD</td>\n      <td>LARGE</td>\n      <td>1 45102U 20006BL  23362.00001157  .00165925  0...</td>\n      <td>2 45102  53.0456 223.3367 0000959  49.0274  96...</td>\n    </tr>\n    <tr>\n      <th>1</th>\n      <td>56899</td>\n      <td>STARLINK-6203</td>\n      <td>2023-083Z</td>\n      <td>NaN</td>\n      <td>2023-12-28</td>\n      <td>00:00:00.999648</td>\n      <td>2023-12-28T06:26:17</td>\n      <td>EARTH</td>\n      <td>TEME</td>\n      <td>UTC</td>\n      <td>...</td>\n      <td>-0.000140</td>\n      <td>0.0</td>\n      <td>6937.217</td>\n      <td>95.838</td>\n      <td>560.049</td>\n      <td>558.115</td>\n      <td>PAYLOAD</td>\n      <td>LARGE</td>\n      <td>1 56899U 23083Z   23362.00001157 -.00013968  0...</td>\n      <td>2 56899  43.0034 123.0158 0001394 272.0222 283...</td>\n    </tr>\n    <tr>\n      <th>2</th>\n      <td>58063</td>\n      <td>STARLINK-30585</td>\n      <td>2023-158N</td>\n      <td>NaN</td>\n      <td>2023-12-28</td>\n      <td>00:00:00.999648</td>\n      <td>2023-12-28T06:16:17</td>\n      <td>EARTH</td>\n      <td>TEME</td>\n      <td>UTC</td>\n      <td>...</td>\n      <td>-0.012126</td>\n      <td>0.0</td>\n      <td>6934.593</td>\n      <td>95.784</td>\n      <td>557.373</td>\n      <td>555.544</td>\n      <td>PAYLOAD</td>\n      <td>LARGE</td>\n      <td>1 58063U 23158N   23362.00001157 -.01212631  0...</td>\n      <td>2 58063  43.0014  71.6139 0001319 262.3570 310...</td>\n    </tr>\n    <tr>\n      <th>3</th>\n      <td>58515</td>\n      <td>STARLINK-31017</td>\n      <td>2023-191H</td>\n      <td>NaN</td>\n      <td>2023-12-28</td>\n      <td>00:00:00.999648</td>\n      <td>2023-12-28T06:46:17</td>\n      <td>EARTH</td>\n      <td>TEME</td>\n      <td>UTC</td>\n      <td>...</td>\n      <td>0.001205</td>\n      <td>0.0</td>\n      <td>6761.643</td>\n      <td>92.223</td>\n      <td>384.581</td>\n      <td>382.435</td>\n      <td>PAYLOAD</td>\n      <td>LARGE</td>\n      <td>1 58515U 23191H   23362.00001157  .00120477  0...</td>\n      <td>2 58515  43.0004 162.7285 0001587 278.9590 219...</td>\n    </tr>\n    <tr>\n      <th>4</th>\n      <td>17725</td>\n      <td>COSMOS 374 DEB *</td>\n      <td>1970-089DC</td>\n      <td>NaN</td>\n      <td>2023-12-28</td>\n      <td>00:00:05.080320</td>\n      <td>2023-12-28T18:10:27</td>\n      <td>EARTH</td>\n      <td>TEME</td>\n      <td>UTC</td>\n      <td>...</td>\n      <td>0.000012</td>\n      <td>0.0</td>\n      <td>7521.696</td>\n      <td>108.202</td>\n      <td>1736.430</td>\n      <td>550.691</td>\n      <td>DEBRIS</td>\n      <td>SMALL</td>\n      <td>1 17725U 70089DC  23362.00005880  .00001185  0...</td>\n      <td>2 17725  62.7445 204.8063 0788212 345.5877  80...</td>\n    </tr>\n  </tbody>\n</table>\n<p>5 rows × 31 columns</p>\n</div>"
     },
     "execution_count": 8,
     "metadata": {},
     "output_type": "execute_result"
    }
   ],
   "source": [
    "spacetrack_df = pd.read_csv('../datasets/space-track-dataset.csv', memory_map=True)\n",
    "spacetrack_df.head()"
   ],
   "metadata": {
    "collapsed": false,
    "ExecuteTime": {
     "end_time": "2024-04-09T10:26:42.566634700Z",
     "start_time": "2024-04-09T10:26:29.286375400Z"
    }
   },
   "id": "8f55df8df8c455d2"
  },
  {
   "cell_type": "code",
   "execution_count": 9,
   "outputs": [],
   "source": [
    "def reduced_dataset(dates, dataset, frac):\n",
    "    reduced_df = pd.DataFrame()\n",
    "    for date in tqdm(dates):\n",
    "        df_date = dataset[dataset['EPOCH_DATE'] == date].sample(frac=frac, random_state=7, ignore_index=True)\n",
    "        df_date.sort_values(by=['EPOCH_DATE', 'EPOCH_TIME', 'NORAD_CAT_ID'], ignore_index=True, inplace=True)\n",
    "        reduced_df = pd.concat([reduced_df, df_date], ignore_index=True)\n",
    "    return reduced_df"
   ],
   "metadata": {
    "collapsed": false,
    "ExecuteTime": {
     "end_time": "2024-04-09T10:26:47.579937100Z",
     "start_time": "2024-04-09T10:26:47.480670800Z"
    }
   },
   "id": "a4d4803b5d14388d"
  },
  {
   "cell_type": "code",
   "execution_count": 10,
   "outputs": [
    {
     "data": {
      "text/plain": "  0%|          | 0/32 [00:00<?, ?it/s]",
      "application/vnd.jupyter.widget-view+json": {
       "version_major": 2,
       "version_minor": 0,
       "model_id": "e861862becc14431b244c4738e19aa0e"
      }
     },
     "metadata": {},
     "output_type": "display_data"
    },
    {
     "name": "stdout",
     "output_type": "stream",
     "text": [
      "Number of lines: 267216\n"
     ]
    },
    {
     "data": {
      "text/plain": "   NORAD_CAT_ID         OBJECT_NAME   OBJECT_ID DECAY_DATE  EPOCH_DATE  \\\n0         58063      STARLINK-30585   2023-158N        NaN  2023-12-28   \n1         45739       STARLINK-1475   2020-038K        NaN  2023-12-28   \n2         45227       STARLINK-1221  2020-012BB        NaN  2023-12-28   \n3         27609       TRAILBLAZER 2   2002-058E        NaN  2023-12-28   \n4         14879  THORAD DELTA 1 DEB  1974-089ES        NaN  2023-12-28   \n\n        EPOCH_TIME        CREATION_DATE CENTER_NAME REF_FRAME TIME_SYSTEM  \\\n0  00:00:00.999648  2023-12-28T06:16:17       EARTH      TEME         UTC   \n1  00:01:55.626528  2023-12-28T18:10:27       EARTH      TEME         UTC   \n2  00:01:58.804320  2023-12-28T06:26:17       EARTH      TEME         UTC   \n3  00:02:24.040032  2023-12-28T06:16:17       EARTH      TEME         UTC   \n4  00:02:43.493856  2023-12-28T18:10:27       EARTH      TEME         UTC   \n\n   ... MEAN_MOTION_DOT  MEAN_MOTION_DDOT  SEMIMAJOR_AXIS   PERIOD  APOAPSIS  \\\n0  ...   -1.212631e-02               0.0        6934.593   95.784   557.373   \n1  ...    8.730000e-06               0.0        6925.347   95.592   548.089   \n2  ...    1.595000e-05               0.0        6925.400   95.593   548.114   \n3  ...    6.300000e-06               0.0        7009.008   97.330   638.150   \n4  ...    5.300000e-07               0.0        7990.496  118.473  1783.498   \n\n   PERIAPSIS  OBJECT_TYPE  RCS_SIZE  \\\n0    555.544      PAYLOAD     LARGE   \n1    546.334      PAYLOAD     LARGE   \n2    546.416      PAYLOAD     LARGE   \n3    623.597      PAYLOAD     LARGE   \n4   1441.225       DEBRIS     SMALL   \n\n                                           TLE_LINE1  \\\n0  1 58063U 23158N   23362.00001157 -.01212631  0...   \n1  1 45739U 20038K   23362.00133827  .00000873  0...   \n2  1 45227U 20012BB  23362.00137505  .00001595  0...   \n3  1 27609U 02058E   23362.00166713  .00000630  0...   \n4  1 14879U 74089ES  23362.00189229  .00000053  0...   \n\n                                           TLE_LINE2  \n0  2 58063  43.0014  71.6139 0001319 262.3570 310...  \n1  2 45739  53.0535 200.0197 0001267  97.3550 262...  \n2  2 45227  53.0556  10.0261 0001226 101.0635 259...  \n3  2 27609  64.5552 236.5835 0010382 181.6066 178...  \n4  2 14879 101.2066  12.9018 0214175 298.1690  85...  \n\n[5 rows x 31 columns]",
      "text/html": "<div>\n<style scoped>\n    .dataframe tbody tr th:only-of-type {\n        vertical-align: middle;\n    }\n\n    .dataframe tbody tr th {\n        vertical-align: top;\n    }\n\n    .dataframe thead th {\n        text-align: right;\n    }\n</style>\n<table border=\"1\" class=\"dataframe\">\n  <thead>\n    <tr style=\"text-align: right;\">\n      <th></th>\n      <th>NORAD_CAT_ID</th>\n      <th>OBJECT_NAME</th>\n      <th>OBJECT_ID</th>\n      <th>DECAY_DATE</th>\n      <th>EPOCH_DATE</th>\n      <th>EPOCH_TIME</th>\n      <th>CREATION_DATE</th>\n      <th>CENTER_NAME</th>\n      <th>REF_FRAME</th>\n      <th>TIME_SYSTEM</th>\n      <th>...</th>\n      <th>MEAN_MOTION_DOT</th>\n      <th>MEAN_MOTION_DDOT</th>\n      <th>SEMIMAJOR_AXIS</th>\n      <th>PERIOD</th>\n      <th>APOAPSIS</th>\n      <th>PERIAPSIS</th>\n      <th>OBJECT_TYPE</th>\n      <th>RCS_SIZE</th>\n      <th>TLE_LINE1</th>\n      <th>TLE_LINE2</th>\n    </tr>\n  </thead>\n  <tbody>\n    <tr>\n      <th>0</th>\n      <td>58063</td>\n      <td>STARLINK-30585</td>\n      <td>2023-158N</td>\n      <td>NaN</td>\n      <td>2023-12-28</td>\n      <td>00:00:00.999648</td>\n      <td>2023-12-28T06:16:17</td>\n      <td>EARTH</td>\n      <td>TEME</td>\n      <td>UTC</td>\n      <td>...</td>\n      <td>-1.212631e-02</td>\n      <td>0.0</td>\n      <td>6934.593</td>\n      <td>95.784</td>\n      <td>557.373</td>\n      <td>555.544</td>\n      <td>PAYLOAD</td>\n      <td>LARGE</td>\n      <td>1 58063U 23158N   23362.00001157 -.01212631  0...</td>\n      <td>2 58063  43.0014  71.6139 0001319 262.3570 310...</td>\n    </tr>\n    <tr>\n      <th>1</th>\n      <td>45739</td>\n      <td>STARLINK-1475</td>\n      <td>2020-038K</td>\n      <td>NaN</td>\n      <td>2023-12-28</td>\n      <td>00:01:55.626528</td>\n      <td>2023-12-28T18:10:27</td>\n      <td>EARTH</td>\n      <td>TEME</td>\n      <td>UTC</td>\n      <td>...</td>\n      <td>8.730000e-06</td>\n      <td>0.0</td>\n      <td>6925.347</td>\n      <td>95.592</td>\n      <td>548.089</td>\n      <td>546.334</td>\n      <td>PAYLOAD</td>\n      <td>LARGE</td>\n      <td>1 45739U 20038K   23362.00133827  .00000873  0...</td>\n      <td>2 45739  53.0535 200.0197 0001267  97.3550 262...</td>\n    </tr>\n    <tr>\n      <th>2</th>\n      <td>45227</td>\n      <td>STARLINK-1221</td>\n      <td>2020-012BB</td>\n      <td>NaN</td>\n      <td>2023-12-28</td>\n      <td>00:01:58.804320</td>\n      <td>2023-12-28T06:26:17</td>\n      <td>EARTH</td>\n      <td>TEME</td>\n      <td>UTC</td>\n      <td>...</td>\n      <td>1.595000e-05</td>\n      <td>0.0</td>\n      <td>6925.400</td>\n      <td>95.593</td>\n      <td>548.114</td>\n      <td>546.416</td>\n      <td>PAYLOAD</td>\n      <td>LARGE</td>\n      <td>1 45227U 20012BB  23362.00137505  .00001595  0...</td>\n      <td>2 45227  53.0556  10.0261 0001226 101.0635 259...</td>\n    </tr>\n    <tr>\n      <th>3</th>\n      <td>27609</td>\n      <td>TRAILBLAZER 2</td>\n      <td>2002-058E</td>\n      <td>NaN</td>\n      <td>2023-12-28</td>\n      <td>00:02:24.040032</td>\n      <td>2023-12-28T06:16:17</td>\n      <td>EARTH</td>\n      <td>TEME</td>\n      <td>UTC</td>\n      <td>...</td>\n      <td>6.300000e-06</td>\n      <td>0.0</td>\n      <td>7009.008</td>\n      <td>97.330</td>\n      <td>638.150</td>\n      <td>623.597</td>\n      <td>PAYLOAD</td>\n      <td>LARGE</td>\n      <td>1 27609U 02058E   23362.00166713  .00000630  0...</td>\n      <td>2 27609  64.5552 236.5835 0010382 181.6066 178...</td>\n    </tr>\n    <tr>\n      <th>4</th>\n      <td>14879</td>\n      <td>THORAD DELTA 1 DEB</td>\n      <td>1974-089ES</td>\n      <td>NaN</td>\n      <td>2023-12-28</td>\n      <td>00:02:43.493856</td>\n      <td>2023-12-28T18:10:27</td>\n      <td>EARTH</td>\n      <td>TEME</td>\n      <td>UTC</td>\n      <td>...</td>\n      <td>5.300000e-07</td>\n      <td>0.0</td>\n      <td>7990.496</td>\n      <td>118.473</td>\n      <td>1783.498</td>\n      <td>1441.225</td>\n      <td>DEBRIS</td>\n      <td>SMALL</td>\n      <td>1 14879U 74089ES  23362.00189229  .00000053  0...</td>\n      <td>2 14879 101.2066  12.9018 0214175 298.1690  85...</td>\n    </tr>\n  </tbody>\n</table>\n<p>5 rows × 31 columns</p>\n</div>"
     },
     "execution_count": 10,
     "metadata": {},
     "output_type": "execute_result"
    }
   ],
   "source": [
    "frac = 0.25\n",
    "reduced_df = reduced_dataset(dates, spacetrack_df, frac)\n",
    "print(f'Number of lines: {reduced_df.shape[0]}')\n",
    "reduced_df.head()"
   ],
   "metadata": {
    "collapsed": false,
    "ExecuteTime": {
     "end_time": "2024-04-09T10:26:57.487501100Z",
     "start_time": "2024-04-09T10:26:51.050303500Z"
    }
   },
   "id": "bc0d3177cb6f31cf"
  },
  {
   "cell_type": "code",
   "execution_count": 11,
   "outputs": [
    {
     "name": "stdout",
     "output_type": "stream",
     "text": [
      "['2023-12-28' '2023-12-29' '2023-12-30' '2023-12-31' '2024-01-01'\n",
      " '2024-01-02' '2024-01-03' '2024-01-04' '2024-01-05' '2024-01-06'\n",
      " '2024-01-07' '2024-01-08' '2024-01-09' '2024-01-10' '2024-01-11'\n",
      " '2024-01-12' '2024-01-13' '2024-01-14' '2024-01-15' '2024-01-16'\n",
      " '2024-01-17' '2024-01-18' '2024-01-19' '2024-01-20' '2024-01-21'\n",
      " '2024-01-22' '2024-01-23' '2024-01-24' '2024-01-25' '2024-01-26'\n",
      " '2024-01-27' '2024-01-28']\n"
     ]
    },
    {
     "data": {
      "text/plain": "True"
     },
     "execution_count": 11,
     "metadata": {},
     "output_type": "execute_result"
    }
   ],
   "source": [
    "print(reduced_df['EPOCH_DATE'].unique())\n",
    "np.all((reduced_df['EPOCH_DATE'].unique() == dates))"
   ],
   "metadata": {
    "collapsed": false,
    "ExecuteTime": {
     "end_time": "2024-04-09T10:27:14.007797400Z",
     "start_time": "2024-04-09T10:27:13.909314100Z"
    }
   },
   "id": "74e2806429b002aa"
  },
  {
   "cell_type": "code",
   "execution_count": 12,
   "outputs": [],
   "source": [
    "reduced_df.to_csv(f\"../datasets/space-track-dataset-reduced-{int(frac*100)}.csv\", index=False)"
   ],
   "metadata": {
    "collapsed": false,
    "ExecuteTime": {
     "end_time": "2024-04-09T10:27:25.738931900Z",
     "start_time": "2024-04-09T10:27:17.683088500Z"
    }
   },
   "id": "3ee9398bf63a4add"
  },
  {
   "cell_type": "markdown",
   "source": "# Sample reduced Space-Track dataset based on periapsis (perigee) or altitude and eccentricity",
   "metadata": {
    "collapsed": false
   },
   "id": "a5c00c68ee4ad919"
  },
  {
   "cell_type": "code",
   "source": [
    "spacetrack_df = pd.read_csv('../datasets/space-track-dataset.csv', memory_map=True)\n",
    "spacetrack_df.head()"
   ],
   "metadata": {
    "collapsed": false,
    "ExecuteTime": {
     "end_time": "2024-11-01T20:35:05.943366Z",
     "start_time": "2024-11-01T20:34:57.222882Z"
    }
   },
   "id": "2b86224b67be042c",
   "outputs": [
    {
     "name": "stderr",
     "output_type": "stream",
     "text": [
      "C:\\Users\\DMSS_\\AppData\\Local\\Temp\\ipykernel_20308\\677191836.py:1: DtypeWarning: Columns (3) have mixed types. Specify dtype option on import or set low_memory=False.\n",
      "  spacetrack_df = pd.read_csv('../datasets/space-track-dataset.csv', memory_map=True)\n"
     ]
    },
    {
     "data": {
      "text/plain": [
       "   NORAD_CAT_ID       OBJECT_NAME   OBJECT_ID DECAY_DATE  EPOCH_DATE  \\\n",
       "0         45102     STARLINK-1195  2020-006BL        NaN  2023-12-28   \n",
       "1         56899     STARLINK-6203   2023-083Z        NaN  2023-12-28   \n",
       "2         58063    STARLINK-30585   2023-158N        NaN  2023-12-28   \n",
       "3         58515    STARLINK-31017   2023-191H        NaN  2023-12-28   \n",
       "4         17725  COSMOS 374 DEB *  1970-089DC        NaN  2023-12-28   \n",
       "\n",
       "        EPOCH_TIME        CREATION_DATE CENTER_NAME REF_FRAME TIME_SYSTEM  \\\n",
       "0  00:00:00.999648  2023-12-28T06:46:17       EARTH      TEME         UTC   \n",
       "1  00:00:00.999648  2023-12-28T06:26:17       EARTH      TEME         UTC   \n",
       "2  00:00:00.999648  2023-12-28T06:16:17       EARTH      TEME         UTC   \n",
       "3  00:00:00.999648  2023-12-28T06:46:17       EARTH      TEME         UTC   \n",
       "4  00:00:05.080320  2023-12-28T18:10:27       EARTH      TEME         UTC   \n",
       "\n",
       "   ... MEAN_MOTION_DOT  MEAN_MOTION_DDOT  SEMIMAJOR_AXIS   PERIOD  APOAPSIS  \\\n",
       "0  ...        0.001659               0.0        6711.059   91.190   333.568   \n",
       "1  ...       -0.000140               0.0        6937.217   95.838   560.049   \n",
       "2  ...       -0.012126               0.0        6934.593   95.784   557.373   \n",
       "3  ...        0.001205               0.0        6761.643   92.223   384.581   \n",
       "4  ...        0.000012               0.0        7521.696  108.202  1736.430   \n",
       "\n",
       "   PERIAPSIS  OBJECT_TYPE  RCS_SIZE  \\\n",
       "0    332.281      PAYLOAD     LARGE   \n",
       "1    558.115      PAYLOAD     LARGE   \n",
       "2    555.544      PAYLOAD     LARGE   \n",
       "3    382.435      PAYLOAD     LARGE   \n",
       "4    550.691       DEBRIS     SMALL   \n",
       "\n",
       "                                           TLE_LINE1  \\\n",
       "0  1 45102U 20006BL  23362.00001157  .00165925  0...   \n",
       "1  1 56899U 23083Z   23362.00001157 -.00013968  0...   \n",
       "2  1 58063U 23158N   23362.00001157 -.01212631  0...   \n",
       "3  1 58515U 23191H   23362.00001157  .00120477  0...   \n",
       "4  1 17725U 70089DC  23362.00005880  .00001185  0...   \n",
       "\n",
       "                                           TLE_LINE2  \n",
       "0  2 45102  53.0456 223.3367 0000959  49.0274  96...  \n",
       "1  2 56899  43.0034 123.0158 0001394 272.0222 283...  \n",
       "2  2 58063  43.0014  71.6139 0001319 262.3570 310...  \n",
       "3  2 58515  43.0004 162.7285 0001587 278.9590 219...  \n",
       "4  2 17725  62.7445 204.8063 0788212 345.5877  80...  \n",
       "\n",
       "[5 rows x 31 columns]"
      ],
      "text/html": [
       "<div>\n",
       "<style scoped>\n",
       "    .dataframe tbody tr th:only-of-type {\n",
       "        vertical-align: middle;\n",
       "    }\n",
       "\n",
       "    .dataframe tbody tr th {\n",
       "        vertical-align: top;\n",
       "    }\n",
       "\n",
       "    .dataframe thead th {\n",
       "        text-align: right;\n",
       "    }\n",
       "</style>\n",
       "<table border=\"1\" class=\"dataframe\">\n",
       "  <thead>\n",
       "    <tr style=\"text-align: right;\">\n",
       "      <th></th>\n",
       "      <th>NORAD_CAT_ID</th>\n",
       "      <th>OBJECT_NAME</th>\n",
       "      <th>OBJECT_ID</th>\n",
       "      <th>DECAY_DATE</th>\n",
       "      <th>EPOCH_DATE</th>\n",
       "      <th>EPOCH_TIME</th>\n",
       "      <th>CREATION_DATE</th>\n",
       "      <th>CENTER_NAME</th>\n",
       "      <th>REF_FRAME</th>\n",
       "      <th>TIME_SYSTEM</th>\n",
       "      <th>...</th>\n",
       "      <th>MEAN_MOTION_DOT</th>\n",
       "      <th>MEAN_MOTION_DDOT</th>\n",
       "      <th>SEMIMAJOR_AXIS</th>\n",
       "      <th>PERIOD</th>\n",
       "      <th>APOAPSIS</th>\n",
       "      <th>PERIAPSIS</th>\n",
       "      <th>OBJECT_TYPE</th>\n",
       "      <th>RCS_SIZE</th>\n",
       "      <th>TLE_LINE1</th>\n",
       "      <th>TLE_LINE2</th>\n",
       "    </tr>\n",
       "  </thead>\n",
       "  <tbody>\n",
       "    <tr>\n",
       "      <th>0</th>\n",
       "      <td>45102</td>\n",
       "      <td>STARLINK-1195</td>\n",
       "      <td>2020-006BL</td>\n",
       "      <td>NaN</td>\n",
       "      <td>2023-12-28</td>\n",
       "      <td>00:00:00.999648</td>\n",
       "      <td>2023-12-28T06:46:17</td>\n",
       "      <td>EARTH</td>\n",
       "      <td>TEME</td>\n",
       "      <td>UTC</td>\n",
       "      <td>...</td>\n",
       "      <td>0.001659</td>\n",
       "      <td>0.0</td>\n",
       "      <td>6711.059</td>\n",
       "      <td>91.190</td>\n",
       "      <td>333.568</td>\n",
       "      <td>332.281</td>\n",
       "      <td>PAYLOAD</td>\n",
       "      <td>LARGE</td>\n",
       "      <td>1 45102U 20006BL  23362.00001157  .00165925  0...</td>\n",
       "      <td>2 45102  53.0456 223.3367 0000959  49.0274  96...</td>\n",
       "    </tr>\n",
       "    <tr>\n",
       "      <th>1</th>\n",
       "      <td>56899</td>\n",
       "      <td>STARLINK-6203</td>\n",
       "      <td>2023-083Z</td>\n",
       "      <td>NaN</td>\n",
       "      <td>2023-12-28</td>\n",
       "      <td>00:00:00.999648</td>\n",
       "      <td>2023-12-28T06:26:17</td>\n",
       "      <td>EARTH</td>\n",
       "      <td>TEME</td>\n",
       "      <td>UTC</td>\n",
       "      <td>...</td>\n",
       "      <td>-0.000140</td>\n",
       "      <td>0.0</td>\n",
       "      <td>6937.217</td>\n",
       "      <td>95.838</td>\n",
       "      <td>560.049</td>\n",
       "      <td>558.115</td>\n",
       "      <td>PAYLOAD</td>\n",
       "      <td>LARGE</td>\n",
       "      <td>1 56899U 23083Z   23362.00001157 -.00013968  0...</td>\n",
       "      <td>2 56899  43.0034 123.0158 0001394 272.0222 283...</td>\n",
       "    </tr>\n",
       "    <tr>\n",
       "      <th>2</th>\n",
       "      <td>58063</td>\n",
       "      <td>STARLINK-30585</td>\n",
       "      <td>2023-158N</td>\n",
       "      <td>NaN</td>\n",
       "      <td>2023-12-28</td>\n",
       "      <td>00:00:00.999648</td>\n",
       "      <td>2023-12-28T06:16:17</td>\n",
       "      <td>EARTH</td>\n",
       "      <td>TEME</td>\n",
       "      <td>UTC</td>\n",
       "      <td>...</td>\n",
       "      <td>-0.012126</td>\n",
       "      <td>0.0</td>\n",
       "      <td>6934.593</td>\n",
       "      <td>95.784</td>\n",
       "      <td>557.373</td>\n",
       "      <td>555.544</td>\n",
       "      <td>PAYLOAD</td>\n",
       "      <td>LARGE</td>\n",
       "      <td>1 58063U 23158N   23362.00001157 -.01212631  0...</td>\n",
       "      <td>2 58063  43.0014  71.6139 0001319 262.3570 310...</td>\n",
       "    </tr>\n",
       "    <tr>\n",
       "      <th>3</th>\n",
       "      <td>58515</td>\n",
       "      <td>STARLINK-31017</td>\n",
       "      <td>2023-191H</td>\n",
       "      <td>NaN</td>\n",
       "      <td>2023-12-28</td>\n",
       "      <td>00:00:00.999648</td>\n",
       "      <td>2023-12-28T06:46:17</td>\n",
       "      <td>EARTH</td>\n",
       "      <td>TEME</td>\n",
       "      <td>UTC</td>\n",
       "      <td>...</td>\n",
       "      <td>0.001205</td>\n",
       "      <td>0.0</td>\n",
       "      <td>6761.643</td>\n",
       "      <td>92.223</td>\n",
       "      <td>384.581</td>\n",
       "      <td>382.435</td>\n",
       "      <td>PAYLOAD</td>\n",
       "      <td>LARGE</td>\n",
       "      <td>1 58515U 23191H   23362.00001157  .00120477  0...</td>\n",
       "      <td>2 58515  43.0004 162.7285 0001587 278.9590 219...</td>\n",
       "    </tr>\n",
       "    <tr>\n",
       "      <th>4</th>\n",
       "      <td>17725</td>\n",
       "      <td>COSMOS 374 DEB *</td>\n",
       "      <td>1970-089DC</td>\n",
       "      <td>NaN</td>\n",
       "      <td>2023-12-28</td>\n",
       "      <td>00:00:05.080320</td>\n",
       "      <td>2023-12-28T18:10:27</td>\n",
       "      <td>EARTH</td>\n",
       "      <td>TEME</td>\n",
       "      <td>UTC</td>\n",
       "      <td>...</td>\n",
       "      <td>0.000012</td>\n",
       "      <td>0.0</td>\n",
       "      <td>7521.696</td>\n",
       "      <td>108.202</td>\n",
       "      <td>1736.430</td>\n",
       "      <td>550.691</td>\n",
       "      <td>DEBRIS</td>\n",
       "      <td>SMALL</td>\n",
       "      <td>1 17725U 70089DC  23362.00005880  .00001185  0...</td>\n",
       "      <td>2 17725  62.7445 204.8063 0788212 345.5877  80...</td>\n",
       "    </tr>\n",
       "  </tbody>\n",
       "</table>\n",
       "<p>5 rows × 31 columns</p>\n",
       "</div>"
      ]
     },
     "execution_count": 7,
     "metadata": {},
     "output_type": "execute_result"
    }
   ],
   "execution_count": 7
  },
  {
   "cell_type": "code",
   "source": [
    "use_altitude = False\n",
    "col = ''\n",
    "if use_altitude:\n",
    "    col = 'ALTITUDE'\n",
    "else:\n",
    "    col = 'PERIAPSIS'\n",
    "spacetrack_alt_df = pd.read_csv('../datasets/space-track-dataset-sv.csv', usecols=['NORAD_CAT_ID','EPOCH_DATE', 'EPOCH_TIME', 'ALTITUDE'], memory_map=True)\n",
    "spacetrack_alt_df.head()"
   ],
   "metadata": {
    "collapsed": false,
    "ExecuteTime": {
     "end_time": "2024-11-01T20:36:16.165802Z",
     "start_time": "2024-11-01T20:36:13.381771Z"
    }
   },
   "id": "8cd55041f7bebc53",
   "outputs": [
    {
     "data": {
      "text/plain": [
       "   NORAD_CAT_ID  EPOCH_DATE       EPOCH_TIME     ALTITUDE\n",
       "0         45102  2023-12-28  00:00:00.999648   329.908706\n",
       "1         56899  2023-12-28  00:00:00.999648   559.894299\n",
       "2         58063  2023-12-28  00:00:00.999648   557.980956\n",
       "3         58515  2023-12-28  00:00:00.999648   380.027898\n",
       "4         17725  2023-12-28  00:00:05.080320  1086.023945"
      ],
      "text/html": [
       "<div>\n",
       "<style scoped>\n",
       "    .dataframe tbody tr th:only-of-type {\n",
       "        vertical-align: middle;\n",
       "    }\n",
       "\n",
       "    .dataframe tbody tr th {\n",
       "        vertical-align: top;\n",
       "    }\n",
       "\n",
       "    .dataframe thead th {\n",
       "        text-align: right;\n",
       "    }\n",
       "</style>\n",
       "<table border=\"1\" class=\"dataframe\">\n",
       "  <thead>\n",
       "    <tr style=\"text-align: right;\">\n",
       "      <th></th>\n",
       "      <th>NORAD_CAT_ID</th>\n",
       "      <th>EPOCH_DATE</th>\n",
       "      <th>EPOCH_TIME</th>\n",
       "      <th>ALTITUDE</th>\n",
       "    </tr>\n",
       "  </thead>\n",
       "  <tbody>\n",
       "    <tr>\n",
       "      <th>0</th>\n",
       "      <td>45102</td>\n",
       "      <td>2023-12-28</td>\n",
       "      <td>00:00:00.999648</td>\n",
       "      <td>329.908706</td>\n",
       "    </tr>\n",
       "    <tr>\n",
       "      <th>1</th>\n",
       "      <td>56899</td>\n",
       "      <td>2023-12-28</td>\n",
       "      <td>00:00:00.999648</td>\n",
       "      <td>559.894299</td>\n",
       "    </tr>\n",
       "    <tr>\n",
       "      <th>2</th>\n",
       "      <td>58063</td>\n",
       "      <td>2023-12-28</td>\n",
       "      <td>00:00:00.999648</td>\n",
       "      <td>557.980956</td>\n",
       "    </tr>\n",
       "    <tr>\n",
       "      <th>3</th>\n",
       "      <td>58515</td>\n",
       "      <td>2023-12-28</td>\n",
       "      <td>00:00:00.999648</td>\n",
       "      <td>380.027898</td>\n",
       "    </tr>\n",
       "    <tr>\n",
       "      <th>4</th>\n",
       "      <td>17725</td>\n",
       "      <td>2023-12-28</td>\n",
       "      <td>00:00:05.080320</td>\n",
       "      <td>1086.023945</td>\n",
       "    </tr>\n",
       "  </tbody>\n",
       "</table>\n",
       "</div>"
      ]
     },
     "execution_count": 8,
     "metadata": {},
     "output_type": "execute_result"
    }
   ],
   "execution_count": 8
  },
  {
   "cell_type": "code",
   "execution_count": 25,
   "outputs": [
    {
     "data": {
      "text/plain": "count    1.068861e+06\nmean     7.547569e+02\nstd      3.128136e+02\nmin      1.335982e+02\n25%      5.414181e+02\n50%      6.043675e+02\n75%      8.809051e+02\nmax      3.768265e+03\nName: ALTITUDE, dtype: float64"
     },
     "execution_count": 25,
     "metadata": {},
     "output_type": "execute_result"
    }
   ],
   "source": [
    "if use_altitude:\n",
    "    spacetrack_alt_df['ALTITUDE'].describe()"
   ],
   "metadata": {
    "collapsed": false,
    "ExecuteTime": {
     "end_time": "2024-04-13T12:49:56.128621800Z",
     "start_time": "2024-04-13T12:49:55.804263900Z"
    }
   },
   "id": "bf5863d712ea2c0"
  },
  {
   "cell_type": "code",
   "source": [
    "df = spacetrack_df.merge(spacetrack_alt_df, on=['NORAD_CAT_ID', 'EPOCH_DATE', 'EPOCH_TIME'])\n",
    "print(spacetrack_df.shape[0], spacetrack_alt_df.shape[0], df.shape[0])\n",
    "print(df.columns)\n",
    "df.head()"
   ],
   "metadata": {
    "collapsed": false,
    "ExecuteTime": {
     "end_time": "2024-11-01T20:36:22.319167Z",
     "start_time": "2024-11-01T20:36:20.963818Z"
    }
   },
   "id": "6e5747cf2d755cbb",
   "outputs": [
    {
     "name": "stdout",
     "output_type": "stream",
     "text": [
      "1068861 1068861 1068861\n",
      "Index(['NORAD_CAT_ID', 'OBJECT_NAME', 'OBJECT_ID', 'DECAY_DATE', 'EPOCH_DATE',\n",
      "       'EPOCH_TIME', 'CREATION_DATE', 'CENTER_NAME', 'REF_FRAME',\n",
      "       'TIME_SYSTEM', 'MEAN_ELEMENT_THEORY', 'MEAN_MOTION', 'ECCENTRICITY',\n",
      "       'INCLINATION', 'RA_OF_ASC_NODE', 'ARG_OF_PERICENTER', 'MEAN_ANOMALY',\n",
      "       'EPHEMERIS_TYPE', 'CLASSIFICATION_TYPE', 'REV_AT_EPOCH', 'BSTAR',\n",
      "       'MEAN_MOTION_DOT', 'MEAN_MOTION_DDOT', 'SEMIMAJOR_AXIS', 'PERIOD',\n",
      "       'APOAPSIS', 'PERIAPSIS', 'OBJECT_TYPE', 'RCS_SIZE', 'TLE_LINE1',\n",
      "       'TLE_LINE2', 'ALTITUDE'],\n",
      "      dtype='object')\n"
     ]
    },
    {
     "data": {
      "text/plain": [
       "   NORAD_CAT_ID       OBJECT_NAME   OBJECT_ID DECAY_DATE  EPOCH_DATE  \\\n",
       "0         45102     STARLINK-1195  2020-006BL        NaN  2023-12-28   \n",
       "1         56899     STARLINK-6203   2023-083Z        NaN  2023-12-28   \n",
       "2         58063    STARLINK-30585   2023-158N        NaN  2023-12-28   \n",
       "3         58515    STARLINK-31017   2023-191H        NaN  2023-12-28   \n",
       "4         17725  COSMOS 374 DEB *  1970-089DC        NaN  2023-12-28   \n",
       "\n",
       "        EPOCH_TIME        CREATION_DATE CENTER_NAME REF_FRAME TIME_SYSTEM  \\\n",
       "0  00:00:00.999648  2023-12-28T06:46:17       EARTH      TEME         UTC   \n",
       "1  00:00:00.999648  2023-12-28T06:26:17       EARTH      TEME         UTC   \n",
       "2  00:00:00.999648  2023-12-28T06:16:17       EARTH      TEME         UTC   \n",
       "3  00:00:00.999648  2023-12-28T06:46:17       EARTH      TEME         UTC   \n",
       "4  00:00:05.080320  2023-12-28T18:10:27       EARTH      TEME         UTC   \n",
       "\n",
       "   ... MEAN_MOTION_DDOT  SEMIMAJOR_AXIS   PERIOD  APOAPSIS  PERIAPSIS  \\\n",
       "0  ...              0.0        6711.059   91.190   333.568    332.281   \n",
       "1  ...              0.0        6937.217   95.838   560.049    558.115   \n",
       "2  ...              0.0        6934.593   95.784   557.373    555.544   \n",
       "3  ...              0.0        6761.643   92.223   384.581    382.435   \n",
       "4  ...              0.0        7521.696  108.202  1736.430    550.691   \n",
       "\n",
       "   OBJECT_TYPE  RCS_SIZE                                          TLE_LINE1  \\\n",
       "0      PAYLOAD     LARGE  1 45102U 20006BL  23362.00001157  .00165925  0...   \n",
       "1      PAYLOAD     LARGE  1 56899U 23083Z   23362.00001157 -.00013968  0...   \n",
       "2      PAYLOAD     LARGE  1 58063U 23158N   23362.00001157 -.01212631  0...   \n",
       "3      PAYLOAD     LARGE  1 58515U 23191H   23362.00001157  .00120477  0...   \n",
       "4       DEBRIS     SMALL  1 17725U 70089DC  23362.00005880  .00001185  0...   \n",
       "\n",
       "                                           TLE_LINE2     ALTITUDE  \n",
       "0  2 45102  53.0456 223.3367 0000959  49.0274  96...   329.908706  \n",
       "1  2 56899  43.0034 123.0158 0001394 272.0222 283...   559.894299  \n",
       "2  2 58063  43.0014  71.6139 0001319 262.3570 310...   557.980956  \n",
       "3  2 58515  43.0004 162.7285 0001587 278.9590 219...   380.027898  \n",
       "4  2 17725  62.7445 204.8063 0788212 345.5877  80...  1086.023945  \n",
       "\n",
       "[5 rows x 32 columns]"
      ],
      "text/html": [
       "<div>\n",
       "<style scoped>\n",
       "    .dataframe tbody tr th:only-of-type {\n",
       "        vertical-align: middle;\n",
       "    }\n",
       "\n",
       "    .dataframe tbody tr th {\n",
       "        vertical-align: top;\n",
       "    }\n",
       "\n",
       "    .dataframe thead th {\n",
       "        text-align: right;\n",
       "    }\n",
       "</style>\n",
       "<table border=\"1\" class=\"dataframe\">\n",
       "  <thead>\n",
       "    <tr style=\"text-align: right;\">\n",
       "      <th></th>\n",
       "      <th>NORAD_CAT_ID</th>\n",
       "      <th>OBJECT_NAME</th>\n",
       "      <th>OBJECT_ID</th>\n",
       "      <th>DECAY_DATE</th>\n",
       "      <th>EPOCH_DATE</th>\n",
       "      <th>EPOCH_TIME</th>\n",
       "      <th>CREATION_DATE</th>\n",
       "      <th>CENTER_NAME</th>\n",
       "      <th>REF_FRAME</th>\n",
       "      <th>TIME_SYSTEM</th>\n",
       "      <th>...</th>\n",
       "      <th>MEAN_MOTION_DDOT</th>\n",
       "      <th>SEMIMAJOR_AXIS</th>\n",
       "      <th>PERIOD</th>\n",
       "      <th>APOAPSIS</th>\n",
       "      <th>PERIAPSIS</th>\n",
       "      <th>OBJECT_TYPE</th>\n",
       "      <th>RCS_SIZE</th>\n",
       "      <th>TLE_LINE1</th>\n",
       "      <th>TLE_LINE2</th>\n",
       "      <th>ALTITUDE</th>\n",
       "    </tr>\n",
       "  </thead>\n",
       "  <tbody>\n",
       "    <tr>\n",
       "      <th>0</th>\n",
       "      <td>45102</td>\n",
       "      <td>STARLINK-1195</td>\n",
       "      <td>2020-006BL</td>\n",
       "      <td>NaN</td>\n",
       "      <td>2023-12-28</td>\n",
       "      <td>00:00:00.999648</td>\n",
       "      <td>2023-12-28T06:46:17</td>\n",
       "      <td>EARTH</td>\n",
       "      <td>TEME</td>\n",
       "      <td>UTC</td>\n",
       "      <td>...</td>\n",
       "      <td>0.0</td>\n",
       "      <td>6711.059</td>\n",
       "      <td>91.190</td>\n",
       "      <td>333.568</td>\n",
       "      <td>332.281</td>\n",
       "      <td>PAYLOAD</td>\n",
       "      <td>LARGE</td>\n",
       "      <td>1 45102U 20006BL  23362.00001157  .00165925  0...</td>\n",
       "      <td>2 45102  53.0456 223.3367 0000959  49.0274  96...</td>\n",
       "      <td>329.908706</td>\n",
       "    </tr>\n",
       "    <tr>\n",
       "      <th>1</th>\n",
       "      <td>56899</td>\n",
       "      <td>STARLINK-6203</td>\n",
       "      <td>2023-083Z</td>\n",
       "      <td>NaN</td>\n",
       "      <td>2023-12-28</td>\n",
       "      <td>00:00:00.999648</td>\n",
       "      <td>2023-12-28T06:26:17</td>\n",
       "      <td>EARTH</td>\n",
       "      <td>TEME</td>\n",
       "      <td>UTC</td>\n",
       "      <td>...</td>\n",
       "      <td>0.0</td>\n",
       "      <td>6937.217</td>\n",
       "      <td>95.838</td>\n",
       "      <td>560.049</td>\n",
       "      <td>558.115</td>\n",
       "      <td>PAYLOAD</td>\n",
       "      <td>LARGE</td>\n",
       "      <td>1 56899U 23083Z   23362.00001157 -.00013968  0...</td>\n",
       "      <td>2 56899  43.0034 123.0158 0001394 272.0222 283...</td>\n",
       "      <td>559.894299</td>\n",
       "    </tr>\n",
       "    <tr>\n",
       "      <th>2</th>\n",
       "      <td>58063</td>\n",
       "      <td>STARLINK-30585</td>\n",
       "      <td>2023-158N</td>\n",
       "      <td>NaN</td>\n",
       "      <td>2023-12-28</td>\n",
       "      <td>00:00:00.999648</td>\n",
       "      <td>2023-12-28T06:16:17</td>\n",
       "      <td>EARTH</td>\n",
       "      <td>TEME</td>\n",
       "      <td>UTC</td>\n",
       "      <td>...</td>\n",
       "      <td>0.0</td>\n",
       "      <td>6934.593</td>\n",
       "      <td>95.784</td>\n",
       "      <td>557.373</td>\n",
       "      <td>555.544</td>\n",
       "      <td>PAYLOAD</td>\n",
       "      <td>LARGE</td>\n",
       "      <td>1 58063U 23158N   23362.00001157 -.01212631  0...</td>\n",
       "      <td>2 58063  43.0014  71.6139 0001319 262.3570 310...</td>\n",
       "      <td>557.980956</td>\n",
       "    </tr>\n",
       "    <tr>\n",
       "      <th>3</th>\n",
       "      <td>58515</td>\n",
       "      <td>STARLINK-31017</td>\n",
       "      <td>2023-191H</td>\n",
       "      <td>NaN</td>\n",
       "      <td>2023-12-28</td>\n",
       "      <td>00:00:00.999648</td>\n",
       "      <td>2023-12-28T06:46:17</td>\n",
       "      <td>EARTH</td>\n",
       "      <td>TEME</td>\n",
       "      <td>UTC</td>\n",
       "      <td>...</td>\n",
       "      <td>0.0</td>\n",
       "      <td>6761.643</td>\n",
       "      <td>92.223</td>\n",
       "      <td>384.581</td>\n",
       "      <td>382.435</td>\n",
       "      <td>PAYLOAD</td>\n",
       "      <td>LARGE</td>\n",
       "      <td>1 58515U 23191H   23362.00001157  .00120477  0...</td>\n",
       "      <td>2 58515  43.0004 162.7285 0001587 278.9590 219...</td>\n",
       "      <td>380.027898</td>\n",
       "    </tr>\n",
       "    <tr>\n",
       "      <th>4</th>\n",
       "      <td>17725</td>\n",
       "      <td>COSMOS 374 DEB *</td>\n",
       "      <td>1970-089DC</td>\n",
       "      <td>NaN</td>\n",
       "      <td>2023-12-28</td>\n",
       "      <td>00:00:05.080320</td>\n",
       "      <td>2023-12-28T18:10:27</td>\n",
       "      <td>EARTH</td>\n",
       "      <td>TEME</td>\n",
       "      <td>UTC</td>\n",
       "      <td>...</td>\n",
       "      <td>0.0</td>\n",
       "      <td>7521.696</td>\n",
       "      <td>108.202</td>\n",
       "      <td>1736.430</td>\n",
       "      <td>550.691</td>\n",
       "      <td>DEBRIS</td>\n",
       "      <td>SMALL</td>\n",
       "      <td>1 17725U 70089DC  23362.00005880  .00001185  0...</td>\n",
       "      <td>2 17725  62.7445 204.8063 0788212 345.5877  80...</td>\n",
       "      <td>1086.023945</td>\n",
       "    </tr>\n",
       "  </tbody>\n",
       "</table>\n",
       "<p>5 rows × 32 columns</p>\n",
       "</div>"
      ]
     },
     "execution_count": 9,
     "metadata": {},
     "output_type": "execute_result"
    }
   ],
   "execution_count": 9
  },
  {
   "metadata": {
    "ExecuteTime": {
     "end_time": "2024-11-01T21:20:39.281783Z",
     "start_time": "2024-11-01T21:20:39.253345Z"
    }
   },
   "cell_type": "code",
   "source": "reduced_df[reduced_df.EPOCH_DATE == '2024-01-28'].shape[0]",
   "id": "d77249efbb594511",
   "outputs": [
    {
     "data": {
      "text/plain": [
       "1595"
      ]
     },
     "execution_count": 32,
     "metadata": {},
     "output_type": "execute_result"
    }
   ],
   "execution_count": 32
  },
  {
   "cell_type": "code",
   "source": [
    "def reduced_filtered_dataset(col, dates, dataset, altitude_limits, e_limit, sample, frac):\n",
    "    min_lim, max_lim = altitude_limits\n",
    "    altitude_cond = (dataset[col] > min_lim) & (dataset[col] <= max_lim)\n",
    "    \n",
    "    eccentricity_cond = dataset['ECCENTRICITY'] < e_limit\n",
    "    \n",
    "    filtered_dataset = dataset[(altitude_cond) & (eccentricity_cond)]\n",
    "    if sample:\n",
    "        reduced_df = pd.DataFrame()\n",
    "        for date in tqdm(dates):\n",
    "            df_date = filtered_dataset[filtered_dataset['EPOCH_DATE'] == date].sample(frac=frac, random_state=7, ignore_index=True)\n",
    "            df_date.sort_values(by=['EPOCH_DATE', 'EPOCH_TIME', 'NORAD_CAT_ID'], ignore_index=True, inplace=True)\n",
    "            reduced_df = pd.concat([reduced_df, df_date], ignore_index=True)\n",
    "        return reduced_df\n",
    "    else:\n",
    "        return filtered_dataset"
   ],
   "metadata": {
    "collapsed": false,
    "ExecuteTime": {
     "end_time": "2024-11-01T21:02:54.751682Z",
     "start_time": "2024-11-01T21:02:54.736091Z"
    }
   },
   "id": "9504cc1756ae1eff",
   "outputs": [],
   "execution_count": 25
  },
  {
   "cell_type": "code",
   "source": [
    "sample = False\n",
    "frac = 0.25\n",
    "altitude_limits = (500, 520) # in km\n",
    "e_limit = 0.25\n",
    "\n",
    "reduced_df = reduced_filtered_dataset(col, dates, df, altitude_limits, e_limit, sample, frac)\n",
    "print(f'Number of lines: {reduced_df.shape[0]}')\n",
    "reduced_df.head()"
   ],
   "metadata": {
    "collapsed": false,
    "ExecuteTime": {
     "end_time": "2024-11-01T21:02:57.563710Z",
     "start_time": "2024-11-01T21:02:57.485581Z"
    }
   },
   "id": "2f3d1aa1c1fdccd6",
   "outputs": [
    {
     "name": "stdout",
     "output_type": "stream",
     "text": [
      "Number of lines: 51680\n"
     ]
    },
    {
     "data": {
      "text/plain": [
       "     NORAD_CAT_ID     OBJECT_NAME  OBJECT_ID DECAY_DATE  EPOCH_DATE  \\\n",
       "39          38248         RISAT 1  2012-017A        NaN  2023-12-28   \n",
       "122         58048  STARLINK-30554  2023-156W        NaN  2023-12-28   \n",
       "196         58047  STARLINK-30529  2023-156V        NaN  2023-12-28   \n",
       "205         39770          SPROUT  2014-029E        NaN  2023-12-28   \n",
       "232         58239  STARLINK-30847  2023-171K        NaN  2023-12-28   \n",
       "\n",
       "          EPOCH_TIME        CREATION_DATE CENTER_NAME REF_FRAME TIME_SYSTEM  \\\n",
       "39   00:03:00.734112  2023-12-28T06:56:18       EARTH      TEME         UTC   \n",
       "122  00:13:51.285504  2023-12-28T18:10:27       EARTH      TEME         UTC   \n",
       "196  00:21:34.607232  2023-12-28T14:26:18       EARTH      TEME         UTC   \n",
       "205  00:22:03.111456  2023-12-28T06:36:18       EARTH      TEME         UTC   \n",
       "232  00:24:21.929472  2023-12-28T06:26:17       EARTH      TEME         UTC   \n",
       "\n",
       "     ... MEAN_MOTION_DDOT  SEMIMAJOR_AXIS  PERIOD  APOAPSIS  PERIAPSIS  \\\n",
       "39   ...              0.0        6884.714  94.752   509.926    503.232   \n",
       "122  ...              0.0        6887.840  94.817   510.479    508.930   \n",
       "196  ...              0.0        6887.814  94.816   510.613    508.745   \n",
       "205  ...              0.0        6898.018  95.027   523.367    516.400   \n",
       "232  ...              0.0        6896.208  94.989   518.578    517.567   \n",
       "\n",
       "     OBJECT_TYPE  RCS_SIZE                                          TLE_LINE1  \\\n",
       "39       PAYLOAD     LARGE  1 38248U 12017A   23362.00209183  .00009596  0...   \n",
       "122      PAYLOAD     LARGE  1 58048U 23156W   23362.00962136  .00003038  0...   \n",
       "196      PAYLOAD     LARGE  1 58047U 23156V   23362.01498388  .00006323  0...   \n",
       "205      PAYLOAD    MEDIUM  1 39770U 14029E   23362.01531379  .00042171  0...   \n",
       "232      PAYLOAD     LARGE  1 58239U 23171K   23362.01692048  .00055547  0...   \n",
       "\n",
       "                                             TLE_LINE2    ALTITUDE  \n",
       "39   2 38248  97.5335  14.2732 0004861 113.2771 246...  510.978052  \n",
       "122  2 58048  53.0520 205.6284 0001124 115.1558 244...  510.913987  \n",
       "196  2 58047  53.0519 204.9470 0001356 137.9996 222...  511.253386  \n",
       "205  2 39770  98.0019 136.9274 0005050  16.5476 343...  519.605531  \n",
       "232  2 58239  43.0004 332.5049 0000733 271.1214  88...  517.838117  \n",
       "\n",
       "[5 rows x 32 columns]"
      ],
      "text/html": [
       "<div>\n",
       "<style scoped>\n",
       "    .dataframe tbody tr th:only-of-type {\n",
       "        vertical-align: middle;\n",
       "    }\n",
       "\n",
       "    .dataframe tbody tr th {\n",
       "        vertical-align: top;\n",
       "    }\n",
       "\n",
       "    .dataframe thead th {\n",
       "        text-align: right;\n",
       "    }\n",
       "</style>\n",
       "<table border=\"1\" class=\"dataframe\">\n",
       "  <thead>\n",
       "    <tr style=\"text-align: right;\">\n",
       "      <th></th>\n",
       "      <th>NORAD_CAT_ID</th>\n",
       "      <th>OBJECT_NAME</th>\n",
       "      <th>OBJECT_ID</th>\n",
       "      <th>DECAY_DATE</th>\n",
       "      <th>EPOCH_DATE</th>\n",
       "      <th>EPOCH_TIME</th>\n",
       "      <th>CREATION_DATE</th>\n",
       "      <th>CENTER_NAME</th>\n",
       "      <th>REF_FRAME</th>\n",
       "      <th>TIME_SYSTEM</th>\n",
       "      <th>...</th>\n",
       "      <th>MEAN_MOTION_DDOT</th>\n",
       "      <th>SEMIMAJOR_AXIS</th>\n",
       "      <th>PERIOD</th>\n",
       "      <th>APOAPSIS</th>\n",
       "      <th>PERIAPSIS</th>\n",
       "      <th>OBJECT_TYPE</th>\n",
       "      <th>RCS_SIZE</th>\n",
       "      <th>TLE_LINE1</th>\n",
       "      <th>TLE_LINE2</th>\n",
       "      <th>ALTITUDE</th>\n",
       "    </tr>\n",
       "  </thead>\n",
       "  <tbody>\n",
       "    <tr>\n",
       "      <th>39</th>\n",
       "      <td>38248</td>\n",
       "      <td>RISAT 1</td>\n",
       "      <td>2012-017A</td>\n",
       "      <td>NaN</td>\n",
       "      <td>2023-12-28</td>\n",
       "      <td>00:03:00.734112</td>\n",
       "      <td>2023-12-28T06:56:18</td>\n",
       "      <td>EARTH</td>\n",
       "      <td>TEME</td>\n",
       "      <td>UTC</td>\n",
       "      <td>...</td>\n",
       "      <td>0.0</td>\n",
       "      <td>6884.714</td>\n",
       "      <td>94.752</td>\n",
       "      <td>509.926</td>\n",
       "      <td>503.232</td>\n",
       "      <td>PAYLOAD</td>\n",
       "      <td>LARGE</td>\n",
       "      <td>1 38248U 12017A   23362.00209183  .00009596  0...</td>\n",
       "      <td>2 38248  97.5335  14.2732 0004861 113.2771 246...</td>\n",
       "      <td>510.978052</td>\n",
       "    </tr>\n",
       "    <tr>\n",
       "      <th>122</th>\n",
       "      <td>58048</td>\n",
       "      <td>STARLINK-30554</td>\n",
       "      <td>2023-156W</td>\n",
       "      <td>NaN</td>\n",
       "      <td>2023-12-28</td>\n",
       "      <td>00:13:51.285504</td>\n",
       "      <td>2023-12-28T18:10:27</td>\n",
       "      <td>EARTH</td>\n",
       "      <td>TEME</td>\n",
       "      <td>UTC</td>\n",
       "      <td>...</td>\n",
       "      <td>0.0</td>\n",
       "      <td>6887.840</td>\n",
       "      <td>94.817</td>\n",
       "      <td>510.479</td>\n",
       "      <td>508.930</td>\n",
       "      <td>PAYLOAD</td>\n",
       "      <td>LARGE</td>\n",
       "      <td>1 58048U 23156W   23362.00962136  .00003038  0...</td>\n",
       "      <td>2 58048  53.0520 205.6284 0001124 115.1558 244...</td>\n",
       "      <td>510.913987</td>\n",
       "    </tr>\n",
       "    <tr>\n",
       "      <th>196</th>\n",
       "      <td>58047</td>\n",
       "      <td>STARLINK-30529</td>\n",
       "      <td>2023-156V</td>\n",
       "      <td>NaN</td>\n",
       "      <td>2023-12-28</td>\n",
       "      <td>00:21:34.607232</td>\n",
       "      <td>2023-12-28T14:26:18</td>\n",
       "      <td>EARTH</td>\n",
       "      <td>TEME</td>\n",
       "      <td>UTC</td>\n",
       "      <td>...</td>\n",
       "      <td>0.0</td>\n",
       "      <td>6887.814</td>\n",
       "      <td>94.816</td>\n",
       "      <td>510.613</td>\n",
       "      <td>508.745</td>\n",
       "      <td>PAYLOAD</td>\n",
       "      <td>LARGE</td>\n",
       "      <td>1 58047U 23156V   23362.01498388  .00006323  0...</td>\n",
       "      <td>2 58047  53.0519 204.9470 0001356 137.9996 222...</td>\n",
       "      <td>511.253386</td>\n",
       "    </tr>\n",
       "    <tr>\n",
       "      <th>205</th>\n",
       "      <td>39770</td>\n",
       "      <td>SPROUT</td>\n",
       "      <td>2014-029E</td>\n",
       "      <td>NaN</td>\n",
       "      <td>2023-12-28</td>\n",
       "      <td>00:22:03.111456</td>\n",
       "      <td>2023-12-28T06:36:18</td>\n",
       "      <td>EARTH</td>\n",
       "      <td>TEME</td>\n",
       "      <td>UTC</td>\n",
       "      <td>...</td>\n",
       "      <td>0.0</td>\n",
       "      <td>6898.018</td>\n",
       "      <td>95.027</td>\n",
       "      <td>523.367</td>\n",
       "      <td>516.400</td>\n",
       "      <td>PAYLOAD</td>\n",
       "      <td>MEDIUM</td>\n",
       "      <td>1 39770U 14029E   23362.01531379  .00042171  0...</td>\n",
       "      <td>2 39770  98.0019 136.9274 0005050  16.5476 343...</td>\n",
       "      <td>519.605531</td>\n",
       "    </tr>\n",
       "    <tr>\n",
       "      <th>232</th>\n",
       "      <td>58239</td>\n",
       "      <td>STARLINK-30847</td>\n",
       "      <td>2023-171K</td>\n",
       "      <td>NaN</td>\n",
       "      <td>2023-12-28</td>\n",
       "      <td>00:24:21.929472</td>\n",
       "      <td>2023-12-28T06:26:17</td>\n",
       "      <td>EARTH</td>\n",
       "      <td>TEME</td>\n",
       "      <td>UTC</td>\n",
       "      <td>...</td>\n",
       "      <td>0.0</td>\n",
       "      <td>6896.208</td>\n",
       "      <td>94.989</td>\n",
       "      <td>518.578</td>\n",
       "      <td>517.567</td>\n",
       "      <td>PAYLOAD</td>\n",
       "      <td>LARGE</td>\n",
       "      <td>1 58239U 23171K   23362.01692048  .00055547  0...</td>\n",
       "      <td>2 58239  43.0004 332.5049 0000733 271.1214  88...</td>\n",
       "      <td>517.838117</td>\n",
       "    </tr>\n",
       "  </tbody>\n",
       "</table>\n",
       "<p>5 rows × 32 columns</p>\n",
       "</div>"
      ]
     },
     "execution_count": 26,
     "metadata": {},
     "output_type": "execute_result"
    }
   ],
   "execution_count": 26
  },
  {
   "metadata": {
    "ExecuteTime": {
     "end_time": "2024-11-01T21:02:59.875392Z",
     "start_time": "2024-11-01T21:02:59.863530Z"
    }
   },
   "cell_type": "code",
   "source": "reduced_df.NORAD_CAT_ID.unique().shape[0]",
   "id": "2d5014b4c1a6fc95",
   "outputs": [
    {
     "data": {
      "text/plain": [
       "777"
      ]
     },
     "execution_count": 27,
     "metadata": {},
     "output_type": "execute_result"
    }
   ],
   "execution_count": 27
  },
  {
   "cell_type": "code",
   "source": [
    "reduced_df.drop('ALTITUDE', axis=1, inplace=True)"
   ],
   "metadata": {
    "collapsed": false,
    "ExecuteTime": {
     "end_time": "2024-11-01T20:49:57.676140Z",
     "start_time": "2024-11-01T20:49:54.811404Z"
    }
   },
   "id": "d0fdb9eae856360c",
   "outputs": [
    {
     "ename": "KeyError",
     "evalue": "\"['ALTITUDE'] not found in axis\"",
     "output_type": "error",
     "traceback": [
      "\u001B[1;31m---------------------------------------------------------------------------\u001B[0m",
      "\u001B[1;31mKeyError\u001B[0m                                  Traceback (most recent call last)",
      "Cell \u001B[1;32mIn[23], line 1\u001B[0m\n\u001B[1;32m----> 1\u001B[0m \u001B[43mreduced_df\u001B[49m\u001B[38;5;241;43m.\u001B[39;49m\u001B[43mdrop\u001B[49m\u001B[43m(\u001B[49m\u001B[38;5;124;43m'\u001B[39;49m\u001B[38;5;124;43mALTITUDE\u001B[39;49m\u001B[38;5;124;43m'\u001B[39;49m\u001B[43m,\u001B[49m\u001B[43m \u001B[49m\u001B[43maxis\u001B[49m\u001B[38;5;241;43m=\u001B[39;49m\u001B[38;5;241;43m1\u001B[39;49m\u001B[43m,\u001B[49m\u001B[43m \u001B[49m\u001B[43minplace\u001B[49m\u001B[38;5;241;43m=\u001B[39;49m\u001B[38;5;28;43;01mTrue\u001B[39;49;00m\u001B[43m)\u001B[49m\n",
      "File \u001B[1;32m~\\miniconda3\\envs\\thesis-code-clone\\lib\\site-packages\\pandas\\core\\frame.py:5568\u001B[0m, in \u001B[0;36mDataFrame.drop\u001B[1;34m(self, labels, axis, index, columns, level, inplace, errors)\u001B[0m\n\u001B[0;32m   5420\u001B[0m \u001B[38;5;28;01mdef\u001B[39;00m \u001B[38;5;21mdrop\u001B[39m(\n\u001B[0;32m   5421\u001B[0m     \u001B[38;5;28mself\u001B[39m,\n\u001B[0;32m   5422\u001B[0m     labels: IndexLabel \u001B[38;5;241m|\u001B[39m \u001B[38;5;28;01mNone\u001B[39;00m \u001B[38;5;241m=\u001B[39m \u001B[38;5;28;01mNone\u001B[39;00m,\n\u001B[1;32m   (...)\u001B[0m\n\u001B[0;32m   5429\u001B[0m     errors: IgnoreRaise \u001B[38;5;241m=\u001B[39m \u001B[38;5;124m\"\u001B[39m\u001B[38;5;124mraise\u001B[39m\u001B[38;5;124m\"\u001B[39m,\n\u001B[0;32m   5430\u001B[0m ) \u001B[38;5;241m-\u001B[39m\u001B[38;5;241m>\u001B[39m DataFrame \u001B[38;5;241m|\u001B[39m \u001B[38;5;28;01mNone\u001B[39;00m:\n\u001B[0;32m   5431\u001B[0m \u001B[38;5;250m    \u001B[39m\u001B[38;5;124;03m\"\"\"\u001B[39;00m\n\u001B[0;32m   5432\u001B[0m \u001B[38;5;124;03m    Drop specified labels from rows or columns.\u001B[39;00m\n\u001B[0;32m   5433\u001B[0m \n\u001B[1;32m   (...)\u001B[0m\n\u001B[0;32m   5566\u001B[0m \u001B[38;5;124;03m            weight  1.0     0.8\u001B[39;00m\n\u001B[0;32m   5567\u001B[0m \u001B[38;5;124;03m    \"\"\"\u001B[39;00m\n\u001B[1;32m-> 5568\u001B[0m     \u001B[38;5;28;01mreturn\u001B[39;00m \u001B[38;5;28;43msuper\u001B[39;49m\u001B[43m(\u001B[49m\u001B[43m)\u001B[49m\u001B[38;5;241;43m.\u001B[39;49m\u001B[43mdrop\u001B[49m\u001B[43m(\u001B[49m\n\u001B[0;32m   5569\u001B[0m \u001B[43m        \u001B[49m\u001B[43mlabels\u001B[49m\u001B[38;5;241;43m=\u001B[39;49m\u001B[43mlabels\u001B[49m\u001B[43m,\u001B[49m\n\u001B[0;32m   5570\u001B[0m \u001B[43m        \u001B[49m\u001B[43maxis\u001B[49m\u001B[38;5;241;43m=\u001B[39;49m\u001B[43maxis\u001B[49m\u001B[43m,\u001B[49m\n\u001B[0;32m   5571\u001B[0m \u001B[43m        \u001B[49m\u001B[43mindex\u001B[49m\u001B[38;5;241;43m=\u001B[39;49m\u001B[43mindex\u001B[49m\u001B[43m,\u001B[49m\n\u001B[0;32m   5572\u001B[0m \u001B[43m        \u001B[49m\u001B[43mcolumns\u001B[49m\u001B[38;5;241;43m=\u001B[39;49m\u001B[43mcolumns\u001B[49m\u001B[43m,\u001B[49m\n\u001B[0;32m   5573\u001B[0m \u001B[43m        \u001B[49m\u001B[43mlevel\u001B[49m\u001B[38;5;241;43m=\u001B[39;49m\u001B[43mlevel\u001B[49m\u001B[43m,\u001B[49m\n\u001B[0;32m   5574\u001B[0m \u001B[43m        \u001B[49m\u001B[43minplace\u001B[49m\u001B[38;5;241;43m=\u001B[39;49m\u001B[43minplace\u001B[49m\u001B[43m,\u001B[49m\n\u001B[0;32m   5575\u001B[0m \u001B[43m        \u001B[49m\u001B[43merrors\u001B[49m\u001B[38;5;241;43m=\u001B[39;49m\u001B[43merrors\u001B[49m\u001B[43m,\u001B[49m\n\u001B[0;32m   5576\u001B[0m \u001B[43m    \u001B[49m\u001B[43m)\u001B[49m\n",
      "File \u001B[1;32m~\\miniconda3\\envs\\thesis-code-clone\\lib\\site-packages\\pandas\\core\\generic.py:4785\u001B[0m, in \u001B[0;36mNDFrame.drop\u001B[1;34m(self, labels, axis, index, columns, level, inplace, errors)\u001B[0m\n\u001B[0;32m   4783\u001B[0m \u001B[38;5;28;01mfor\u001B[39;00m axis, labels \u001B[38;5;129;01min\u001B[39;00m axes\u001B[38;5;241m.\u001B[39mitems():\n\u001B[0;32m   4784\u001B[0m     \u001B[38;5;28;01mif\u001B[39;00m labels \u001B[38;5;129;01mis\u001B[39;00m \u001B[38;5;129;01mnot\u001B[39;00m \u001B[38;5;28;01mNone\u001B[39;00m:\n\u001B[1;32m-> 4785\u001B[0m         obj \u001B[38;5;241m=\u001B[39m \u001B[43mobj\u001B[49m\u001B[38;5;241;43m.\u001B[39;49m\u001B[43m_drop_axis\u001B[49m\u001B[43m(\u001B[49m\u001B[43mlabels\u001B[49m\u001B[43m,\u001B[49m\u001B[43m \u001B[49m\u001B[43maxis\u001B[49m\u001B[43m,\u001B[49m\u001B[43m \u001B[49m\u001B[43mlevel\u001B[49m\u001B[38;5;241;43m=\u001B[39;49m\u001B[43mlevel\u001B[49m\u001B[43m,\u001B[49m\u001B[43m \u001B[49m\u001B[43merrors\u001B[49m\u001B[38;5;241;43m=\u001B[39;49m\u001B[43merrors\u001B[49m\u001B[43m)\u001B[49m\n\u001B[0;32m   4787\u001B[0m \u001B[38;5;28;01mif\u001B[39;00m inplace:\n\u001B[0;32m   4788\u001B[0m     \u001B[38;5;28mself\u001B[39m\u001B[38;5;241m.\u001B[39m_update_inplace(obj)\n",
      "File \u001B[1;32m~\\miniconda3\\envs\\thesis-code-clone\\lib\\site-packages\\pandas\\core\\generic.py:4827\u001B[0m, in \u001B[0;36mNDFrame._drop_axis\u001B[1;34m(self, labels, axis, level, errors, only_slice)\u001B[0m\n\u001B[0;32m   4825\u001B[0m         new_axis \u001B[38;5;241m=\u001B[39m axis\u001B[38;5;241m.\u001B[39mdrop(labels, level\u001B[38;5;241m=\u001B[39mlevel, errors\u001B[38;5;241m=\u001B[39merrors)\n\u001B[0;32m   4826\u001B[0m     \u001B[38;5;28;01melse\u001B[39;00m:\n\u001B[1;32m-> 4827\u001B[0m         new_axis \u001B[38;5;241m=\u001B[39m \u001B[43maxis\u001B[49m\u001B[38;5;241;43m.\u001B[39;49m\u001B[43mdrop\u001B[49m\u001B[43m(\u001B[49m\u001B[43mlabels\u001B[49m\u001B[43m,\u001B[49m\u001B[43m \u001B[49m\u001B[43merrors\u001B[49m\u001B[38;5;241;43m=\u001B[39;49m\u001B[43merrors\u001B[49m\u001B[43m)\u001B[49m\n\u001B[0;32m   4828\u001B[0m     indexer \u001B[38;5;241m=\u001B[39m axis\u001B[38;5;241m.\u001B[39mget_indexer(new_axis)\n\u001B[0;32m   4830\u001B[0m \u001B[38;5;66;03m# Case for non-unique axis\u001B[39;00m\n\u001B[0;32m   4831\u001B[0m \u001B[38;5;28;01melse\u001B[39;00m:\n",
      "File \u001B[1;32m~\\miniconda3\\envs\\thesis-code-clone\\lib\\site-packages\\pandas\\core\\indexes\\base.py:7070\u001B[0m, in \u001B[0;36mIndex.drop\u001B[1;34m(self, labels, errors)\u001B[0m\n\u001B[0;32m   7068\u001B[0m \u001B[38;5;28;01mif\u001B[39;00m mask\u001B[38;5;241m.\u001B[39many():\n\u001B[0;32m   7069\u001B[0m     \u001B[38;5;28;01mif\u001B[39;00m errors \u001B[38;5;241m!=\u001B[39m \u001B[38;5;124m\"\u001B[39m\u001B[38;5;124mignore\u001B[39m\u001B[38;5;124m\"\u001B[39m:\n\u001B[1;32m-> 7070\u001B[0m         \u001B[38;5;28;01mraise\u001B[39;00m \u001B[38;5;167;01mKeyError\u001B[39;00m(\u001B[38;5;124mf\u001B[39m\u001B[38;5;124m\"\u001B[39m\u001B[38;5;132;01m{\u001B[39;00mlabels[mask]\u001B[38;5;241m.\u001B[39mtolist()\u001B[38;5;132;01m}\u001B[39;00m\u001B[38;5;124m not found in axis\u001B[39m\u001B[38;5;124m\"\u001B[39m)\n\u001B[0;32m   7071\u001B[0m     indexer \u001B[38;5;241m=\u001B[39m indexer[\u001B[38;5;241m~\u001B[39mmask]\n\u001B[0;32m   7072\u001B[0m \u001B[38;5;28;01mreturn\u001B[39;00m \u001B[38;5;28mself\u001B[39m\u001B[38;5;241m.\u001B[39mdelete(indexer)\n",
      "\u001B[1;31mKeyError\u001B[0m: \"['ALTITUDE'] not found in axis\""
     ]
    }
   ],
   "execution_count": 23
  },
  {
   "cell_type": "code",
   "source": [
    "if sample:\n",
    "    savepath = f\"../datasets/space-track-dataset-reduced-{int(frac*100)}-h-{altitude_limits[0]}-{altitude_limits[1]}-e-{int(e_limit*100)}.csv\"\n",
    "else:\n",
    "    savepath = f\"../datasets/space-track-dataset-reduced-h-{altitude_limits[0]}-{altitude_limits[1]}-e-{int(e_limit*100)}.csv\"\n",
    "\n",
    "reduced_df.to_csv(savepath, index=False)"
   ],
   "metadata": {
    "collapsed": false,
    "ExecuteTime": {
     "end_time": "2024-11-01T21:03:04.368880Z",
     "start_time": "2024-11-01T21:03:03.218592Z"
    }
   },
   "id": "13fb8a3379bc3a15",
   "outputs": [],
   "execution_count": 28
  },
  {
   "cell_type": "markdown",
   "source": [
    "# Sample reduced Space-Track dataset based on LEO 1, LEO 2, LEO 4 and LEO 4 definitions from Spaceflight Safety Handbook for Satellite Operators"
   ],
   "metadata": {
    "collapsed": false
   },
   "id": "5320bb547d4cf2e8"
  },
  {
   "cell_type": "code",
   "source": [
    "leo1_limits = ('leo1', 0, 500) # in km\n",
    "leo2_limits = ('leo2', 500, 750)\n",
    "leo3_limits = ('leo3', 750, 1200)\n",
    "leo4_limits = ('leo4', 1200, 2000)"
   ],
   "metadata": {
    "collapsed": false,
    "ExecuteTime": {
     "end_time": "2024-09-21T15:07:02.621323Z",
     "start_time": "2024-09-21T15:07:02.607423Z"
    }
   },
   "id": "94afe960a243cdff",
   "outputs": [],
   "execution_count": 2
  },
  {
   "cell_type": "code",
   "source": [
    "spacetrack_df = pd.read_csv('../datasets/space-track-dataset.csv', memory_map=True)\n",
    "spacetrack_df.head()"
   ],
   "metadata": {
    "collapsed": false,
    "ExecuteTime": {
     "end_time": "2024-09-21T15:07:17.481685Z",
     "start_time": "2024-09-21T15:07:03.989206Z"
    }
   },
   "id": "11d5c59642a55277",
   "outputs": [
    {
     "name": "stderr",
     "output_type": "stream",
     "text": [
      "C:\\Users\\DMSS_\\AppData\\Local\\Temp\\ipykernel_21572\\677191836.py:1: DtypeWarning: Columns (3) have mixed types. Specify dtype option on import or set low_memory=False.\n",
      "  spacetrack_df = pd.read_csv('../datasets/space-track-dataset.csv', memory_map=True)\n"
     ]
    },
    {
     "data": {
      "text/plain": [
       "   NORAD_CAT_ID       OBJECT_NAME   OBJECT_ID DECAY_DATE  EPOCH_DATE  \\\n",
       "0         45102     STARLINK-1195  2020-006BL        NaN  2023-12-28   \n",
       "1         56899     STARLINK-6203   2023-083Z        NaN  2023-12-28   \n",
       "2         58063    STARLINK-30585   2023-158N        NaN  2023-12-28   \n",
       "3         58515    STARLINK-31017   2023-191H        NaN  2023-12-28   \n",
       "4         17725  COSMOS 374 DEB *  1970-089DC        NaN  2023-12-28   \n",
       "\n",
       "        EPOCH_TIME        CREATION_DATE CENTER_NAME REF_FRAME TIME_SYSTEM  \\\n",
       "0  00:00:00.999648  2023-12-28T06:46:17       EARTH      TEME         UTC   \n",
       "1  00:00:00.999648  2023-12-28T06:26:17       EARTH      TEME         UTC   \n",
       "2  00:00:00.999648  2023-12-28T06:16:17       EARTH      TEME         UTC   \n",
       "3  00:00:00.999648  2023-12-28T06:46:17       EARTH      TEME         UTC   \n",
       "4  00:00:05.080320  2023-12-28T18:10:27       EARTH      TEME         UTC   \n",
       "\n",
       "   ... MEAN_MOTION_DOT  MEAN_MOTION_DDOT  SEMIMAJOR_AXIS   PERIOD  APOAPSIS  \\\n",
       "0  ...        0.001659               0.0        6711.059   91.190   333.568   \n",
       "1  ...       -0.000140               0.0        6937.217   95.838   560.049   \n",
       "2  ...       -0.012126               0.0        6934.593   95.784   557.373   \n",
       "3  ...        0.001205               0.0        6761.643   92.223   384.581   \n",
       "4  ...        0.000012               0.0        7521.696  108.202  1736.430   \n",
       "\n",
       "   PERIAPSIS  OBJECT_TYPE  RCS_SIZE  \\\n",
       "0    332.281      PAYLOAD     LARGE   \n",
       "1    558.115      PAYLOAD     LARGE   \n",
       "2    555.544      PAYLOAD     LARGE   \n",
       "3    382.435      PAYLOAD     LARGE   \n",
       "4    550.691       DEBRIS     SMALL   \n",
       "\n",
       "                                           TLE_LINE1  \\\n",
       "0  1 45102U 20006BL  23362.00001157  .00165925  0...   \n",
       "1  1 56899U 23083Z   23362.00001157 -.00013968  0...   \n",
       "2  1 58063U 23158N   23362.00001157 -.01212631  0...   \n",
       "3  1 58515U 23191H   23362.00001157  .00120477  0...   \n",
       "4  1 17725U 70089DC  23362.00005880  .00001185  0...   \n",
       "\n",
       "                                           TLE_LINE2  \n",
       "0  2 45102  53.0456 223.3367 0000959  49.0274  96...  \n",
       "1  2 56899  43.0034 123.0158 0001394 272.0222 283...  \n",
       "2  2 58063  43.0014  71.6139 0001319 262.3570 310...  \n",
       "3  2 58515  43.0004 162.7285 0001587 278.9590 219...  \n",
       "4  2 17725  62.7445 204.8063 0788212 345.5877  80...  \n",
       "\n",
       "[5 rows x 31 columns]"
      ],
      "text/html": [
       "<div>\n",
       "<style scoped>\n",
       "    .dataframe tbody tr th:only-of-type {\n",
       "        vertical-align: middle;\n",
       "    }\n",
       "\n",
       "    .dataframe tbody tr th {\n",
       "        vertical-align: top;\n",
       "    }\n",
       "\n",
       "    .dataframe thead th {\n",
       "        text-align: right;\n",
       "    }\n",
       "</style>\n",
       "<table border=\"1\" class=\"dataframe\">\n",
       "  <thead>\n",
       "    <tr style=\"text-align: right;\">\n",
       "      <th></th>\n",
       "      <th>NORAD_CAT_ID</th>\n",
       "      <th>OBJECT_NAME</th>\n",
       "      <th>OBJECT_ID</th>\n",
       "      <th>DECAY_DATE</th>\n",
       "      <th>EPOCH_DATE</th>\n",
       "      <th>EPOCH_TIME</th>\n",
       "      <th>CREATION_DATE</th>\n",
       "      <th>CENTER_NAME</th>\n",
       "      <th>REF_FRAME</th>\n",
       "      <th>TIME_SYSTEM</th>\n",
       "      <th>...</th>\n",
       "      <th>MEAN_MOTION_DOT</th>\n",
       "      <th>MEAN_MOTION_DDOT</th>\n",
       "      <th>SEMIMAJOR_AXIS</th>\n",
       "      <th>PERIOD</th>\n",
       "      <th>APOAPSIS</th>\n",
       "      <th>PERIAPSIS</th>\n",
       "      <th>OBJECT_TYPE</th>\n",
       "      <th>RCS_SIZE</th>\n",
       "      <th>TLE_LINE1</th>\n",
       "      <th>TLE_LINE2</th>\n",
       "    </tr>\n",
       "  </thead>\n",
       "  <tbody>\n",
       "    <tr>\n",
       "      <th>0</th>\n",
       "      <td>45102</td>\n",
       "      <td>STARLINK-1195</td>\n",
       "      <td>2020-006BL</td>\n",
       "      <td>NaN</td>\n",
       "      <td>2023-12-28</td>\n",
       "      <td>00:00:00.999648</td>\n",
       "      <td>2023-12-28T06:46:17</td>\n",
       "      <td>EARTH</td>\n",
       "      <td>TEME</td>\n",
       "      <td>UTC</td>\n",
       "      <td>...</td>\n",
       "      <td>0.001659</td>\n",
       "      <td>0.0</td>\n",
       "      <td>6711.059</td>\n",
       "      <td>91.190</td>\n",
       "      <td>333.568</td>\n",
       "      <td>332.281</td>\n",
       "      <td>PAYLOAD</td>\n",
       "      <td>LARGE</td>\n",
       "      <td>1 45102U 20006BL  23362.00001157  .00165925  0...</td>\n",
       "      <td>2 45102  53.0456 223.3367 0000959  49.0274  96...</td>\n",
       "    </tr>\n",
       "    <tr>\n",
       "      <th>1</th>\n",
       "      <td>56899</td>\n",
       "      <td>STARLINK-6203</td>\n",
       "      <td>2023-083Z</td>\n",
       "      <td>NaN</td>\n",
       "      <td>2023-12-28</td>\n",
       "      <td>00:00:00.999648</td>\n",
       "      <td>2023-12-28T06:26:17</td>\n",
       "      <td>EARTH</td>\n",
       "      <td>TEME</td>\n",
       "      <td>UTC</td>\n",
       "      <td>...</td>\n",
       "      <td>-0.000140</td>\n",
       "      <td>0.0</td>\n",
       "      <td>6937.217</td>\n",
       "      <td>95.838</td>\n",
       "      <td>560.049</td>\n",
       "      <td>558.115</td>\n",
       "      <td>PAYLOAD</td>\n",
       "      <td>LARGE</td>\n",
       "      <td>1 56899U 23083Z   23362.00001157 -.00013968  0...</td>\n",
       "      <td>2 56899  43.0034 123.0158 0001394 272.0222 283...</td>\n",
       "    </tr>\n",
       "    <tr>\n",
       "      <th>2</th>\n",
       "      <td>58063</td>\n",
       "      <td>STARLINK-30585</td>\n",
       "      <td>2023-158N</td>\n",
       "      <td>NaN</td>\n",
       "      <td>2023-12-28</td>\n",
       "      <td>00:00:00.999648</td>\n",
       "      <td>2023-12-28T06:16:17</td>\n",
       "      <td>EARTH</td>\n",
       "      <td>TEME</td>\n",
       "      <td>UTC</td>\n",
       "      <td>...</td>\n",
       "      <td>-0.012126</td>\n",
       "      <td>0.0</td>\n",
       "      <td>6934.593</td>\n",
       "      <td>95.784</td>\n",
       "      <td>557.373</td>\n",
       "      <td>555.544</td>\n",
       "      <td>PAYLOAD</td>\n",
       "      <td>LARGE</td>\n",
       "      <td>1 58063U 23158N   23362.00001157 -.01212631  0...</td>\n",
       "      <td>2 58063  43.0014  71.6139 0001319 262.3570 310...</td>\n",
       "    </tr>\n",
       "    <tr>\n",
       "      <th>3</th>\n",
       "      <td>58515</td>\n",
       "      <td>STARLINK-31017</td>\n",
       "      <td>2023-191H</td>\n",
       "      <td>NaN</td>\n",
       "      <td>2023-12-28</td>\n",
       "      <td>00:00:00.999648</td>\n",
       "      <td>2023-12-28T06:46:17</td>\n",
       "      <td>EARTH</td>\n",
       "      <td>TEME</td>\n",
       "      <td>UTC</td>\n",
       "      <td>...</td>\n",
       "      <td>0.001205</td>\n",
       "      <td>0.0</td>\n",
       "      <td>6761.643</td>\n",
       "      <td>92.223</td>\n",
       "      <td>384.581</td>\n",
       "      <td>382.435</td>\n",
       "      <td>PAYLOAD</td>\n",
       "      <td>LARGE</td>\n",
       "      <td>1 58515U 23191H   23362.00001157  .00120477  0...</td>\n",
       "      <td>2 58515  43.0004 162.7285 0001587 278.9590 219...</td>\n",
       "    </tr>\n",
       "    <tr>\n",
       "      <th>4</th>\n",
       "      <td>17725</td>\n",
       "      <td>COSMOS 374 DEB *</td>\n",
       "      <td>1970-089DC</td>\n",
       "      <td>NaN</td>\n",
       "      <td>2023-12-28</td>\n",
       "      <td>00:00:05.080320</td>\n",
       "      <td>2023-12-28T18:10:27</td>\n",
       "      <td>EARTH</td>\n",
       "      <td>TEME</td>\n",
       "      <td>UTC</td>\n",
       "      <td>...</td>\n",
       "      <td>0.000012</td>\n",
       "      <td>0.0</td>\n",
       "      <td>7521.696</td>\n",
       "      <td>108.202</td>\n",
       "      <td>1736.430</td>\n",
       "      <td>550.691</td>\n",
       "      <td>DEBRIS</td>\n",
       "      <td>SMALL</td>\n",
       "      <td>1 17725U 70089DC  23362.00005880  .00001185  0...</td>\n",
       "      <td>2 17725  62.7445 204.8063 0788212 345.5877  80...</td>\n",
       "    </tr>\n",
       "  </tbody>\n",
       "</table>\n",
       "<p>5 rows × 31 columns</p>\n",
       "</div>"
      ]
     },
     "execution_count": 3,
     "metadata": {},
     "output_type": "execute_result"
    }
   ],
   "execution_count": 3
  },
  {
   "cell_type": "code",
   "source": [
    "def reduced_filtered_dataset(dates, dataset, perigee_limits, e_limit, sample, frac):\n",
    "    _, min_lim, max_lim = perigee_limits\n",
    "    altitude_cond = (dataset['PERIAPSIS'] > min_lim) & (dataset['PERIAPSIS'] <= max_lim)\n",
    "    \n",
    "    eccentricity_cond = dataset['ECCENTRICITY'] < e_limit\n",
    "    \n",
    "    filtered_dataset = dataset[(altitude_cond) & (eccentricity_cond)]\n",
    "    \n",
    "    if sample:\n",
    "        reduced_df = pd.DataFrame()\n",
    "        for date in tqdm(dates):\n",
    "            df_date = filtered_dataset[filtered_dataset['EPOCH_DATE'] == date].sample(frac=frac, random_state=7, ignore_index=True)\n",
    "            df_date.sort_values(by=['EPOCH_DATE', 'EPOCH_TIME', 'NORAD_CAT_ID'], ignore_index=True, inplace=True)\n",
    "            reduced_df = pd.concat([reduced_df, df_date], ignore_index=True)\n",
    "        return reduced_df\n",
    "    else:\n",
    "        return filtered_dataset.copy()"
   ],
   "metadata": {
    "collapsed": false,
    "ExecuteTime": {
     "end_time": "2024-09-21T15:07:33.225128Z",
     "start_time": "2024-09-21T15:07:33.211406Z"
    }
   },
   "id": "b8d785d9979cbe0",
   "outputs": [],
   "execution_count": 4
  },
  {
   "cell_type": "code",
   "source": [
    "sample = True\n",
    "frac = 0.25\n",
    "perigee_limits = leo2_limits # in km\n",
    "e_limit = 0.25\n",
    "\n",
    "reduced_df = reduced_filtered_dataset(dates, spacetrack_df, perigee_limits, e_limit, sample, frac)\n",
    "print(f'Number of lines: {reduced_df.shape[0]}')\n",
    "reduced_df.head()"
   ],
   "metadata": {
    "collapsed": false,
    "ExecuteTime": {
     "end_time": "2024-09-21T15:13:32.748313Z",
     "start_time": "2024-09-21T15:13:28.417197Z"
    }
   },
   "id": "a62b40a3e188964a",
   "outputs": [
    {
     "data": {
      "text/plain": [
       "  0%|          | 0/32 [00:00<?, ?it/s]"
      ],
      "application/vnd.jupyter.widget-view+json": {
       "version_major": 2,
       "version_minor": 0,
       "model_id": "37bb1a3c756c4598a099b8addd192f87"
      }
     },
     "metadata": {},
     "output_type": "display_data"
    },
    {
     "name": "stdout",
     "output_type": "stream",
     "text": [
      "Number of lines: 142548\n"
     ]
    },
    {
     "data": {
      "text/plain": [
       "   NORAD_CAT_ID       OBJECT_NAME    OBJECT_ID DECAY_DATE  EPOCH_DATE  \\\n",
       "0         17725  COSMOS 374 DEB *   1970-089DC        NaN  2023-12-28   \n",
       "1         53732     STARLINK-4661   2022-107AJ        NaN  2023-12-28   \n",
       "2         21346       DELTA 1 DEB   1975-052BQ        NaN  2023-12-28   \n",
       "3         55885         CZ-6A DEB  2022-151AAH        NaN  2023-12-28   \n",
       "4         57776    STARLINK-30360    2023-134F        NaN  2023-12-28   \n",
       "\n",
       "        EPOCH_TIME        CREATION_DATE CENTER_NAME REF_FRAME TIME_SYSTEM  \\\n",
       "0  00:00:05.080320  2023-12-28T18:10:27       EARTH      TEME         UTC   \n",
       "1  00:00:45.481824  2023-12-28T18:10:27       EARTH      TEME         UTC   \n",
       "2  00:01:06.678336  2023-12-28T14:16:16       EARTH      TEME         UTC   \n",
       "3  00:01:52.138560  2023-12-28T06:26:17       EARTH      TEME         UTC   \n",
       "4  00:02:01.118976  2023-12-28T18:10:27       EARTH      TEME         UTC   \n",
       "\n",
       "   ... MEAN_MOTION_DOT  MEAN_MOTION_DDOT  SEMIMAJOR_AXIS   PERIOD  APOAPSIS  \\\n",
       "0  ...        0.000012               0.0        7521.696  108.202  1736.430   \n",
       "1  ...        0.000018               0.0        6917.854   95.437   540.599   \n",
       "2  ...        0.000763               0.0        7148.379  100.247   845.575   \n",
       "3  ...        0.000152               0.0        7108.927   99.418   792.693   \n",
       "4  ...        0.000041               0.0        6937.193   95.837   560.035   \n",
       "\n",
       "   PERIAPSIS  OBJECT_TYPE  RCS_SIZE  \\\n",
       "0    550.691       DEBRIS     SMALL   \n",
       "1    538.839      PAYLOAD     LARGE   \n",
       "2    694.912       DEBRIS     SMALL   \n",
       "3    668.891       DEBRIS     SMALL   \n",
       "4    558.080      PAYLOAD     LARGE   \n",
       "\n",
       "                                           TLE_LINE1  \\\n",
       "0  1 17725U 70089DC  23362.00005880  .00001185  0...   \n",
       "1  1 53732U 22107AJ  23362.00052641  .00001756  0...   \n",
       "2  1 21346U 75052BQ  23362.00077174  .00076350  0...   \n",
       "3  1 55885U 22151AAH 23362.00129790  .00015238  0...   \n",
       "4  1 57776U 23134F   23362.00140184  .00004125  0...   \n",
       "\n",
       "                                           TLE_LINE2  \n",
       "0  2 17725  62.7445 204.8063 0788212 345.5877  80...  \n",
       "1  2 53732  53.2156 257.6184 0001272  90.2252 269...  \n",
       "2  2 21346  98.9098  25.4086 0105383  70.9796 290...  \n",
       "3  2 55885  98.6315  15.9526 0087075 150.7342 209...  \n",
       "4  2 57776  42.9996 239.2955 0001409 248.9670 111...  \n",
       "\n",
       "[5 rows x 31 columns]"
      ],
      "text/html": [
       "<div>\n",
       "<style scoped>\n",
       "    .dataframe tbody tr th:only-of-type {\n",
       "        vertical-align: middle;\n",
       "    }\n",
       "\n",
       "    .dataframe tbody tr th {\n",
       "        vertical-align: top;\n",
       "    }\n",
       "\n",
       "    .dataframe thead th {\n",
       "        text-align: right;\n",
       "    }\n",
       "</style>\n",
       "<table border=\"1\" class=\"dataframe\">\n",
       "  <thead>\n",
       "    <tr style=\"text-align: right;\">\n",
       "      <th></th>\n",
       "      <th>NORAD_CAT_ID</th>\n",
       "      <th>OBJECT_NAME</th>\n",
       "      <th>OBJECT_ID</th>\n",
       "      <th>DECAY_DATE</th>\n",
       "      <th>EPOCH_DATE</th>\n",
       "      <th>EPOCH_TIME</th>\n",
       "      <th>CREATION_DATE</th>\n",
       "      <th>CENTER_NAME</th>\n",
       "      <th>REF_FRAME</th>\n",
       "      <th>TIME_SYSTEM</th>\n",
       "      <th>...</th>\n",
       "      <th>MEAN_MOTION_DOT</th>\n",
       "      <th>MEAN_MOTION_DDOT</th>\n",
       "      <th>SEMIMAJOR_AXIS</th>\n",
       "      <th>PERIOD</th>\n",
       "      <th>APOAPSIS</th>\n",
       "      <th>PERIAPSIS</th>\n",
       "      <th>OBJECT_TYPE</th>\n",
       "      <th>RCS_SIZE</th>\n",
       "      <th>TLE_LINE1</th>\n",
       "      <th>TLE_LINE2</th>\n",
       "    </tr>\n",
       "  </thead>\n",
       "  <tbody>\n",
       "    <tr>\n",
       "      <th>0</th>\n",
       "      <td>17725</td>\n",
       "      <td>COSMOS 374 DEB *</td>\n",
       "      <td>1970-089DC</td>\n",
       "      <td>NaN</td>\n",
       "      <td>2023-12-28</td>\n",
       "      <td>00:00:05.080320</td>\n",
       "      <td>2023-12-28T18:10:27</td>\n",
       "      <td>EARTH</td>\n",
       "      <td>TEME</td>\n",
       "      <td>UTC</td>\n",
       "      <td>...</td>\n",
       "      <td>0.000012</td>\n",
       "      <td>0.0</td>\n",
       "      <td>7521.696</td>\n",
       "      <td>108.202</td>\n",
       "      <td>1736.430</td>\n",
       "      <td>550.691</td>\n",
       "      <td>DEBRIS</td>\n",
       "      <td>SMALL</td>\n",
       "      <td>1 17725U 70089DC  23362.00005880  .00001185  0...</td>\n",
       "      <td>2 17725  62.7445 204.8063 0788212 345.5877  80...</td>\n",
       "    </tr>\n",
       "    <tr>\n",
       "      <th>1</th>\n",
       "      <td>53732</td>\n",
       "      <td>STARLINK-4661</td>\n",
       "      <td>2022-107AJ</td>\n",
       "      <td>NaN</td>\n",
       "      <td>2023-12-28</td>\n",
       "      <td>00:00:45.481824</td>\n",
       "      <td>2023-12-28T18:10:27</td>\n",
       "      <td>EARTH</td>\n",
       "      <td>TEME</td>\n",
       "      <td>UTC</td>\n",
       "      <td>...</td>\n",
       "      <td>0.000018</td>\n",
       "      <td>0.0</td>\n",
       "      <td>6917.854</td>\n",
       "      <td>95.437</td>\n",
       "      <td>540.599</td>\n",
       "      <td>538.839</td>\n",
       "      <td>PAYLOAD</td>\n",
       "      <td>LARGE</td>\n",
       "      <td>1 53732U 22107AJ  23362.00052641  .00001756  0...</td>\n",
       "      <td>2 53732  53.2156 257.6184 0001272  90.2252 269...</td>\n",
       "    </tr>\n",
       "    <tr>\n",
       "      <th>2</th>\n",
       "      <td>21346</td>\n",
       "      <td>DELTA 1 DEB</td>\n",
       "      <td>1975-052BQ</td>\n",
       "      <td>NaN</td>\n",
       "      <td>2023-12-28</td>\n",
       "      <td>00:01:06.678336</td>\n",
       "      <td>2023-12-28T14:16:16</td>\n",
       "      <td>EARTH</td>\n",
       "      <td>TEME</td>\n",
       "      <td>UTC</td>\n",
       "      <td>...</td>\n",
       "      <td>0.000763</td>\n",
       "      <td>0.0</td>\n",
       "      <td>7148.379</td>\n",
       "      <td>100.247</td>\n",
       "      <td>845.575</td>\n",
       "      <td>694.912</td>\n",
       "      <td>DEBRIS</td>\n",
       "      <td>SMALL</td>\n",
       "      <td>1 21346U 75052BQ  23362.00077174  .00076350  0...</td>\n",
       "      <td>2 21346  98.9098  25.4086 0105383  70.9796 290...</td>\n",
       "    </tr>\n",
       "    <tr>\n",
       "      <th>3</th>\n",
       "      <td>55885</td>\n",
       "      <td>CZ-6A DEB</td>\n",
       "      <td>2022-151AAH</td>\n",
       "      <td>NaN</td>\n",
       "      <td>2023-12-28</td>\n",
       "      <td>00:01:52.138560</td>\n",
       "      <td>2023-12-28T06:26:17</td>\n",
       "      <td>EARTH</td>\n",
       "      <td>TEME</td>\n",
       "      <td>UTC</td>\n",
       "      <td>...</td>\n",
       "      <td>0.000152</td>\n",
       "      <td>0.0</td>\n",
       "      <td>7108.927</td>\n",
       "      <td>99.418</td>\n",
       "      <td>792.693</td>\n",
       "      <td>668.891</td>\n",
       "      <td>DEBRIS</td>\n",
       "      <td>SMALL</td>\n",
       "      <td>1 55885U 22151AAH 23362.00129790  .00015238  0...</td>\n",
       "      <td>2 55885  98.6315  15.9526 0087075 150.7342 209...</td>\n",
       "    </tr>\n",
       "    <tr>\n",
       "      <th>4</th>\n",
       "      <td>57776</td>\n",
       "      <td>STARLINK-30360</td>\n",
       "      <td>2023-134F</td>\n",
       "      <td>NaN</td>\n",
       "      <td>2023-12-28</td>\n",
       "      <td>00:02:01.118976</td>\n",
       "      <td>2023-12-28T18:10:27</td>\n",
       "      <td>EARTH</td>\n",
       "      <td>TEME</td>\n",
       "      <td>UTC</td>\n",
       "      <td>...</td>\n",
       "      <td>0.000041</td>\n",
       "      <td>0.0</td>\n",
       "      <td>6937.193</td>\n",
       "      <td>95.837</td>\n",
       "      <td>560.035</td>\n",
       "      <td>558.080</td>\n",
       "      <td>PAYLOAD</td>\n",
       "      <td>LARGE</td>\n",
       "      <td>1 57776U 23134F   23362.00140184  .00004125  0...</td>\n",
       "      <td>2 57776  42.9996 239.2955 0001409 248.9670 111...</td>\n",
       "    </tr>\n",
       "  </tbody>\n",
       "</table>\n",
       "<p>5 rows × 31 columns</p>\n",
       "</div>"
      ]
     },
     "execution_count": 7,
     "metadata": {},
     "output_type": "execute_result"
    }
   ],
   "execution_count": 7
  },
  {
   "cell_type": "code",
   "source": [
    "print(reduced_df['EPOCH_DATE'].unique())\n",
    "np.all((reduced_df['EPOCH_DATE'].unique() == dates))"
   ],
   "metadata": {
    "collapsed": false,
    "ExecuteTime": {
     "end_time": "2024-09-21T15:13:55.160495Z",
     "start_time": "2024-09-21T15:13:55.118861Z"
    }
   },
   "id": "b657f7457b0362e6",
   "outputs": [
    {
     "name": "stdout",
     "output_type": "stream",
     "text": [
      "['2023-12-28' '2023-12-29' '2023-12-30' '2023-12-31' '2024-01-01'\n",
      " '2024-01-02' '2024-01-03' '2024-01-04' '2024-01-05' '2024-01-06'\n",
      " '2024-01-07' '2024-01-08' '2024-01-09' '2024-01-10' '2024-01-11'\n",
      " '2024-01-12' '2024-01-13' '2024-01-14' '2024-01-15' '2024-01-16'\n",
      " '2024-01-17' '2024-01-18' '2024-01-19' '2024-01-20' '2024-01-21'\n",
      " '2024-01-22' '2024-01-23' '2024-01-24' '2024-01-25' '2024-01-26'\n",
      " '2024-01-27' '2024-01-28']\n"
     ]
    },
    {
     "data": {
      "text/plain": [
       "True"
      ]
     },
     "execution_count": 8,
     "metadata": {},
     "output_type": "execute_result"
    }
   ],
   "execution_count": 8
  },
  {
   "cell_type": "code",
   "source": [
    "if sample:\n",
    "    savepath = f\"../datasets/space-track-dataset-{perigee_limits[0]}-reduced-{int(frac*100)}.csv\"\n",
    "else:\n",
    "    savepath = f\"../datasets/space-track-dataset-{perigee_limits[0]}.csv\"\n",
    "reduced_df.to_csv(savepath, index=False)"
   ],
   "metadata": {
    "collapsed": false,
    "ExecuteTime": {
     "end_time": "2024-09-21T15:14:07.104774Z",
     "start_time": "2024-09-21T15:14:02.251336Z"
    }
   },
   "id": "cea05d0effcd6357",
   "outputs": [],
   "execution_count": 9
  }
 ],
 "metadata": {
  "kernelspec": {
   "display_name": "Python 3",
   "language": "python",
   "name": "python3"
  },
  "language_info": {
   "codemirror_mode": {
    "name": "ipython",
    "version": 2
   },
   "file_extension": ".py",
   "mimetype": "text/x-python",
   "name": "python",
   "nbconvert_exporter": "python",
   "pygments_lexer": "ipython2",
   "version": "2.7.6"
  }
 },
 "nbformat": 4,
 "nbformat_minor": 5
}
