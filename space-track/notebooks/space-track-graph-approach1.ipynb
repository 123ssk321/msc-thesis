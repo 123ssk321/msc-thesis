{
 "cells": [
  {
   "cell_type": "markdown",
   "source": [
    "# Import libraries and functions"
   ],
   "metadata": {
    "collapsed": false
   },
   "id": "be8e77ef476c820f"
  },
  {
   "cell_type": "code",
   "execution_count": 1,
   "outputs": [],
   "source": [
    "import math\n",
    "import pandas as pd\n",
    "import numpy as np\n",
    "from tqdm.notebook import tqdm"
   ],
   "metadata": {
    "collapsed": false,
    "ExecuteTime": {
     "end_time": "2024-04-11T14:34:25.735196900Z",
     "start_time": "2024-04-11T14:34:23.581792400Z"
    }
   },
   "id": "7af86d1ae1523cf"
  },
  {
   "cell_type": "markdown",
   "source": [
    "## Initialize Orekit and import Orekit libraries"
   ],
   "metadata": {
    "collapsed": false
   },
   "id": "efabdd58672d9171"
  },
  {
   "cell_type": "code",
   "execution_count": 3,
   "outputs": [
    {
     "name": "stdout",
     "output_type": "stream",
     "text": [
      "Java version: 1.8.0_382\n",
      "Orekit version: 12.0.1\n"
     ]
    }
   ],
   "source": [
    "import orekit\n",
    "vm = orekit.initVM()\n",
    "print ('Java version:',vm.java_version)\n",
    "print ('Orekit version:', orekit.VERSION)"
   ],
   "metadata": {
    "collapsed": false,
    "ExecuteTime": {
     "end_time": "2024-04-11T15:09:01.666809600Z",
     "start_time": "2024-04-11T15:08:59.243651700Z"
    }
   },
   "id": "992a8f2b848ac2c8"
  },
  {
   "cell_type": "code",
   "execution_count": 4,
   "outputs": [],
   "source": [
    "from orekit.pyhelpers import setup_orekit_curdir, download_orekit_data_curdir\n",
    "setup_orekit_curdir('../../orekit-data.zip')"
   ],
   "metadata": {
    "collapsed": false,
    "ExecuteTime": {
     "end_time": "2024-04-11T15:09:02.537951200Z",
     "start_time": "2024-04-11T15:09:02.523271500Z"
    }
   },
   "id": "4d78d162b9922859"
  },
  {
   "cell_type": "code",
   "execution_count": 5,
   "outputs": [],
   "source": [
    "from java.util import Arrays\n",
    "from orekit import JArray_double"
   ],
   "metadata": {
    "collapsed": false,
    "ExecuteTime": {
     "end_time": "2024-04-11T15:09:03.235231300Z",
     "start_time": "2024-04-11T15:09:03.216033600Z"
    }
   },
   "id": "799afab305fb6788"
  },
  {
   "cell_type": "code",
   "execution_count": 6,
   "outputs": [],
   "source": [
    "from org.orekit.propagation.analytical.tle import TLE, TLEPropagator\n",
    "from org.orekit.frames import FramesFactory, LOFType, LocalOrbitalFrame"
   ],
   "metadata": {
    "collapsed": false,
    "ExecuteTime": {
     "end_time": "2024-04-11T15:09:04.233599Z",
     "start_time": "2024-04-11T15:09:04.207571600Z"
    }
   },
   "id": "eb0f252cd4ab6e3b"
  },
  {
   "cell_type": "markdown",
   "source": [
    "# Load Space-Track dataset"
   ],
   "metadata": {
    "collapsed": false
   },
   "id": "c49bda85fad6fe40"
  },
  {
   "cell_type": "code",
   "execution_count": 55,
   "outputs": [
    {
     "data": {
      "text/plain": "   NORAD_CAT_ID         OBJECT_NAME   OBJECT_ID  DECAY_DATE  EPOCH_DATE  \\\n0         58063      STARLINK-30585   2023-158N         NaN  2023-12-28   \n1         45739       STARLINK-1475   2020-038K         NaN  2023-12-28   \n2         45227       STARLINK-1221  2020-012BB         NaN  2023-12-28   \n3         27609       TRAILBLAZER 2   2002-058E         NaN  2023-12-28   \n4         14879  THORAD DELTA 1 DEB  1974-089ES         NaN  2023-12-28   \n\n        EPOCH_TIME        CREATION_DATE CENTER_NAME REF_FRAME TIME_SYSTEM  \\\n0  00:00:00.999648  2023-12-28T06:16:17       EARTH      TEME         UTC   \n1  00:01:55.626528  2023-12-28T18:10:27       EARTH      TEME         UTC   \n2  00:01:58.804320  2023-12-28T06:26:17       EARTH      TEME         UTC   \n3  00:02:24.040032  2023-12-28T06:16:17       EARTH      TEME         UTC   \n4  00:02:43.493856  2023-12-28T18:10:27       EARTH      TEME         UTC   \n\n   ... MEAN_MOTION_DOT  MEAN_MOTION_DDOT  SEMIMAJOR_AXIS   PERIOD  APOAPSIS  \\\n0  ...   -1.212631e-02               0.0        6934.593   95.784   557.373   \n1  ...    8.730000e-06               0.0        6925.347   95.592   548.089   \n2  ...    1.595000e-05               0.0        6925.400   95.593   548.114   \n3  ...    6.300000e-06               0.0        7009.008   97.330   638.150   \n4  ...    5.300000e-07               0.0        7990.496  118.473  1783.498   \n\n   PERIAPSIS  OBJECT_TYPE  RCS_SIZE  \\\n0    555.544      PAYLOAD     LARGE   \n1    546.334      PAYLOAD     LARGE   \n2    546.416      PAYLOAD     LARGE   \n3    623.597      PAYLOAD     LARGE   \n4   1441.225       DEBRIS     SMALL   \n\n                                           TLE_LINE1  \\\n0  1 58063U 23158N   23362.00001157 -.01212631  0...   \n1  1 45739U 20038K   23362.00133827  .00000873  0...   \n2  1 45227U 20012BB  23362.00137505  .00001595  0...   \n3  1 27609U 02058E   23362.00166713  .00000630  0...   \n4  1 14879U 74089ES  23362.00189229  .00000053  0...   \n\n                                           TLE_LINE2  \n0  2 58063  43.0014  71.6139 0001319 262.3570 310...  \n1  2 45739  53.0535 200.0197 0001267  97.3550 262...  \n2  2 45227  53.0556  10.0261 0001226 101.0635 259...  \n3  2 27609  64.5552 236.5835 0010382 181.6066 178...  \n4  2 14879 101.2066  12.9018 0214175 298.1690  85...  \n\n[5 rows x 31 columns]",
      "text/html": "<div>\n<style scoped>\n    .dataframe tbody tr th:only-of-type {\n        vertical-align: middle;\n    }\n\n    .dataframe tbody tr th {\n        vertical-align: top;\n    }\n\n    .dataframe thead th {\n        text-align: right;\n    }\n</style>\n<table border=\"1\" class=\"dataframe\">\n  <thead>\n    <tr style=\"text-align: right;\">\n      <th></th>\n      <th>NORAD_CAT_ID</th>\n      <th>OBJECT_NAME</th>\n      <th>OBJECT_ID</th>\n      <th>DECAY_DATE</th>\n      <th>EPOCH_DATE</th>\n      <th>EPOCH_TIME</th>\n      <th>CREATION_DATE</th>\n      <th>CENTER_NAME</th>\n      <th>REF_FRAME</th>\n      <th>TIME_SYSTEM</th>\n      <th>...</th>\n      <th>MEAN_MOTION_DOT</th>\n      <th>MEAN_MOTION_DDOT</th>\n      <th>SEMIMAJOR_AXIS</th>\n      <th>PERIOD</th>\n      <th>APOAPSIS</th>\n      <th>PERIAPSIS</th>\n      <th>OBJECT_TYPE</th>\n      <th>RCS_SIZE</th>\n      <th>TLE_LINE1</th>\n      <th>TLE_LINE2</th>\n    </tr>\n  </thead>\n  <tbody>\n    <tr>\n      <th>0</th>\n      <td>58063</td>\n      <td>STARLINK-30585</td>\n      <td>2023-158N</td>\n      <td>NaN</td>\n      <td>2023-12-28</td>\n      <td>00:00:00.999648</td>\n      <td>2023-12-28T06:16:17</td>\n      <td>EARTH</td>\n      <td>TEME</td>\n      <td>UTC</td>\n      <td>...</td>\n      <td>-1.212631e-02</td>\n      <td>0.0</td>\n      <td>6934.593</td>\n      <td>95.784</td>\n      <td>557.373</td>\n      <td>555.544</td>\n      <td>PAYLOAD</td>\n      <td>LARGE</td>\n      <td>1 58063U 23158N   23362.00001157 -.01212631  0...</td>\n      <td>2 58063  43.0014  71.6139 0001319 262.3570 310...</td>\n    </tr>\n    <tr>\n      <th>1</th>\n      <td>45739</td>\n      <td>STARLINK-1475</td>\n      <td>2020-038K</td>\n      <td>NaN</td>\n      <td>2023-12-28</td>\n      <td>00:01:55.626528</td>\n      <td>2023-12-28T18:10:27</td>\n      <td>EARTH</td>\n      <td>TEME</td>\n      <td>UTC</td>\n      <td>...</td>\n      <td>8.730000e-06</td>\n      <td>0.0</td>\n      <td>6925.347</td>\n      <td>95.592</td>\n      <td>548.089</td>\n      <td>546.334</td>\n      <td>PAYLOAD</td>\n      <td>LARGE</td>\n      <td>1 45739U 20038K   23362.00133827  .00000873  0...</td>\n      <td>2 45739  53.0535 200.0197 0001267  97.3550 262...</td>\n    </tr>\n    <tr>\n      <th>2</th>\n      <td>45227</td>\n      <td>STARLINK-1221</td>\n      <td>2020-012BB</td>\n      <td>NaN</td>\n      <td>2023-12-28</td>\n      <td>00:01:58.804320</td>\n      <td>2023-12-28T06:26:17</td>\n      <td>EARTH</td>\n      <td>TEME</td>\n      <td>UTC</td>\n      <td>...</td>\n      <td>1.595000e-05</td>\n      <td>0.0</td>\n      <td>6925.400</td>\n      <td>95.593</td>\n      <td>548.114</td>\n      <td>546.416</td>\n      <td>PAYLOAD</td>\n      <td>LARGE</td>\n      <td>1 45227U 20012BB  23362.00137505  .00001595  0...</td>\n      <td>2 45227  53.0556  10.0261 0001226 101.0635 259...</td>\n    </tr>\n    <tr>\n      <th>3</th>\n      <td>27609</td>\n      <td>TRAILBLAZER 2</td>\n      <td>2002-058E</td>\n      <td>NaN</td>\n      <td>2023-12-28</td>\n      <td>00:02:24.040032</td>\n      <td>2023-12-28T06:16:17</td>\n      <td>EARTH</td>\n      <td>TEME</td>\n      <td>UTC</td>\n      <td>...</td>\n      <td>6.300000e-06</td>\n      <td>0.0</td>\n      <td>7009.008</td>\n      <td>97.330</td>\n      <td>638.150</td>\n      <td>623.597</td>\n      <td>PAYLOAD</td>\n      <td>LARGE</td>\n      <td>1 27609U 02058E   23362.00166713  .00000630  0...</td>\n      <td>2 27609  64.5552 236.5835 0010382 181.6066 178...</td>\n    </tr>\n    <tr>\n      <th>4</th>\n      <td>14879</td>\n      <td>THORAD DELTA 1 DEB</td>\n      <td>1974-089ES</td>\n      <td>NaN</td>\n      <td>2023-12-28</td>\n      <td>00:02:43.493856</td>\n      <td>2023-12-28T18:10:27</td>\n      <td>EARTH</td>\n      <td>TEME</td>\n      <td>UTC</td>\n      <td>...</td>\n      <td>5.300000e-07</td>\n      <td>0.0</td>\n      <td>7990.496</td>\n      <td>118.473</td>\n      <td>1783.498</td>\n      <td>1441.225</td>\n      <td>DEBRIS</td>\n      <td>SMALL</td>\n      <td>1 14879U 74089ES  23362.00189229  .00000053  0...</td>\n      <td>2 14879 101.2066  12.9018 0214175 298.1690  85...</td>\n    </tr>\n  </tbody>\n</table>\n<p>5 rows × 31 columns</p>\n</div>"
     },
     "execution_count": 55,
     "metadata": {},
     "output_type": "execute_result"
    }
   ],
   "source": [
    "reduced, frac = True, 0.25\n",
    "reduced_sample_alt_e, min_alt, max_alt, e_thres = False, 500, 600, 0.2\n",
    "if reduced:\n",
    "    filepath = f\"../datasets/space-track-dataset-reduced-{int(frac*100)}.csv\"\n",
    "elif reduced_sample_alt_e:\n",
    "    filepath = f\"../datasets/space-track-dataset-reduced-{int(frac*100)}-h-{min_alt}-{max_alt}-e-{int(e_thres*100)}.csv\"\n",
    "else:\n",
    "     filepath = '../datasets/space-track-dataset.csv'\n",
    "\n",
    "df = pd.read_csv(filepath, nrows=101 ,memory_map=True)\n",
    "df.head()"
   ],
   "metadata": {
    "collapsed": false,
    "ExecuteTime": {
     "end_time": "2024-04-11T16:02:20.626313700Z",
     "start_time": "2024-04-11T16:02:20.559973800Z"
    }
   },
   "id": "21a85e57be26c6ef"
  },
  {
   "cell_type": "markdown",
   "source": [
    "## Remove fractional part of seconds in EPOCH_TIME"
   ],
   "metadata": {
    "collapsed": false
   },
   "id": "f07d4abfb360d789"
  },
  {
   "cell_type": "code",
   "execution_count": 56,
   "outputs": [
    {
     "data": {
      "text/plain": "0    00:00:00\n1    00:01:55\n2    00:01:58\n3    00:02:24\n4    00:02:43\nName: EPOCH_TIME, dtype: object"
     },
     "execution_count": 56,
     "metadata": {},
     "output_type": "execute_result"
    }
   ],
   "source": [
    "df['EPOCH_TIME'] = df['EPOCH_TIME'].apply(lambda t: t.split('.')[0])\n",
    "df['EPOCH_TIME'].head()"
   ],
   "metadata": {
    "collapsed": false,
    "ExecuteTime": {
     "end_time": "2024-04-11T16:02:23.608206700Z",
     "start_time": "2024-04-11T16:02:23.529362500Z"
    }
   },
   "id": "713d3589a560e306"
  },
  {
   "cell_type": "markdown",
   "source": [
    "# Build Space-Track dynamic satellite graph from 2023-12-28 to 2024-01-28"
   ],
   "metadata": {
    "collapsed": false
   },
   "id": "761364f1b0c56a76"
  },
  {
   "cell_type": "code",
   "execution_count": 115,
   "outputs": [],
   "source": [
    "def tle_to_pv(tle_line1, tle_line2, date=None, transformer=None):\n",
    "    tle = TLE(tle_line1, tle_line2)\n",
    "    propagator = TLEPropagator.selectExtrapolator(tle)\n",
    "    \n",
    "    if date is None:\n",
    "        state = propagator.getInitialState()\n",
    "    else:\n",
    "        state = propagator.propagate(date)\n",
    "        \n",
    "    if transformer is None:\n",
    "        initial_frame = state.getFrame()\n",
    "        lof = LocalOrbitalFrame(initial_frame, LOFType.QSW, propagator,str(t.getSatelliteNumber())+\"_lof\")\n",
    "        transformer = initial_frame.getTransformTo(lof, tle.getDate())\n",
    "        \n",
    "    pv = state.getPVCoordinates()\n",
    "    return transformer.transformPVCoordinates(pv), transformer"
   ],
   "metadata": {
    "collapsed": false,
    "ExecuteTime": {
     "end_time": "2024-04-11T16:13:21.595101100Z",
     "start_time": "2024-04-11T16:13:21.570884600Z"
    }
   },
   "id": "709517f98d3add10"
  },
  {
   "cell_type": "code",
   "execution_count": 116,
   "outputs": [],
   "source": [
    "def conjunction(pv1, pv2, limits):\n",
    "    distance = -1\n",
    "    (r_lim, r_weight), (it_lim, it_weight), (ct_lim, ct_weight) = limits\n",
    "    pos1 = pv1.getPosition()\n",
    "    pos2 = pv2.getPosition()\n",
    "    radial1, in_track1, cross_track1 = pos1.x, pos1.y, pos1.z \n",
    "    radial2, in_track2, cross_track2 = pos2.x, pos2.y, pos2.z\n",
    "    r_dist = math.fabs(radial1-radial2)\n",
    "    it_dist = math.fabs(in_track1-in_track2)\n",
    "    ct_dist = math.fabs(cross_track1-cross_track2)\n",
    "    \n",
    "    if r_weight*r_dist <= r_weight*r_lim or it_weight*it_dist <= it_weight*it_lim or ct_weight*ct_dist <= ct_weight*ct_lim:\n",
    "        distance = r_weight*(r_dist**2) + it_weight*(it_dist**2) + ct_weight*(ct_dist**2)\n",
    "    \n",
    "    return r_dist, it_dist, ct_dist, math.sqrt(distance) if distance >= 0 else distance"
   ],
   "metadata": {
    "collapsed": false,
    "ExecuteTime": {
     "end_time": "2024-04-11T16:13:22.044211500Z",
     "start_time": "2024-04-11T16:13:22.027477300Z"
    }
   },
   "id": "3f292406877feef7"
  },
  {
   "cell_type": "code",
   "execution_count": 117,
   "outputs": [],
   "source": [
    "def edge_exists(id1, id2, edges):\n",
    "    src_tgt_pairs = list(zip(edges['source'], edges['target']))\n",
    "    \n",
    "    exists_src_tgt = (id1, id2) in src_tgt_pairs\n",
    "    exists_tgt_src = (id2, id1) in src_tgt_pairs\n",
    "    index = -1\n",
    "    # try except with src_tgt_pairs.index((id1,id2))\n",
    "    if exists_src_tgt or exists_tgt_src:\n",
    "        index = next((i for i, src_tgt in enumerate(src_tgt_pairs) if ((id1, id2) == src_tgt) or ((id2, id1) == src_tgt)), -1)\n",
    "    \n",
    "    return index"
   ],
   "metadata": {
    "collapsed": false,
    "ExecuteTime": {
     "end_time": "2024-04-11T16:13:22.457389500Z",
     "start_time": "2024-04-11T16:13:22.442006Z"
    }
   },
   "id": "fdb29feee2d08c69"
  },
  {
   "cell_type": "code",
   "execution_count": 118,
   "outputs": [],
   "source": [
    "def total_seconds(str_time):\n",
    "    t = str_time.split(':')\n",
    "    h, m, s = int(t[0]), int(t[1]), int(t[2])\n",
    "    return (h * 3600) + (m * 60) + s"
   ],
   "metadata": {
    "collapsed": false,
    "ExecuteTime": {
     "end_time": "2024-04-11T16:13:25.349377500Z",
     "start_time": "2024-04-11T16:13:25.330597600Z"
    }
   },
   "id": "3f2f3ef3ddf1354c"
  },
  {
   "cell_type": "code",
   "execution_count": 119,
   "outputs": [],
   "source": [
    "def update_edges_data(edges_data, data, idx=None):\n",
    "    if idx is None:\n",
    "        edges_data['source'].append(data['source'])\n",
    "        edges_data['target'].append(data['target'])\n",
    "        edges_data['weight'].append(data['weight'])\n",
    "        edges_data['r_dist'].append(data['r_dist'])\n",
    "        edges_data['it_dist'].append(data['it_dist'])\n",
    "        edges_data['ct_dist'].append(data['ct_dist'])\n",
    "        edges_data['dist'].append(data['dist'])\n",
    "        edges_data['time'].append(data['time'])\n",
    "        edges_data['prop'].append(data['prop'])\n",
    "    else:\n",
    "        edges_data['weight'][idx]+=1\n",
    "        edges_data['r_dist'][idx].append(data['r_dist'])\n",
    "        edges_data['it_dist'][idx].append(data['it_dist'])\n",
    "        edges_data['ct_dist'][idx].append(data['ct_dist'])\n",
    "        edges_data['dist'][idx].append(data['dist'])\n",
    "        edges_data['time'][idx].append(data['time'])\n",
    "        edges_data['prop'][idx].append(data['prop'])"
   ],
   "metadata": {
    "collapsed": false,
    "ExecuteTime": {
     "end_time": "2024-04-11T16:13:26.001544300Z",
     "start_time": "2024-04-11T16:13:25.980031400Z"
    }
   },
   "id": "eef37cd377086a60"
  },
  {
   "cell_type": "code",
   "execution_count": 209,
   "outputs": [],
   "source": [
    "def check_conjunction(edges_data, time, prop, sat1_id, pv1_lof1, sat2_id, pv2_lof1, limits):\n",
    "    r_dist, it_dist, ct_dist, distance = conjunction(pv1_lof1, pv2_lof1, limits)\n",
    "    if distance >= 0:\n",
    "        idx = edge_exists(sat1_id, sat2_id, edges_data)\n",
    "        if idx >= 0:\n",
    "            data_update = {'r_dist':r_dist, 'it_dist':it_dist, 'ct_dist':ct_dist, 'dist':distance, 'time':time, 'prop':prop}\n",
    "            update_edges_data(edges_data, data_update, idx=idx)\n",
    "        else:\n",
    "            data_update = {'source':sat1_id, 'target': sat2_id, 'weight':1,'r_dist':[r_dist], 'it_dist':[it_dist], 'ct_dist':[ct_dist], 'dist':[distance], 'time':[time], 'prop':[prop]}\n",
    "            update_edges_data(edges_data, data_update)"
   ],
   "metadata": {
    "collapsed": false,
    "ExecuteTime": {
     "end_time": "2024-04-11T17:19:51.166064400Z",
     "start_time": "2024-04-11T17:19:51.134744800Z"
    }
   },
   "id": "7c84981dbbc5f7bf"
  },
  {
   "cell_type": "code",
   "execution_count": 349,
   "outputs": [],
   "source": [
    "def sat_data(data, sat_id, time=None):\n",
    "    satellite_data = data[data[:, 0] == sat_id]\n",
    "    idx = 0\n",
    "    if time is not None:\n",
    "        # closest timestamp to time idx\n",
    "        idx = np.argmin(np.abs(np.vectorize(total_seconds)(satellite_data[:, 3]) - total_seconds(time)))\n",
    "    return sat_id, satellite_data[idx, 1], satellite_data[idx, 2], satellite_data[idx, 3]"
   ],
   "metadata": {
    "collapsed": false,
    "ExecuteTime": {
     "end_time": "2024-04-11T17:42:27.470508200Z",
     "start_time": "2024-04-11T17:42:27.439504100Z"
    }
   },
   "id": "b98d4f7366346b59"
  },
  {
   "cell_type": "code",
   "execution_count": 350,
   "outputs": [],
   "source": [
    "def sat2_conjunctions(edges_data, time, data, sat1_id, pv1_lof1, transform1, sat2_ids, limits, prop):\n",
    "    for sat2_id in sat2_ids: \n",
    "        sat2_id, sat2_tle_line1, sat2_tle_line2, sat2_time = sat_data(data, sat2_id, time if prop else None)\n",
    "    \n",
    "        pv2_lof1, _ = tle_to_pv(sat2_tle_line1, sat2_tle_line2, date=pv1_lof1.getDate() if prop else None, transformer=transform1)\n",
    "        check_conjunction(edges_data, time, prop, sat1_id, pv1_lof1, sat2_id, pv2_lof1, limits)"
   ],
   "metadata": {
    "collapsed": false,
    "ExecuteTime": {
     "end_time": "2024-04-11T17:42:27.847639300Z",
     "start_time": "2024-04-11T17:42:27.831977500Z"
    }
   },
   "id": "a91bb5b345d919d4"
  },
  {
   "cell_type": "code",
   "execution_count": 360,
   "outputs": [],
   "source": [
    "# Check for conjunctions between satellites observed at time\n",
    "def conjunctions_at_timestamp(edges_data, sat1_data_idx, time, data, limits):\n",
    "    for idx1 in sat1_data_idx:\n",
    "        sat1_data = data[idx1]\n",
    "        sat1_id, sat1_tle_line1, sat1_tle_line2, sat1_time = sat1_data[0], sat1_data[1], sat1_data[2], sat1_data[3]\n",
    "        \n",
    "        pv1_lof1, transform1 = tle_to_pv(sat1_tle_line1, sat1_tle_line2)\n",
    "        \n",
    "        idx_idx1 = np.where(sat1_data_idx == idx1)[0][0]\n",
    "        sat2_idx = sat1_data_idx[idx_idx1+1:] if idx_idx1 < sat1_data_idx.shape[0]-1 else []\n",
    "        sat2_ids = data[sat2_idx, 0]\n",
    "\n",
    "        sat2_conjunctions(edges_data, time, data, sat1_id, pv1_lof1, transform1, sat2_ids, limits, False)\n",
    "    return edges_data"
   ],
   "metadata": {
    "collapsed": false,
    "ExecuteTime": {
     "end_time": "2024-04-11T17:48:29.601584200Z",
     "start_time": "2024-04-11T17:48:29.570282400Z"
    }
   },
   "id": "c66a8cc6c5b95b17"
  },
  {
   "cell_type": "code",
   "execution_count": 361,
   "outputs": [],
   "source": [
    "# Check for conjunctions between satellites observed at time and satellites from other timestamps of date\n",
    "def conjunctions_after_propagation(edges_data, sat1_data_idx, time, data, ids, sat1_ids, limits):\n",
    "    for idx1 in sat1_data_idx:\n",
    "        sat1_data = data[idx1]\n",
    "        sat1_id, sat1_tle_line1, sat1_tle_line2, sat1_time = sat1_data[0], sat1_data[1], sat1_data[2], sat1_data[3]\n",
    "\n",
    "        pv1_lof1, transform1 = tle_to_pv(sat1_tle_line1, sat1_tle_line2)\n",
    "        \n",
    "        sat2_ids = ids[np.isin(ids, sat1_ids, invert=True)]\n",
    "        sat2_conjunctions(edges_data, time, data, sat1_id, pv1_lof1, transform1, sat2_ids, limits, True)\n",
    "    return edges_data"
   ],
   "metadata": {
    "collapsed": false,
    "ExecuteTime": {
     "end_time": "2024-04-11T17:48:30.018971300Z",
     "start_time": "2024-04-11T17:48:29.987695600Z"
    }
   },
   "id": "2f0a0959473fb40d"
  },
  {
   "cell_type": "code",
   "execution_count": 362,
   "outputs": [],
   "source": [
    "def satellite_graph_edges(edges_data, ids, date, time, data, limits):\n",
    "    timestamp_data = data[:, 3] == time\n",
    "    sat1_data_idx = np.where(timestamp_data)[0]\n",
    "    \n",
    "    edges_data = conjunctions_at_timestamp(edges_data, sat1_data_idx, time, data, limits)\n",
    "    \n",
    "    sat1_ids = data[sat1_data_idx][:, 0]\n",
    "    \n",
    "    edges_data = conjunctions_after_propagation(edges_data, sat1_data_idx, time, data, ids, sat1_ids, limits)\n",
    "    \n",
    "    edges_data['date'] = [date] * len(edges_data['source'])\n",
    "    return edges_data"
   ],
   "metadata": {
    "collapsed": false,
    "ExecuteTime": {
     "end_time": "2024-04-11T17:48:30.364329600Z",
     "start_time": "2024-04-11T17:48:30.348669300Z"
    }
   },
   "id": "89fe7a138bca746e"
  },
  {
   "cell_type": "code",
   "execution_count": 363,
   "outputs": [],
   "source": [
    "def tle_to_edges(tle_df, dates, limits):\n",
    "    edges = {'source':[], 'target':[], 'weight':[], 'r_dist':[], 'it_dist':[], 'ct_dist':[], 'dist':[], 'date':[], 'time':[], 'prop':[]}\n",
    "    for date in tqdm(dates):\n",
    "        tle_df_date = tle_df[tle_df['EPOCH_DATE'] == date]\n",
    "        ids = tle_df_date['NORAD_CAT_ID'].unique()\n",
    "        data = tle_df_date[['NORAD_CAT_ID', 'TLE_LINE1', 'TLE_LINE2', 'EPOCH_TIME']].to_numpy()\n",
    "        timestamps = tle_df_date['EPOCH_TIME'].unique()\n",
    "        edges_data = {'source':[], 'target':[], 'weight':[], 'r_dist':[], 'it_dist':[], 'ct_dist':[], 'dist':[], 'date':[], 'time':[], 'prop':[]}\n",
    "        for time in tqdm(timestamps):\n",
    "            edges_data = satellite_graph_edges(edges_data, ids, date, time, data, limits)\n",
    "            \n",
    "        edges['source'] = edges['source'] + edges_data['source']\n",
    "        edges['target'] = edges['target'] + edges_data['target']\n",
    "        edges['weight'] = edges['weight'] + edges_data['weight']\n",
    "        edges['r_dist'] = edges['r_dist'] + edges_data['r_dist']\n",
    "        edges['it_dist'] = edges['it_dist'] + edges_data['it_dist']\n",
    "        edges['ct_dist'] = edges['ct_dist'] + edges_data['ct_dist']\n",
    "        edges['dist'] = edges['dist'] + edges_data['dist']\n",
    "        edges['date'] = edges['date'] + edges_data['date']\n",
    "        edges['time'] = edges['time'] + edges_data['time']\n",
    "        edges['prop'] = edges['prop'] + edges_data['prop']\n",
    "    return pd.DataFrame(edges)"
   ],
   "metadata": {
    "collapsed": false,
    "ExecuteTime": {
     "end_time": "2024-04-11T17:48:30.640207800Z",
     "start_time": "2024-04-11T17:48:30.624552800Z"
    }
   },
   "id": "3b75286b79f595ce"
  },
  {
   "cell_type": "code",
   "execution_count": 364,
   "outputs": [
    {
     "data": {
      "text/plain": "array(['2023-12-28'], dtype=object)"
     },
     "execution_count": 364,
     "metadata": {},
     "output_type": "execute_result"
    }
   ],
   "source": [
    "dates = df['EPOCH_DATE'].unique()\n",
    "dates"
   ],
   "metadata": {
    "collapsed": false,
    "ExecuteTime": {
     "end_time": "2024-04-11T17:48:30.929427200Z",
     "start_time": "2024-04-11T17:48:30.913421200Z"
    }
   },
   "id": "dc495178cfd50c3e"
  },
  {
   "cell_type": "code",
   "execution_count": 365,
   "outputs": [],
   "source": [
    "def to_m(km):\n",
    "    return km * 1000"
   ],
   "metadata": {
    "collapsed": false,
    "ExecuteTime": {
     "end_time": "2024-04-11T17:48:31.249355400Z",
     "start_time": "2024-04-11T17:48:31.218024200Z"
    }
   },
   "id": "30285c770daf707a"
  },
  {
   "cell_type": "code",
   "execution_count": 366,
   "outputs": [],
   "source": [
    "leo1_limits = (0.4, 44, 51) \n",
    "leo2_limits = (0.4, 25, 25)\n",
    "leo3_limits = (0.4, 12, 12)\n",
    "leo4_limits = (0.4, 2, 2)"
   ],
   "metadata": {
    "collapsed": false,
    "ExecuteTime": {
     "end_time": "2024-04-11T17:48:31.643216400Z",
     "start_time": "2024-04-11T17:48:31.627590200Z"
    }
   },
   "id": "2057216ede0ea21b"
  },
  {
   "cell_type": "code",
   "execution_count": 367,
   "outputs": [
    {
     "data": {
      "text/plain": "  0%|          | 0/1 [00:00<?, ?it/s]",
      "application/vnd.jupyter.widget-view+json": {
       "version_major": 2,
       "version_minor": 0,
       "model_id": "52eb68a7402c4fc7858c7db750d9d20f"
      }
     },
     "metadata": {},
     "output_type": "display_data"
    },
    {
     "data": {
      "text/plain": "  0%|          | 0/98 [00:00<?, ?it/s]",
      "application/vnd.jupyter.widget-view+json": {
       "version_major": 2,
       "version_minor": 0,
       "model_id": "baaf9977efea454782aea1da408ef17e"
      }
     },
     "metadata": {},
     "output_type": "display_data"
    },
    {
     "data": {
      "text/plain": "   source  target  weight                                    r_dist  \\\n0   58063   25403       1                       [8272396.474554408]   \n1   58063   51881       1                      [1812052.1585625857]   \n2   58063   52603       1                       [5669566.660333483]   \n3   45739   53982       2  [210945.99666316714, 197783.10838391283]   \n4   45739   43073       1                      [11628060.816076959]   \n\n                                  it_dist  \\\n0                    [50.742606117390096]   \n1                     [4655556.537659448]   \n2                     [16240.69561928697]   \n3  [8040.341389375739, 4993.024602268124]   \n4                     [6380.830997496843]   \n\n                                   ct_dist  \\\n0                      [7324950.436896488]   \n1                      [35257.95526932902]   \n2                      [6807025.431088046]   \n3  [1670487.782854712, 1668337.2989635281]   \n4                      [5402891.381673055]   \n\n                                       dist        date                  time  \\\n0                      [11049318.636811279]  2023-12-28            [00:00:00]   \n1                       [4995896.598620185]  2023-12-28            [00:00:00]   \n2                       [8858885.093263065]  2023-12-28            [00:00:00]   \n3  [1683773.2309502745, 1680027.5091109676]  2023-12-28  [00:01:55, 00:04:40]   \n4                      [12821976.225978019]  2023-12-28            [00:01:55]   \n\n           prop  \n0        [True]  \n1        [True]  \n2        [True]  \n3  [True, True]  \n4        [True]  ",
      "text/html": "<div>\n<style scoped>\n    .dataframe tbody tr th:only-of-type {\n        vertical-align: middle;\n    }\n\n    .dataframe tbody tr th {\n        vertical-align: top;\n    }\n\n    .dataframe thead th {\n        text-align: right;\n    }\n</style>\n<table border=\"1\" class=\"dataframe\">\n  <thead>\n    <tr style=\"text-align: right;\">\n      <th></th>\n      <th>source</th>\n      <th>target</th>\n      <th>weight</th>\n      <th>r_dist</th>\n      <th>it_dist</th>\n      <th>ct_dist</th>\n      <th>dist</th>\n      <th>date</th>\n      <th>time</th>\n      <th>prop</th>\n    </tr>\n  </thead>\n  <tbody>\n    <tr>\n      <th>0</th>\n      <td>58063</td>\n      <td>25403</td>\n      <td>1</td>\n      <td>[8272396.474554408]</td>\n      <td>[50.742606117390096]</td>\n      <td>[7324950.436896488]</td>\n      <td>[11049318.636811279]</td>\n      <td>2023-12-28</td>\n      <td>[00:00:00]</td>\n      <td>[True]</td>\n    </tr>\n    <tr>\n      <th>1</th>\n      <td>58063</td>\n      <td>51881</td>\n      <td>1</td>\n      <td>[1812052.1585625857]</td>\n      <td>[4655556.537659448]</td>\n      <td>[35257.95526932902]</td>\n      <td>[4995896.598620185]</td>\n      <td>2023-12-28</td>\n      <td>[00:00:00]</td>\n      <td>[True]</td>\n    </tr>\n    <tr>\n      <th>2</th>\n      <td>58063</td>\n      <td>52603</td>\n      <td>1</td>\n      <td>[5669566.660333483]</td>\n      <td>[16240.69561928697]</td>\n      <td>[6807025.431088046]</td>\n      <td>[8858885.093263065]</td>\n      <td>2023-12-28</td>\n      <td>[00:00:00]</td>\n      <td>[True]</td>\n    </tr>\n    <tr>\n      <th>3</th>\n      <td>45739</td>\n      <td>53982</td>\n      <td>2</td>\n      <td>[210945.99666316714, 197783.10838391283]</td>\n      <td>[8040.341389375739, 4993.024602268124]</td>\n      <td>[1670487.782854712, 1668337.2989635281]</td>\n      <td>[1683773.2309502745, 1680027.5091109676]</td>\n      <td>2023-12-28</td>\n      <td>[00:01:55, 00:04:40]</td>\n      <td>[True, True]</td>\n    </tr>\n    <tr>\n      <th>4</th>\n      <td>45739</td>\n      <td>43073</td>\n      <td>1</td>\n      <td>[11628060.816076959]</td>\n      <td>[6380.830997496843]</td>\n      <td>[5402891.381673055]</td>\n      <td>[12821976.225978019]</td>\n      <td>2023-12-28</td>\n      <td>[00:01:55]</td>\n      <td>[True]</td>\n    </tr>\n  </tbody>\n</table>\n</div>"
     },
     "execution_count": 367,
     "metadata": {},
     "output_type": "execute_result"
    }
   ],
   "source": [
    "limit_weights = (1.0, 1.0, 1.0)\n",
    "limits = tuple(map(to_m, leo1_limits))\n",
    "edges_df = tle_to_edges(df, dates, tuple(zip(limits, limit_weights)))\n",
    "edges_df.head()"
   ],
   "metadata": {
    "collapsed": false,
    "ExecuteTime": {
     "end_time": "2024-04-11T17:48:33.418361900Z",
     "start_time": "2024-04-11T17:48:32.028271800Z"
    }
   },
   "id": "a48374214523cc25"
  },
  {
   "cell_type": "code",
   "execution_count": 368,
   "outputs": [
    {
     "data": {
      "text/plain": "count    188.000000\nmean       1.287234\nstd        0.453680\nmin        1.000000\n25%        1.000000\n50%        1.000000\n75%        2.000000\nmax        2.000000\nName: weight, dtype: float64"
     },
     "execution_count": 368,
     "metadata": {},
     "output_type": "execute_result"
    }
   ],
   "source": [
    "edges_df['weight'].describe()"
   ],
   "metadata": {
    "collapsed": false,
    "ExecuteTime": {
     "end_time": "2024-04-11T17:48:34.622390500Z",
     "start_time": "2024-04-11T17:48:34.590392100Z"
    }
   },
   "id": "4535149243a3f090"
  },
  {
   "cell_type": "code",
   "execution_count": 369,
   "outputs": [
    {
     "name": "stdout",
     "output_type": "stream",
     "text": [
      "Total number of unique nodes: 101\n",
      "Number of unique source nodes: 87\n",
      "Number of unique target nodes: 80\n",
      "Number of unique source and target nodes: 68\n",
      "Number of edges: 188\n",
      "Graph density: 0.02\n"
     ]
    }
   ],
   "source": [
    "src_nodes = edges_df['source'].unique()\n",
    "src_nodes.sort()\n",
    "\n",
    "tgt_nodes = edges_df['target'].unique()\n",
    "tgt_nodes.sort()\n",
    "\n",
    "num_common_nodes = np.intersect1d(src_nodes, tgt_nodes).shape[0]\n",
    "num_total_nodes = num_common_nodes + (src_nodes.shape[0] - num_common_nodes) + (tgt_nodes.shape[0] - num_common_nodes)\n",
    "\n",
    "print(f'Total number of unique nodes: {df[\"NORAD_CAT_ID\"].unique().shape[0]}')\n",
    "print(f'Number of unique source nodes: {src_nodes.shape[0]}')\n",
    "print(f'Number of unique target nodes: {tgt_nodes.shape[0]}')\n",
    "print(f'Number of unique source and target nodes: {num_common_nodes}')\n",
    "print(f'Number of edges: {edges_df.shape[0]}')\n",
    "print(f'Graph density: {edges_df.shape[0] / (num_total_nodes*(num_total_nodes-1)):.2f}')"
   ],
   "metadata": {
    "collapsed": false,
    "ExecuteTime": {
     "end_time": "2024-04-11T17:48:36.521135400Z",
     "start_time": "2024-04-11T17:48:36.503645100Z"
    }
   },
   "id": "7c432b40134360d5"
  },
  {
   "cell_type": "code",
   "execution_count": null,
   "outputs": [],
   "source": [
    "if reduced:\n",
    "    savepath = f\"../datasets/space-track-ap1-graph-edges-reduced-{int(frac*100)}.csv\"\n",
    "elif reduced_sample_alt_e:\n",
    "    savepath = f\"../datasets/space-track-ap1-graph-edges-reduced-{int(frac*100)}-h-{min_alt}-{max_alt}-e-{int(e_thres*100)}.csv\"\n",
    "else:\n",
    "    savepath = '../datasets/space-track-ap1-graph-edges.csv'\n",
    "edges_df.to_csv(savepath, index=False)"
   ],
   "metadata": {
    "collapsed": false
   },
   "id": "baabf4064e822b8a"
  }
 ],
 "metadata": {
  "kernelspec": {
   "display_name": "Python 3",
   "language": "python",
   "name": "python3"
  },
  "language_info": {
   "codemirror_mode": {
    "name": "ipython",
    "version": 2
   },
   "file_extension": ".py",
   "mimetype": "text/x-python",
   "name": "python",
   "nbconvert_exporter": "python",
   "pygments_lexer": "ipython2",
   "version": "2.7.6"
  }
 },
 "nbformat": 4,
 "nbformat_minor": 5
}
