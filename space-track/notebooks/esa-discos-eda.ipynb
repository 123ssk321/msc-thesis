{
 "cells": [
  {
   "cell_type": "markdown",
   "source": [
    "# Import libraries and functions"
   ],
   "metadata": {
    "collapsed": false
   },
   "id": "9cf0aa7207313f23"
  },
  {
   "cell_type": "code",
   "execution_count": 9,
   "outputs": [],
   "source": [
    "import pandas as pd\n",
    "import numpy as np"
   ],
   "metadata": {
    "collapsed": false,
    "ExecuteTime": {
     "end_time": "2024-04-15T15:55:43.816304500Z",
     "start_time": "2024-04-15T15:55:43.784538700Z"
    }
   },
   "id": "bdca1b705ec526a2"
  },
  {
   "cell_type": "markdown",
   "source": [
    "# Load ESA DISCOS satellite dataset"
   ],
   "metadata": {
    "collapsed": false
   },
   "id": "728c91a3c54eb819"
  },
  {
   "cell_type": "code",
   "execution_count": 16,
   "outputs": [
    {
     "data": {
      "text/plain": "   span  depth  xSectMax                  objectClass     shape   mass  \\\n0   NaN    NaN       NaN  Rocket Fragmentation Debris       NaN    NaN   \n1  0.80    0.8  1.108513                      Payload      Poly  49.55   \n2  1.50    NaN  0.775276                  Rocket Body       Cyl  60.00   \n3   NaN    NaN       NaN  Rocket Fragmentation Debris       NaN    NaN   \n4  1.02    0.4  0.533667                      Payload  Hex Poly    NaN   \n\n   diameter  xSectMin  width                 mission  ...  predDecayDate  \\\n0       NaN       NaN    NaN                     NaN  ...     2092-01-08   \n1       NaN  0.502655    0.8  Defense Communications  ...     7449-06-08   \n2       0.5  0.196350    NaN                     NaN  ...     9999-12-31   \n3       NaN       NaN    NaN                     NaN  ...     9649-03-09   \n4       NaN  0.125664    0.4          Defense Sigint  ...     2344-12-06   \n\n  cataloguedFragments satno  height  xSectAvg  firstEpoch  active  \\\n0                   0   739     NaN       NaN  1963-11-27     NaN   \n1                   0  1585     0.8  0.731327  1965-09-18     NaN   \n2                   0  1729     1.5  0.687223  1965-11-06     NaN   \n3                   0  7148     NaN       NaN  1973-12-28     NaN   \n4                   0  8835     0.9  0.338909  1976-04-30     NaN   \n\n                                         name onOrbitCataloguedFragments  \\\n0  Atlas LV-3C Centaur D fragmentation debris                          0   \n1                                   Cosmos-87                          0   \n2                             FW-4D (Delta E)                          0   \n3              Delta 300 fragmentation debris                          0   \n4                                       SSU-1                          0   \n\n  constellationDiscosID  \n0                   NaN  \n1                   NaN  \n2                   NaN  \n3                   NaN  \n4                   NaN  \n\n[5 rows x 22 columns]",
      "text/html": "<div>\n<style scoped>\n    .dataframe tbody tr th:only-of-type {\n        vertical-align: middle;\n    }\n\n    .dataframe tbody tr th {\n        vertical-align: top;\n    }\n\n    .dataframe thead th {\n        text-align: right;\n    }\n</style>\n<table border=\"1\" class=\"dataframe\">\n  <thead>\n    <tr style=\"text-align: right;\">\n      <th></th>\n      <th>span</th>\n      <th>depth</th>\n      <th>xSectMax</th>\n      <th>objectClass</th>\n      <th>shape</th>\n      <th>mass</th>\n      <th>diameter</th>\n      <th>xSectMin</th>\n      <th>width</th>\n      <th>mission</th>\n      <th>...</th>\n      <th>predDecayDate</th>\n      <th>cataloguedFragments</th>\n      <th>satno</th>\n      <th>height</th>\n      <th>xSectAvg</th>\n      <th>firstEpoch</th>\n      <th>active</th>\n      <th>name</th>\n      <th>onOrbitCataloguedFragments</th>\n      <th>constellationDiscosID</th>\n    </tr>\n  </thead>\n  <tbody>\n    <tr>\n      <th>0</th>\n      <td>NaN</td>\n      <td>NaN</td>\n      <td>NaN</td>\n      <td>Rocket Fragmentation Debris</td>\n      <td>NaN</td>\n      <td>NaN</td>\n      <td>NaN</td>\n      <td>NaN</td>\n      <td>NaN</td>\n      <td>NaN</td>\n      <td>...</td>\n      <td>2092-01-08</td>\n      <td>0</td>\n      <td>739</td>\n      <td>NaN</td>\n      <td>NaN</td>\n      <td>1963-11-27</td>\n      <td>NaN</td>\n      <td>Atlas LV-3C Centaur D fragmentation debris</td>\n      <td>0</td>\n      <td>NaN</td>\n    </tr>\n    <tr>\n      <th>1</th>\n      <td>0.80</td>\n      <td>0.8</td>\n      <td>1.108513</td>\n      <td>Payload</td>\n      <td>Poly</td>\n      <td>49.55</td>\n      <td>NaN</td>\n      <td>0.502655</td>\n      <td>0.8</td>\n      <td>Defense Communications</td>\n      <td>...</td>\n      <td>7449-06-08</td>\n      <td>0</td>\n      <td>1585</td>\n      <td>0.8</td>\n      <td>0.731327</td>\n      <td>1965-09-18</td>\n      <td>NaN</td>\n      <td>Cosmos-87</td>\n      <td>0</td>\n      <td>NaN</td>\n    </tr>\n    <tr>\n      <th>2</th>\n      <td>1.50</td>\n      <td>NaN</td>\n      <td>0.775276</td>\n      <td>Rocket Body</td>\n      <td>Cyl</td>\n      <td>60.00</td>\n      <td>0.5</td>\n      <td>0.196350</td>\n      <td>NaN</td>\n      <td>NaN</td>\n      <td>...</td>\n      <td>9999-12-31</td>\n      <td>0</td>\n      <td>1729</td>\n      <td>1.5</td>\n      <td>0.687223</td>\n      <td>1965-11-06</td>\n      <td>NaN</td>\n      <td>FW-4D (Delta E)</td>\n      <td>0</td>\n      <td>NaN</td>\n    </tr>\n    <tr>\n      <th>3</th>\n      <td>NaN</td>\n      <td>NaN</td>\n      <td>NaN</td>\n      <td>Rocket Fragmentation Debris</td>\n      <td>NaN</td>\n      <td>NaN</td>\n      <td>NaN</td>\n      <td>NaN</td>\n      <td>NaN</td>\n      <td>NaN</td>\n      <td>...</td>\n      <td>9649-03-09</td>\n      <td>0</td>\n      <td>7148</td>\n      <td>NaN</td>\n      <td>NaN</td>\n      <td>1973-12-28</td>\n      <td>NaN</td>\n      <td>Delta 300 fragmentation debris</td>\n      <td>0</td>\n      <td>NaN</td>\n    </tr>\n    <tr>\n      <th>4</th>\n      <td>1.02</td>\n      <td>0.4</td>\n      <td>0.533667</td>\n      <td>Payload</td>\n      <td>Hex Poly</td>\n      <td>NaN</td>\n      <td>NaN</td>\n      <td>0.125664</td>\n      <td>0.4</td>\n      <td>Defense Sigint</td>\n      <td>...</td>\n      <td>2344-12-06</td>\n      <td>0</td>\n      <td>8835</td>\n      <td>0.9</td>\n      <td>0.338909</td>\n      <td>1976-04-30</td>\n      <td>NaN</td>\n      <td>SSU-1</td>\n      <td>0</td>\n      <td>NaN</td>\n    </tr>\n  </tbody>\n</table>\n<p>5 rows × 22 columns</p>\n</div>"
     },
     "execution_count": 16,
     "metadata": {},
     "output_type": "execute_result"
    }
   ],
   "source": [
    "sat_df = pd.read_csv('../datasets/esa-discos-satellite-data.csv', memory_map=True)\n",
    "sat_df.head()"
   ],
   "metadata": {
    "collapsed": false,
    "ExecuteTime": {
     "end_time": "2024-04-15T16:00:17.062329Z",
     "start_time": "2024-04-15T16:00:16.986464900Z"
    }
   },
   "id": "c1a6597da6223bfe"
  },
  {
   "cell_type": "code",
   "execution_count": 26,
   "outputs": [
    {
     "data": {
      "text/plain": "array([ nan,   6.,  17., 251., 254., 250., 253., 255., 252., 256.,   3.,\n         4., 258., 257.,   7.,  12.,   5., 266., 259.,  11.,  21.,  22.,\n        20.,  23.,  18.,  19., 265.,  16.])"
     },
     "execution_count": 26,
     "metadata": {},
     "output_type": "execute_result"
    }
   ],
   "source": [
    "sat_df['constellationDiscosID'].unique()"
   ],
   "metadata": {
    "collapsed": false,
    "ExecuteTime": {
     "end_time": "2024-04-15T16:40:04.622019700Z",
     "start_time": "2024-04-15T16:40:04.606386700Z"
    }
   },
   "id": "97c9468fdef8a72c"
  },
  {
   "cell_type": "markdown",
   "source": [
    "## Check for satellites missing in ESA DISCOS dataset"
   ],
   "metadata": {
    "collapsed": false
   },
   "id": "de7dfdf025f916ad"
  },
  {
   "cell_type": "code",
   "execution_count": 17,
   "outputs": [
    {
     "data": {
      "text/plain": "   NORAD_CAT_ID\n0         45102\n1         56899\n2         58063\n3         58515\n4         17725",
      "text/html": "<div>\n<style scoped>\n    .dataframe tbody tr th:only-of-type {\n        vertical-align: middle;\n    }\n\n    .dataframe tbody tr th {\n        vertical-align: top;\n    }\n\n    .dataframe thead th {\n        text-align: right;\n    }\n</style>\n<table border=\"1\" class=\"dataframe\">\n  <thead>\n    <tr style=\"text-align: right;\">\n      <th></th>\n      <th>NORAD_CAT_ID</th>\n    </tr>\n  </thead>\n  <tbody>\n    <tr>\n      <th>0</th>\n      <td>45102</td>\n    </tr>\n    <tr>\n      <th>1</th>\n      <td>56899</td>\n    </tr>\n    <tr>\n      <th>2</th>\n      <td>58063</td>\n    </tr>\n    <tr>\n      <th>3</th>\n      <td>58515</td>\n    </tr>\n    <tr>\n      <th>4</th>\n      <td>17725</td>\n    </tr>\n  </tbody>\n</table>\n</div>"
     },
     "execution_count": 17,
     "metadata": {},
     "output_type": "execute_result"
    }
   ],
   "source": [
    "st_df = pd.read_csv('../datasets/space-track-dataset.csv', usecols=['NORAD_CAT_ID'], memory_map=True)\n",
    "st_df.head()"
   ],
   "metadata": {
    "collapsed": false,
    "ExecuteTime": {
     "end_time": "2024-04-15T16:00:27.772092800Z",
     "start_time": "2024-04-15T16:00:25.844811200Z"
    }
   },
   "id": "585f6384fc170d34"
  },
  {
   "cell_type": "code",
   "execution_count": 21,
   "outputs": [
    {
     "name": "stdout",
     "output_type": "stream",
     "text": [
      "Elements from ESA DISCOS dataset missing in Space-Track dataset:[]\n",
      "Elements from Space-Track dataset missing in ESA DISCOS dataset:[58817]\n",
      "Elements not common in both arrays:[58817]\n"
     ]
    }
   ],
   "source": [
    "A = sat_df['satno'].unique()\n",
    "B = st_df['NORAD_CAT_ID'].unique()\n",
    "\n",
    "not_common_in_A = np.setdiff1d(A, B)\n",
    "not_common_in_B = np.setdiff1d(B, A)\n",
    "\n",
    "not_common = np.concatenate((not_common_in_A, not_common_in_B))\n",
    "print(f\"Elements from ESA DISCOS dataset missing in Space-Track dataset:{not_common_in_A}\")\n",
    "print(f\"Elements from Space-Track dataset missing in ESA DISCOS dataset:{not_common_in_B}\")\n",
    "print(f\"Elements not common in both arrays:{not_common}\")"
   ],
   "metadata": {
    "collapsed": false,
    "ExecuteTime": {
     "end_time": "2024-04-15T16:03:24.973183800Z",
     "start_time": "2024-04-15T16:03:24.910652Z"
    }
   },
   "id": "b0af4be218d28fd0"
  },
  {
   "cell_type": "markdown",
   "source": [
    "# Load ESA DISCOS constellation dataset"
   ],
   "metadata": {
    "collapsed": false
   },
   "id": "442f5d27bb3d1f9a"
  },
  {
   "cell_type": "code",
   "execution_count": 35,
   "outputs": [
    {
     "name": "stdout",
     "output_type": "stream",
     "text": [
      "Number of lines: 27\n"
     ]
    },
    {
     "data": {
      "text/plain": "      area  operEcc     operEnd  objectNumber  operLifetime     designName  \\\n0   5.5869   0.0001  2014-10-20            48           7.5  Globalstar-G1   \n1  21.2455   0.0001  2300-01-01            24          15.0  Globalstar-G2   \n2   1.7804   0.0001  2300-01-01            12           5.0         Gonets   \n3  13.9061   0.0001  2300-01-01            66          15.0   Iridium-NEXT   \n4   2.1917   0.0001  2300-01-01           648          10.0         OneWeb   \n\n    cola  operInc    operSma  scPerLaunch  annualReplenishLaunches  \\\n0   True    52.00  7800000.0            4                      0.0   \n1   True    52.00  7800000.0            5                      NaN   \n2  False    82.58  7790000.0            3                      NaN   \n3   True    86.40  7158000.0            9                      NaN   \n4   True    87.90  7578000.0           33                      NaN   \n\n  deployStart     mass   operStart  numberPlanes  annualDeploymentLaunches  \\\n0  1998-02-14  715.000  1999-10-01             8                      4.33   \n1  2010-10-19  715.000  2013-02-06             8                      0.38   \n2  1992-07-13  240.278  2015-03-01             6                      0.42   \n3  2017-01-01  860.000  2017-01-01             6                      1.29   \n4  2019-02-27  148.000  2023-06-01            12                      3.17   \n\n                  status propulsionSystem  discosID  \n0         decommissioned         chemical         3  \n1      fully operational         chemical         4  \n2      fully operational             none         5  \n3      fully operational         chemical         6  \n4  partially operational       electrical         7  ",
      "text/html": "<div>\n<style scoped>\n    .dataframe tbody tr th:only-of-type {\n        vertical-align: middle;\n    }\n\n    .dataframe tbody tr th {\n        vertical-align: top;\n    }\n\n    .dataframe thead th {\n        text-align: right;\n    }\n</style>\n<table border=\"1\" class=\"dataframe\">\n  <thead>\n    <tr style=\"text-align: right;\">\n      <th></th>\n      <th>area</th>\n      <th>operEcc</th>\n      <th>operEnd</th>\n      <th>objectNumber</th>\n      <th>operLifetime</th>\n      <th>designName</th>\n      <th>cola</th>\n      <th>operInc</th>\n      <th>operSma</th>\n      <th>scPerLaunch</th>\n      <th>annualReplenishLaunches</th>\n      <th>deployStart</th>\n      <th>mass</th>\n      <th>operStart</th>\n      <th>numberPlanes</th>\n      <th>annualDeploymentLaunches</th>\n      <th>status</th>\n      <th>propulsionSystem</th>\n      <th>discosID</th>\n    </tr>\n  </thead>\n  <tbody>\n    <tr>\n      <th>0</th>\n      <td>5.5869</td>\n      <td>0.0001</td>\n      <td>2014-10-20</td>\n      <td>48</td>\n      <td>7.5</td>\n      <td>Globalstar-G1</td>\n      <td>True</td>\n      <td>52.00</td>\n      <td>7800000.0</td>\n      <td>4</td>\n      <td>0.0</td>\n      <td>1998-02-14</td>\n      <td>715.000</td>\n      <td>1999-10-01</td>\n      <td>8</td>\n      <td>4.33</td>\n      <td>decommissioned</td>\n      <td>chemical</td>\n      <td>3</td>\n    </tr>\n    <tr>\n      <th>1</th>\n      <td>21.2455</td>\n      <td>0.0001</td>\n      <td>2300-01-01</td>\n      <td>24</td>\n      <td>15.0</td>\n      <td>Globalstar-G2</td>\n      <td>True</td>\n      <td>52.00</td>\n      <td>7800000.0</td>\n      <td>5</td>\n      <td>NaN</td>\n      <td>2010-10-19</td>\n      <td>715.000</td>\n      <td>2013-02-06</td>\n      <td>8</td>\n      <td>0.38</td>\n      <td>fully operational</td>\n      <td>chemical</td>\n      <td>4</td>\n    </tr>\n    <tr>\n      <th>2</th>\n      <td>1.7804</td>\n      <td>0.0001</td>\n      <td>2300-01-01</td>\n      <td>12</td>\n      <td>5.0</td>\n      <td>Gonets</td>\n      <td>False</td>\n      <td>82.58</td>\n      <td>7790000.0</td>\n      <td>3</td>\n      <td>NaN</td>\n      <td>1992-07-13</td>\n      <td>240.278</td>\n      <td>2015-03-01</td>\n      <td>6</td>\n      <td>0.42</td>\n      <td>fully operational</td>\n      <td>none</td>\n      <td>5</td>\n    </tr>\n    <tr>\n      <th>3</th>\n      <td>13.9061</td>\n      <td>0.0001</td>\n      <td>2300-01-01</td>\n      <td>66</td>\n      <td>15.0</td>\n      <td>Iridium-NEXT</td>\n      <td>True</td>\n      <td>86.40</td>\n      <td>7158000.0</td>\n      <td>9</td>\n      <td>NaN</td>\n      <td>2017-01-01</td>\n      <td>860.000</td>\n      <td>2017-01-01</td>\n      <td>6</td>\n      <td>1.29</td>\n      <td>fully operational</td>\n      <td>chemical</td>\n      <td>6</td>\n    </tr>\n    <tr>\n      <th>4</th>\n      <td>2.1917</td>\n      <td>0.0001</td>\n      <td>2300-01-01</td>\n      <td>648</td>\n      <td>10.0</td>\n      <td>OneWeb</td>\n      <td>True</td>\n      <td>87.90</td>\n      <td>7578000.0</td>\n      <td>33</td>\n      <td>NaN</td>\n      <td>2019-02-27</td>\n      <td>148.000</td>\n      <td>2023-06-01</td>\n      <td>12</td>\n      <td>3.17</td>\n      <td>partially operational</td>\n      <td>electrical</td>\n      <td>7</td>\n    </tr>\n  </tbody>\n</table>\n</div>"
     },
     "execution_count": 35,
     "metadata": {},
     "output_type": "execute_result"
    }
   ],
   "source": [
    "constell_df = pd.read_csv('../datasets/esa-discos-constellation-data.csv', memory_map=True).sort_values(by=['discosID'])\n",
    "print(f'Number of lines: {constell_df.shape[0]}')\n",
    "constell_df.head()"
   ],
   "metadata": {
    "collapsed": false,
    "ExecuteTime": {
     "end_time": "2024-04-15T17:15:29.711482400Z",
     "start_time": "2024-04-15T17:15:29.666182800Z"
    }
   },
   "id": "87091d02b8638ad3"
  }
 ],
 "metadata": {
  "kernelspec": {
   "display_name": "Python 3",
   "language": "python",
   "name": "python3"
  },
  "language_info": {
   "codemirror_mode": {
    "name": "ipython",
    "version": 2
   },
   "file_extension": ".py",
   "mimetype": "text/x-python",
   "name": "python",
   "nbconvert_exporter": "python",
   "pygments_lexer": "ipython2",
   "version": "2.7.6"
  }
 },
 "nbformat": 4,
 "nbformat_minor": 5
}
