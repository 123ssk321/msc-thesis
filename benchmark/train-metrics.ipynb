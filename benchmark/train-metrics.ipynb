{
 "cells": [
  {
   "cell_type": "code",
   "execution_count": null,
   "id": "initial_id",
   "metadata": {
    "collapsed": true
   },
   "outputs": [],
   "source": [
    "%load_ext autoreload\n",
    "%autoreload 2"
   ]
  },
  {
   "cell_type": "markdown",
   "id": "9f3be82ffd5ab18",
   "metadata": {},
   "source": [
    "# Importing Libraries"
   ]
  },
  {
   "cell_type": "code",
   "execution_count": null,
   "id": "8c6185d82234ba59",
   "metadata": {},
   "outputs": [],
   "source": [
    "import pandas as pd\n",
    "from data_store import nc_datasets, gc_datasets, lp_datasets\n",
    "from tabulate import tabulate\n",
    "import numpy as np\n",
    "import matplotlib.pyplot as plt\n",
    "import matplotlib as mpl\n",
    "import seaborn as sns"
   ]
  },
  {
   "cell_type": "code",
   "execution_count": null,
   "id": "6cbbab2a0b0fe10f",
   "metadata": {},
   "outputs": [],
   "source": [
    "plt.rcdefaults()"
   ]
  },
  {
   "cell_type": "code",
   "execution_count": null,
   "id": "570752d182a5ef8f",
   "metadata": {},
   "outputs": [],
   "source": [
    "mpl.rcParams['figure.dpi'] = 300\n",
    "# mpl.rcParams['text.usetex'] = True\n",
    "# mpl.rcParams['font.family'] = 'serif'\n",
    "# mpl.rcParams['font.serif'] = ['Computer Modern']\n",
    "# mpl.rcParams['text.latex.preamble'] = '\\\\usepackage{amsmath}\\\\usepackage{amssymb}'\n",
    "# mpl.rcParams['font.size'] = 11\n",
    "# mpl.rcParams['lines.linewidth'] = 2\n",
    "# mpl.rcParams['lines.markersize'] = 6\n",
    "# mpl.rcParams['grid.linestyle'] = '--'\n",
    "# mpl.rcParams['grid.linewidth'] = 0.5\n",
    "# mpl.rcParams['axes.grid'] = True"
   ]
  },
  {
   "cell_type": "code",
   "execution_count": null,
   "id": "610f1ff9fcb568d7",
   "metadata": {},
   "outputs": [],
   "source": [
    "def get_figsize(columnwidth, wf=0.5, hf=(5.**0.5-1.0)/2.0, ):\n",
    "    \"\"\"Parameters:\n",
    "      - wf [float]:  width fraction in columnwidth units\n",
    "      - hf [float]:  height fraction in columnwidth units.\n",
    "                     Set by default to golden ratio.\n",
    "      - columnwidth [float]: width of the column in latex. Get this from LaTeX \n",
    "                             using \\showthe\\columnwidth\n",
    "    Returns:  [fig_width,fig_height]: that should be given to matplotlib\n",
    "    \"\"\"\n",
    "    fig_width_pt = columnwidth*wf \n",
    "    inches_per_pt = 1.0/72.27               # Convert pt to inch\n",
    "    fig_width = fig_width_pt*inches_per_pt  # width in inches\n",
    "    \n",
    "    fig_height = fig_width*hf      # height in inches\n",
    "    return [fig_width, fig_height]\n",
    "\n",
    "column_width = 426.0  # Column width (pt) in LaTeX\n",
    "fig_size = get_figsize(column_width, wf=0.6, hf=1.0)\n",
    "fig_size"
   ]
  },
  {
   "cell_type": "code",
   "execution_count": null,
   "id": "602ae1c39919e89e",
   "metadata": {},
   "outputs": [],
   "source": [
    "models = ['gcn', 'graphsage', 'gat', 'gin']\n",
    "metrics = ['loss', 'accuracy', 'f1', 'precision', 'recall']\n",
    "tasks = ['nc', 'gc', 'lp']\n",
    "log_dir = 'logs'\n",
    "stds = ['00', '01', '02', '03', '04', '05', '06', '07', '08', '09', '10']\n",
    "std= stds[1]\n",
    "sns.set_style(\"whitegrid\")\n",
    "paired_colors = sns.color_palette(\"Paired\", n_colors=2 * len(models))\n",
    "model_colors = {model: (paired_colors[i * 2], paired_colors[i * 2 + 1]) for i, model in enumerate(models)}"
   ]
  },
  {
   "cell_type": "code",
   "execution_count": null,
   "id": "d9d2ca6aef2d1bb4",
   "metadata": {},
   "outputs": [],
   "source": [
    "def plot_metrics(metrics, model_metrics_df, dataset, save=False, max_epoch=None):\n",
    "    \n",
    "    for metric in metrics:\n",
    "        plt.figure(figsize=fig_size)  # Create a new figure for each metric\n",
    "        \n",
    "        for model_name, df in model_metrics_df.items():\n",
    "            train_metric = df[f\"train_{metric}\"].dropna().reset_index(drop=True)\n",
    "            val_metric = df[f\"val_{metric}\"].dropna().reset_index(drop=True)\n",
    "            epochs = df[\"epoch\"].drop_duplicates().reset_index(drop=True)\n",
    "            max_epoch = len(epochs) if max_epoch is None else max_epoch\n",
    "            sns.lineplot(x=epochs[:max_epoch], y=train_metric[:max_epoch], label=f\"{model_name} train\", linestyle=\"solid\", color=model_colors[model_name][0])\n",
    "            # Plot validation metric\n",
    "            sns.lineplot(x=epochs[:max_epoch], y=val_metric[:max_epoch], label=f\"{model_name} val\", linestyle=\"dashed\", color=model_colors[model_name][1])\n",
    "    \n",
    "        #plt.title(f\"{metric.capitalize()}\", fontsize=14)\n",
    "        plt.xlabel(\"Epochs\")\n",
    "        plt.ylabel(metric.capitalize())\n",
    "        #plt.ylabel('')\n",
    "        plt.tight_layout()\n",
    "        if save:\n",
    "            plt.savefig(f'trainfig/{dataset}_{metric}.pdf', format='pdf')\n",
    "        plt.show()  # Show each figure separately\n",
    "        \n",
    "def print_test_metrics_table(model_metrics):\n",
    "    \"\"\"\n",
    "    Prints a table of test metrics for each model.\n",
    "    \n",
    "    Parameters:\n",
    "        model_metrics (dict): Dictionary where keys are model names and \n",
    "                              values are dataframes with test metrics.\n",
    "    \"\"\"\n",
    "    # Extract the last row (final test metrics) for each model\n",
    "    table_data = []\n",
    "    for model_name, df in model_metrics.items():\n",
    "        final_metrics = df.iloc[-1][[\"test_loss\", \"test_accuracy\", \"test_f1\", \"test_precision\", \"test_recall\"]].values\n",
    "        table_data.append([model_name] + list(final_metrics))\n",
    "\n",
    "    # Define table headers\n",
    "    headers = [\"Model\", \"Test Loss\", \"Test Accuracy\", \"Test F1\", \"Test Precision\", \"Test Recall\"]\n",
    "\n",
    "    # Print the table\n",
    "    print(tabulate(table_data, headers=headers, tablefmt=\"fancy_grid\", floatfmt=\".4f\"))"
   ]
  },
  {
   "cell_type": "markdown",
   "id": "76dcc628db542721",
   "metadata": {},
   "source": [
    "# Link Prediction"
   ]
  },
  {
   "cell_type": "code",
   "execution_count": null,
   "id": "1e615c40dbde1a4c",
   "metadata": {},
   "outputs": [],
   "source": [
    "task = tasks[2]"
   ]
  },
  {
   "cell_type": "markdown",
   "id": "dbde9fc0b67b6055",
   "metadata": {},
   "source": [
    "## Cora"
   ]
  },
  {
   "cell_type": "code",
   "execution_count": null,
   "id": "ec6a8faa3294c525",
   "metadata": {},
   "outputs": [],
   "source": [
    "dataset = lp_datasets[0]\n",
    "paths = {model:f'{log_dir}/{task}_{model}_{dataset}/version_0/metrics.csv' for model in models}\n",
    "model_metrics= {model: pd.read_csv(path) for model, path in paths.items()}\n",
    "plot_metrics(metrics, model_metrics, dataset, save=True)"
   ]
  },
  {
   "cell_type": "code",
   "execution_count": null,
   "id": "d8fbc8c4083d2953",
   "metadata": {},
   "outputs": [],
   "source": [
    "print_test_metrics_table(model_metrics)"
   ]
  },
  {
   "cell_type": "markdown",
   "id": "10914c664e8d9d66",
   "metadata": {},
   "source": [
    "# Graph Classification"
   ]
  },
  {
   "cell_type": "code",
   "execution_count": null,
   "id": "9b106bde199e0572",
   "metadata": {},
   "outputs": [],
   "source": [
    "task = tasks[1]"
   ]
  },
  {
   "cell_type": "markdown",
   "id": "f7973b14abba7516",
   "metadata": {},
   "source": [
    "## BA-2motif"
   ]
  },
  {
   "cell_type": "code",
   "execution_count": null,
   "id": "ed2161d9b0bf9df5",
   "metadata": {},
   "outputs": [],
   "source": [
    "dataset = gc_datasets[0]\n",
    "paths = {model:f'{log_dir}/{task}_{model}_{dataset}{std}/version_0/metrics.csv' for model in models}\n",
    "model_metrics= {model: pd.read_csv(path) for model, path in paths.items()}\n",
    "plot_metrics(metrics, model_metrics, dataset, save=True)"
   ]
  },
  {
   "cell_type": "code",
   "execution_count": null,
   "id": "66d8a62aba8b9150",
   "metadata": {},
   "outputs": [],
   "source": [
    "print_test_metrics_table(model_metrics)"
   ]
  },
  {
   "cell_type": "markdown",
   "id": "34c826a372e96a9e",
   "metadata": {},
   "source": [
    "## MUTAG"
   ]
  },
  {
   "cell_type": "code",
   "execution_count": null,
   "id": "bd55ab01b5d3e9cb",
   "metadata": {},
   "outputs": [],
   "source": [
    "dataset = gc_datasets[1]\n",
    "paths = {model:f'{log_dir}/{task}_{model}_{dataset}/version_0/metrics.csv' for model in models}\n",
    "model_metrics= {model: pd.read_csv(path) for model, path in paths.items()}\n",
    "plot_metrics(metrics, model_metrics, dataset, save=True)"
   ]
  },
  {
   "cell_type": "code",
   "execution_count": null,
   "id": "27ab6101af0ca2f3",
   "metadata": {},
   "outputs": [],
   "source": [
    "print_test_metrics_table(model_metrics)"
   ]
  },
  {
   "cell_type": "markdown",
   "id": "1e0bc59300842efb",
   "metadata": {},
   "source": [
    "# Node Classification"
   ]
  },
  {
   "cell_type": "code",
   "execution_count": null,
   "id": "18128b85af57268e",
   "metadata": {},
   "outputs": [],
   "source": [
    "task = tasks[0]"
   ]
  },
  {
   "cell_type": "markdown",
   "id": "d5b6bf89fd40957b",
   "metadata": {},
   "source": [
    "## BA-Shapes"
   ]
  },
  {
   "cell_type": "code",
   "execution_count": null,
   "id": "e7e0e10c661282b0",
   "metadata": {},
   "outputs": [],
   "source": [
    "dataset = nc_datasets[0]\n",
    "paths = {model:f'{log_dir}/{task}_{model}_{dataset}{std}/version_0/metrics.csv' for model in models}\n",
    "model_metrics= {model: pd.read_csv(path) for model, path in paths.items()}\n",
    "plot_metrics(metrics, model_metrics, dataset, save=True)"
   ]
  },
  {
   "cell_type": "code",
   "execution_count": null,
   "id": "b0e924abdd4d3476",
   "metadata": {},
   "outputs": [],
   "source": [
    "print_test_metrics_table(model_metrics)"
   ]
  },
  {
   "cell_type": "markdown",
   "id": "d505c44a7fa8ca29",
   "metadata": {},
   "source": [
    "## Tree-Grid"
   ]
  },
  {
   "cell_type": "code",
   "execution_count": null,
   "id": "3383d94be4e8a724",
   "metadata": {},
   "outputs": [],
   "source": [
    "dataset = nc_datasets[1]\n",
    "paths = {model:f'{log_dir}/{task}_{model}_{dataset}{std}/version_0/metrics.csv' for model in models}\n",
    "model_metrics= {model: pd.read_csv(path) for model, path in paths.items()}\n",
    "plot_metrics(metrics, model_metrics, dataset, save=True)"
   ]
  },
  {
   "cell_type": "code",
   "execution_count": null,
   "id": "19ce1b891fa09f39",
   "metadata": {},
   "outputs": [],
   "source": [
    "print_test_metrics_table(model_metrics)"
   ]
  }
 ],
 "metadata": {
  "kernelspec": {
   "display_name": "Python 3",
   "language": "python",
   "name": "python3"
  },
  "language_info": {
   "codemirror_mode": {
    "name": "ipython",
    "version": 2
   },
   "file_extension": ".py",
   "mimetype": "text/x-python",
   "name": "python",
   "nbconvert_exporter": "python",
   "pygments_lexer": "ipython2",
   "version": "2.7.6"
  }
 },
 "nbformat": 4,
 "nbformat_minor": 5
}
